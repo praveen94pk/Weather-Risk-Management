{
 "cells": [
  {
   "cell_type": "markdown",
   "metadata": {},
   "source": [
    "# Project Name: Weather Risk Management "
   ]
  },
  {
   "cell_type": "markdown",
   "metadata": {},
   "source": [
    "## Dataset Creation "
   ]
  },
  {
   "cell_type": "markdown",
   "metadata": {},
   "source": [
    "## Description: To build our own dataset for project we scraped data from National Oceanic and Atmospheric Administration website"
   ]
  },
  {
   "cell_type": "markdown",
   "metadata": {},
   "source": [
    "## Installing Neccesary Libraries for Selenium, Dealing with Dataframes etc.,"
   ]
  },
  {
   "cell_type": "code",
   "execution_count": 1,
   "metadata": {
    "collapsed": true
   },
   "outputs": [
    {
     "name": "stdout",
     "output_type": "stream",
     "text": [
      "Requirement already satisfied: selenium in /opt/anaconda3/lib/python3.7/site-packages (3.141.0)\n",
      "Requirement already satisfied: urllib3 in /opt/anaconda3/lib/python3.7/site-packages (from selenium) (1.24.2)\n",
      "Requirement already satisfied: bs4 in /opt/anaconda3/lib/python3.7/site-packages (0.0.1)\n",
      "Requirement already satisfied: beautifulsoup4 in /opt/anaconda3/lib/python3.7/site-packages (from bs4) (4.8.0)\n",
      "Requirement already satisfied: soupsieve>=1.2 in /opt/anaconda3/lib/python3.7/site-packages (from beautifulsoup4->bs4) (1.9.3)\n",
      "Requirement already satisfied: parsel in /opt/anaconda3/lib/python3.7/site-packages (1.6.0)\n",
      "Requirement already satisfied: cssselect>=0.9 in /opt/anaconda3/lib/python3.7/site-packages (from parsel) (1.1.0)\n",
      "Requirement already satisfied: w3lib>=1.19.0 in /opt/anaconda3/lib/python3.7/site-packages (from parsel) (1.22.0)\n",
      "Requirement already satisfied: lxml in /opt/anaconda3/lib/python3.7/site-packages (from parsel) (4.4.1)\n",
      "Requirement already satisfied: six>=1.6.0 in /opt/anaconda3/lib/python3.7/site-packages (from parsel) (1.12.0)\n"
     ]
    }
   ],
   "source": [
    "! pip install selenium\n",
    "! pip install bs4\n",
    "! pip install parsel"
   ]
  },
  {
   "cell_type": "code",
   "execution_count": 2,
   "metadata": {},
   "outputs": [],
   "source": [
    "from selenium import webdriver\n",
    "from getpass import getpass\n",
    "from time import sleep\n",
    "import pandas as pd\n",
    "import numpy as np\n",
    "import re\n",
    "import requests\n",
    "from parsel import Selector\n",
    "from bs4 import BeautifulSoup"
   ]
  },
  {
   "cell_type": "markdown",
   "metadata": {},
   "source": [
    "## NOAA data Collected from different regions and stored in a dataframe  "
   ]
  },
  {
   "cell_type": "code",
   "execution_count": 3,
   "metadata": {},
   "outputs": [
    {
     "data": {
      "text/html": [
       "<div>\n",
       "<style scoped>\n",
       "    .dataframe tbody tr th:only-of-type {\n",
       "        vertical-align: middle;\n",
       "    }\n",
       "\n",
       "    .dataframe tbody tr th {\n",
       "        vertical-align: top;\n",
       "    }\n",
       "\n",
       "    .dataframe thead th {\n",
       "        text-align: right;\n",
       "    }\n",
       "</style>\n",
       "<table border=\"1\" class=\"dataframe\">\n",
       "  <thead>\n",
       "    <tr style=\"text-align: right;\">\n",
       "      <th></th>\n",
       "      <th>links</th>\n",
       "      <th>code</th>\n",
       "    </tr>\n",
       "  </thead>\n",
       "  <tbody>\n",
       "    <tr>\n",
       "      <td>0</td>\n",
       "      <td>https://www.wrh.noaa.gov/mesowest/getobext.php...</td>\n",
       "      <td>CHI</td>\n",
       "    </tr>\n",
       "    <tr>\n",
       "      <td>1</td>\n",
       "      <td>https://www.wrh.noaa.gov/mesowest/getobext.php...</td>\n",
       "      <td>FRE</td>\n",
       "    </tr>\n",
       "    <tr>\n",
       "      <td>2</td>\n",
       "      <td>https://www.wrh.noaa.gov/mesowest/getobext.php...</td>\n",
       "      <td>HOU</td>\n",
       "    </tr>\n",
       "    <tr>\n",
       "      <td>3</td>\n",
       "      <td>https://www.wrh.noaa.gov/mesowest/getobext.php...</td>\n",
       "      <td>LAX</td>\n",
       "    </tr>\n",
       "    <tr>\n",
       "      <td>4</td>\n",
       "      <td>https://www.wrh.noaa.gov/mesowest/getobext.php...</td>\n",
       "      <td>NYC</td>\n",
       "    </tr>\n",
       "    <tr>\n",
       "      <td>5</td>\n",
       "      <td>https://www.wrh.noaa.gov/mesowest/getobext.php...</td>\n",
       "      <td>PHI</td>\n",
       "    </tr>\n",
       "    <tr>\n",
       "      <td>6</td>\n",
       "      <td>https://www.wrh.noaa.gov/mesowest/getobext.php...</td>\n",
       "      <td>RAL</td>\n",
       "    </tr>\n",
       "  </tbody>\n",
       "</table>\n",
       "</div>"
      ],
      "text/plain": [
       "                                               links code\n",
       "0  https://www.wrh.noaa.gov/mesowest/getobext.php...  CHI\n",
       "1  https://www.wrh.noaa.gov/mesowest/getobext.php...  FRE\n",
       "2  https://www.wrh.noaa.gov/mesowest/getobext.php...  HOU\n",
       "3  https://www.wrh.noaa.gov/mesowest/getobext.php...  LAX\n",
       "4  https://www.wrh.noaa.gov/mesowest/getobext.php...  NYC\n",
       "5  https://www.wrh.noaa.gov/mesowest/getobext.php...  PHI\n",
       "6  https://www.wrh.noaa.gov/mesowest/getobext.php...  RAL"
      ]
     },
     "execution_count": 3,
     "metadata": {},
     "output_type": "execute_result"
    }
   ],
   "source": [
    "links=['https://www.wrh.noaa.gov/mesowest/getobext.php?wfo=riw&sid=KORD&num=150&raw=0'\n",
    "'https://www.wrh.noaa.gov/mesowest/getobext.php?wfo=riw&sid=KFAT&num=150&raw=0',\n",
    "'https://www.wrh.noaa.gov/mesowest/getobext.php?wfo=riw&sid=KIAH&num=150&raw=0',\n",
    "'https://www.wrh.noaa.gov/mesowest/getobext.php?wfo=riw&sid=KCQT&num=150&raw=0',\n",
    "'https://www.wrh.noaa.gov/mesowest/getobext.php?wfo=riw&sid=KNYC&num=150&raw=0',\n",
    "'https://www.wrh.noaa.gov/mesowest/getobext.php?wfo=riw&sid=KPHL&num=150&raw=0',\n",
    "'https://www.wrh.noaa.gov/mesowest/getobext.php?wfo=riw&sid=KRDU&num=150&raw=0',\n",
    "'https://www.wrh.noaa.gov/mesowest/getobext.php?wfo=riw&sid=KSFO&num=150&raw=0']\n",
    "\n",
    "code=['CHI',\n",
    "'FRE',\n",
    "'HOU',\n",
    "'LAX',\n",
    "'NYC',\n",
    "'PHI',\n",
    "'RAL',\n",
    "'SFO'   \n",
    "]\n",
    "website_df=pd.DataFrame()\n",
    "website_df['links']=pd.Series(links)\n",
    "website_df['code']=pd.Series(code)\n",
    "website_df"
   ]
  },
  {
   "cell_type": "markdown",
   "metadata": {},
   "source": [
    "## Path where driver is downloaded"
   ]
  },
  {
   "cell_type": "code",
   "execution_count": 5,
   "metadata": {},
   "outputs": [],
   "source": [
    "driver = webdriver.Safari()"
   ]
  },
  {
   "cell_type": "markdown",
   "metadata": {},
   "source": [
    "## Scraping the data and storing different regions in different csv's for further analysis and model building "
   ]
  },
  {
   "cell_type": "code",
   "execution_count": 6,
   "metadata": {},
   "outputs": [],
   "source": [
    "for i in range(len(website_df['links'])):\n",
    "    url=website_df.iloc[i,0]\n",
    "    driver.get(url)\n",
    "    sleep(50)\n",
    "    res = driver.execute_script('return document.documentElement.outerHTML')\n",
    "    soup = BeautifulSoup (res, \"lxml\")\n",
    "    div_main = soup.find_all('div', {'id': 'timeseries'})[0]\n",
    "    table_one = div_main.find('table')\n",
    "  \n",
    "    headers = [header.text.strip() for header in table_one.find_all('th')]\n",
    "\n",
    "    rows=[]\n",
    "    for row in table_one.find_all('tr'):\n",
    "        rows.append([val.text.rstrip() for val in row.find_all('td')])\n",
    "\n",
    "    new_df=pd.DataFrame(rows,columns=headers)\n",
    "\n",
    "    #name=website_df.iloc[i, 2]\n",
    "    new_df\n",
    "    new_df=new_df.drop(new_df.index[0])\n",
    "    new_df.to_csv('wrh'+str(website_df.iloc[i,1])+'.csv')"
   ]
  },
  {
   "cell_type": "code",
   "execution_count": null,
   "metadata": {},
   "outputs": [],
   "source": [
    "new_df"
   ]
  }
 ],
 "metadata": {
  "kernelspec": {
   "display_name": "Python 3",
   "language": "python",
   "name": "python3"
  },
  "language_info": {
   "codemirror_mode": {
    "name": "ipython",
    "version": 3
   },
   "file_extension": ".py",
   "mimetype": "text/x-python",
   "name": "python",
   "nbconvert_exporter": "python",
   "pygments_lexer": "ipython3",
   "version": "3.7.4"
  }
 },
 "nbformat": 4,
 "nbformat_minor": 2
}
