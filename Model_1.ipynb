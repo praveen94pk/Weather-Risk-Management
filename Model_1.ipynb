{
 "cells": [
  {
   "cell_type": "markdown",
   "metadata": {},
   "source": [
    "# Project Name: Weather Risk Management "
   ]
  },
  {
   "cell_type": "markdown",
   "metadata": {},
   "source": [
    "## Model Number : 1"
   ]
  },
  {
   "cell_type": "markdown",
   "metadata": {},
   "source": [
    "## Description: Model for Predicting the Temperature from the National Oceanic and Atmospheric Administration data scraped from NOAA website"
   ]
  },
  {
   "cell_type": "markdown",
   "metadata": {},
   "source": [
    "## Installing Necesaary Libraries for Plotting Graphs, Dealing with Datasets etc.,"
   ]
  },
  {
   "cell_type": "code",
   "execution_count": 1,
   "metadata": {},
   "outputs": [],
   "source": [
    "import numpy as np \n",
    "import pandas as pd\n",
    "import seaborn as sns\n",
    "import matplotlib.pyplot as plt\n",
    "plt.rcParams['figure.figsize']= (20,7)"
   ]
  },
  {
   "cell_type": "code",
   "execution_count": 2,
   "metadata": {},
   "outputs": [],
   "source": [
    "dataset= pd.read_csv('wrhCHI.csv')"
   ]
  },
  {
   "cell_type": "code",
   "execution_count": 3,
   "metadata": {},
   "outputs": [
    {
     "data": {
      "text/html": [
       "<div>\n",
       "<style scoped>\n",
       "    .dataframe tbody tr th:only-of-type {\n",
       "        vertical-align: middle;\n",
       "    }\n",
       "\n",
       "    .dataframe tbody tr th {\n",
       "        vertical-align: top;\n",
       "    }\n",
       "\n",
       "    .dataframe thead th {\n",
       "        text-align: right;\n",
       "    }\n",
       "</style>\n",
       "<table border=\"1\" class=\"dataframe\">\n",
       "  <thead>\n",
       "    <tr style=\"text-align: right;\">\n",
       "      <th></th>\n",
       "      <th>Unnamed: 0</th>\n",
       "      <th>Date(PDT)</th>\n",
       "      <th>Temp(F)</th>\n",
       "      <th>DewPoint(F)</th>\n",
       "      <th>RelativeHumidity(%)</th>\n",
       "      <th>WindDirection</th>\n",
       "      <th>WindSpeed(MPH)</th>\n",
       "      <th>Visibility(miles)</th>\n",
       "      <th>Weather</th>\n",
       "      <th>Clouds</th>\n",
       "      <th>StationPressure(inches)</th>\n",
       "      <th>Sea LevelPressure(mb)</th>\n",
       "      <th>AltimeterSetting(inches)</th>\n",
       "      <th>6 HrMax(F)</th>\n",
       "      <th>6 HrMin(F)</th>\n",
       "      <th>24 HrMax(F)</th>\n",
       "      <th>24 HrMin(F)</th>\n",
       "    </tr>\n",
       "  </thead>\n",
       "  <tbody>\n",
       "    <tr>\n",
       "      <th>0</th>\n",
       "      <td>1</td>\n",
       "      <td>26 Oct 11:53 am</td>\n",
       "      <td>58</td>\n",
       "      <td>29</td>\n",
       "      <td>33</td>\n",
       "      <td>WNW</td>\n",
       "      <td>6</td>\n",
       "      <td>10.0</td>\n",
       "      <td>NaN</td>\n",
       "      <td>FEW060,OVC200</td>\n",
       "      <td>29.81</td>\n",
       "      <td>1021.3</td>\n",
       "      <td>30.17</td>\n",
       "      <td>NaN</td>\n",
       "      <td>NaN</td>\n",
       "      <td>NaN</td>\n",
       "      <td>NaN</td>\n",
       "    </tr>\n",
       "    <tr>\n",
       "      <th>1</th>\n",
       "      <td>2</td>\n",
       "      <td>26 Oct 10:53 am</td>\n",
       "      <td>57</td>\n",
       "      <td>29</td>\n",
       "      <td>34</td>\n",
       "      <td>WNW</td>\n",
       "      <td>3</td>\n",
       "      <td>10.0</td>\n",
       "      <td>NaN</td>\n",
       "      <td>FEW050,BKN200</td>\n",
       "      <td>29.80</td>\n",
       "      <td>1021.3</td>\n",
       "      <td>30.16</td>\n",
       "      <td>57.0</td>\n",
       "      <td>48.0</td>\n",
       "      <td>NaN</td>\n",
       "      <td>NaN</td>\n",
       "    </tr>\n",
       "  </tbody>\n",
       "</table>\n",
       "</div>"
      ],
      "text/plain": [
       "   Unnamed: 0        Date(PDT)  Temp(F)  DewPoint(F)  RelativeHumidity(%)  \\\n",
       "0           1  26 Oct 11:53 am       58           29                   33   \n",
       "1           2  26 Oct 10:53 am       57           29                   34   \n",
       "\n",
       "  WindDirection WindSpeed(MPH)  Visibility(miles) Weather         Clouds  \\\n",
       "0           WNW              6               10.0     NaN  FEW060,OVC200   \n",
       "1           WNW              3               10.0     NaN  FEW050,BKN200   \n",
       "\n",
       "   StationPressure(inches)  Sea LevelPressure(mb)  AltimeterSetting(inches)  \\\n",
       "0                    29.81                 1021.3                     30.17   \n",
       "1                    29.80                 1021.3                     30.16   \n",
       "\n",
       "   6 HrMax(F)  6 HrMin(F)  24 HrMax(F)  24 HrMin(F)  \n",
       "0         NaN         NaN          NaN          NaN  \n",
       "1        57.0        48.0          NaN          NaN  "
      ]
     },
     "execution_count": 3,
     "metadata": {},
     "output_type": "execute_result"
    }
   ],
   "source": [
    "dataset.head(2)"
   ]
  },
  {
   "cell_type": "markdown",
   "metadata": {},
   "source": [
    "## MongoDB API and Storing the Data Frame in to the MongoDB"
   ]
  },
  {
   "cell_type": "code",
   "execution_count": 7,
   "metadata": {},
   "outputs": [],
   "source": [
    "dataset_json= dataset.to_json(orient= 'records')"
   ]
  },
  {
   "cell_type": "code",
   "execution_count": 9,
   "metadata": {},
   "outputs": [],
   "source": [
    "from bson import json_util\n",
    "data = json_util.loads(dataset_json)"
   ]
  },
  {
   "cell_type": "code",
   "execution_count": 10,
   "metadata": {},
   "outputs": [
    {
     "name": "stderr",
     "output_type": "stream",
     "text": [
      "C:\\Users\\saikarthik\\AppData\\Local\\Programs\\Python\\Python37-32\\lib\\site-packages\\ipykernel_launcher.py:8: DeprecationWarning: insert is deprecated. Use insert_one or insert_many instead.\n",
      "  \n"
     ]
    },
    {
     "data": {
      "text/plain": [
       "[ObjectId('5fdd41a7fdff00f8d661779c'),\n",
       " ObjectId('5fdd41a7fdff00f8d661779d'),\n",
       " ObjectId('5fdd41a7fdff00f8d661779e'),\n",
       " ObjectId('5fdd41a7fdff00f8d661779f'),\n",
       " ObjectId('5fdd41a7fdff00f8d66177a0'),\n",
       " ObjectId('5fdd41a7fdff00f8d66177a1'),\n",
       " ObjectId('5fdd41a7fdff00f8d66177a2'),\n",
       " ObjectId('5fdd41a7fdff00f8d66177a3'),\n",
       " ObjectId('5fdd41a7fdff00f8d66177a4'),\n",
       " ObjectId('5fdd41a7fdff00f8d66177a5'),\n",
       " ObjectId('5fdd41a7fdff00f8d66177a6'),\n",
       " ObjectId('5fdd41a7fdff00f8d66177a7'),\n",
       " ObjectId('5fdd41a7fdff00f8d66177a8'),\n",
       " ObjectId('5fdd41a7fdff00f8d66177a9'),\n",
       " ObjectId('5fdd41a7fdff00f8d66177aa'),\n",
       " ObjectId('5fdd41a7fdff00f8d66177ab'),\n",
       " ObjectId('5fdd41a7fdff00f8d66177ac'),\n",
       " ObjectId('5fdd41a7fdff00f8d66177ad'),\n",
       " ObjectId('5fdd41a7fdff00f8d66177ae'),\n",
       " ObjectId('5fdd41a7fdff00f8d66177af'),\n",
       " ObjectId('5fdd41a7fdff00f8d66177b0'),\n",
       " ObjectId('5fdd41a7fdff00f8d66177b1'),\n",
       " ObjectId('5fdd41a7fdff00f8d66177b2'),\n",
       " ObjectId('5fdd41a7fdff00f8d66177b3'),\n",
       " ObjectId('5fdd41a7fdff00f8d66177b4'),\n",
       " ObjectId('5fdd41a7fdff00f8d66177b5'),\n",
       " ObjectId('5fdd41a7fdff00f8d66177b6'),\n",
       " ObjectId('5fdd41a7fdff00f8d66177b7'),\n",
       " ObjectId('5fdd41a7fdff00f8d66177b8'),\n",
       " ObjectId('5fdd41a7fdff00f8d66177b9'),\n",
       " ObjectId('5fdd41a7fdff00f8d66177ba'),\n",
       " ObjectId('5fdd41a7fdff00f8d66177bb'),\n",
       " ObjectId('5fdd41a7fdff00f8d66177bc'),\n",
       " ObjectId('5fdd41a7fdff00f8d66177bd'),\n",
       " ObjectId('5fdd41a7fdff00f8d66177be'),\n",
       " ObjectId('5fdd41a7fdff00f8d66177bf'),\n",
       " ObjectId('5fdd41a7fdff00f8d66177c0'),\n",
       " ObjectId('5fdd41a7fdff00f8d66177c1'),\n",
       " ObjectId('5fdd41a7fdff00f8d66177c2'),\n",
       " ObjectId('5fdd41a7fdff00f8d66177c3'),\n",
       " ObjectId('5fdd41a7fdff00f8d66177c4'),\n",
       " ObjectId('5fdd41a7fdff00f8d66177c5'),\n",
       " ObjectId('5fdd41a7fdff00f8d66177c6'),\n",
       " ObjectId('5fdd41a7fdff00f8d66177c7'),\n",
       " ObjectId('5fdd41a7fdff00f8d66177c8'),\n",
       " ObjectId('5fdd41a7fdff00f8d66177c9'),\n",
       " ObjectId('5fdd41a7fdff00f8d66177ca'),\n",
       " ObjectId('5fdd41a7fdff00f8d66177cb'),\n",
       " ObjectId('5fdd41a7fdff00f8d66177cc'),\n",
       " ObjectId('5fdd41a7fdff00f8d66177cd'),\n",
       " ObjectId('5fdd41a7fdff00f8d66177ce'),\n",
       " ObjectId('5fdd41a7fdff00f8d66177cf'),\n",
       " ObjectId('5fdd41a7fdff00f8d66177d0'),\n",
       " ObjectId('5fdd41a7fdff00f8d66177d1'),\n",
       " ObjectId('5fdd41a7fdff00f8d66177d2'),\n",
       " ObjectId('5fdd41a7fdff00f8d66177d3'),\n",
       " ObjectId('5fdd41a7fdff00f8d66177d4'),\n",
       " ObjectId('5fdd41a7fdff00f8d66177d5'),\n",
       " ObjectId('5fdd41a7fdff00f8d66177d6'),\n",
       " ObjectId('5fdd41a7fdff00f8d66177d7'),\n",
       " ObjectId('5fdd41a7fdff00f8d66177d8'),\n",
       " ObjectId('5fdd41a7fdff00f8d66177d9'),\n",
       " ObjectId('5fdd41a7fdff00f8d66177da'),\n",
       " ObjectId('5fdd41a7fdff00f8d66177db'),\n",
       " ObjectId('5fdd41a7fdff00f8d66177dc'),\n",
       " ObjectId('5fdd41a7fdff00f8d66177dd'),\n",
       " ObjectId('5fdd41a7fdff00f8d66177de'),\n",
       " ObjectId('5fdd41a7fdff00f8d66177df'),\n",
       " ObjectId('5fdd41a7fdff00f8d66177e0'),\n",
       " ObjectId('5fdd41a7fdff00f8d66177e1'),\n",
       " ObjectId('5fdd41a7fdff00f8d66177e2'),\n",
       " ObjectId('5fdd41a7fdff00f8d66177e3'),\n",
       " ObjectId('5fdd41a7fdff00f8d66177e4'),\n",
       " ObjectId('5fdd41a7fdff00f8d66177e5'),\n",
       " ObjectId('5fdd41a7fdff00f8d66177e6'),\n",
       " ObjectId('5fdd41a7fdff00f8d66177e7'),\n",
       " ObjectId('5fdd41a7fdff00f8d66177e8'),\n",
       " ObjectId('5fdd41a7fdff00f8d66177e9'),\n",
       " ObjectId('5fdd41a7fdff00f8d66177ea'),\n",
       " ObjectId('5fdd41a7fdff00f8d66177eb'),\n",
       " ObjectId('5fdd41a7fdff00f8d66177ec'),\n",
       " ObjectId('5fdd41a7fdff00f8d66177ed'),\n",
       " ObjectId('5fdd41a7fdff00f8d66177ee'),\n",
       " ObjectId('5fdd41a7fdff00f8d66177ef'),\n",
       " ObjectId('5fdd41a7fdff00f8d66177f0'),\n",
       " ObjectId('5fdd41a7fdff00f8d66177f1'),\n",
       " ObjectId('5fdd41a7fdff00f8d66177f2'),\n",
       " ObjectId('5fdd41a7fdff00f8d66177f3'),\n",
       " ObjectId('5fdd41a7fdff00f8d66177f4'),\n",
       " ObjectId('5fdd41a7fdff00f8d66177f5'),\n",
       " ObjectId('5fdd41a7fdff00f8d66177f6'),\n",
       " ObjectId('5fdd41a7fdff00f8d66177f7'),\n",
       " ObjectId('5fdd41a7fdff00f8d66177f8'),\n",
       " ObjectId('5fdd41a7fdff00f8d66177f9'),\n",
       " ObjectId('5fdd41a7fdff00f8d66177fa'),\n",
       " ObjectId('5fdd41a7fdff00f8d66177fb'),\n",
       " ObjectId('5fdd41a7fdff00f8d66177fc'),\n",
       " ObjectId('5fdd41a7fdff00f8d66177fd'),\n",
       " ObjectId('5fdd41a7fdff00f8d66177fe'),\n",
       " ObjectId('5fdd41a7fdff00f8d66177ff'),\n",
       " ObjectId('5fdd41a7fdff00f8d6617800'),\n",
       " ObjectId('5fdd41a7fdff00f8d6617801'),\n",
       " ObjectId('5fdd41a7fdff00f8d6617802'),\n",
       " ObjectId('5fdd41a7fdff00f8d6617803'),\n",
       " ObjectId('5fdd41a7fdff00f8d6617804'),\n",
       " ObjectId('5fdd41a7fdff00f8d6617805'),\n",
       " ObjectId('5fdd41a7fdff00f8d6617806'),\n",
       " ObjectId('5fdd41a7fdff00f8d6617807'),\n",
       " ObjectId('5fdd41a7fdff00f8d6617808'),\n",
       " ObjectId('5fdd41a7fdff00f8d6617809'),\n",
       " ObjectId('5fdd41a7fdff00f8d661780a'),\n",
       " ObjectId('5fdd41a7fdff00f8d661780b'),\n",
       " ObjectId('5fdd41a7fdff00f8d661780c'),\n",
       " ObjectId('5fdd41a7fdff00f8d661780d'),\n",
       " ObjectId('5fdd41a7fdff00f8d661780e'),\n",
       " ObjectId('5fdd41a7fdff00f8d661780f'),\n",
       " ObjectId('5fdd41a7fdff00f8d6617810'),\n",
       " ObjectId('5fdd41a7fdff00f8d6617811'),\n",
       " ObjectId('5fdd41a7fdff00f8d6617812'),\n",
       " ObjectId('5fdd41a7fdff00f8d6617813'),\n",
       " ObjectId('5fdd41a7fdff00f8d6617814'),\n",
       " ObjectId('5fdd41a7fdff00f8d6617815'),\n",
       " ObjectId('5fdd41a7fdff00f8d6617816'),\n",
       " ObjectId('5fdd41a7fdff00f8d6617817'),\n",
       " ObjectId('5fdd41a7fdff00f8d6617818'),\n",
       " ObjectId('5fdd41a7fdff00f8d6617819'),\n",
       " ObjectId('5fdd41a7fdff00f8d661781a'),\n",
       " ObjectId('5fdd41a7fdff00f8d661781b'),\n",
       " ObjectId('5fdd41a7fdff00f8d661781c'),\n",
       " ObjectId('5fdd41a7fdff00f8d661781d'),\n",
       " ObjectId('5fdd41a7fdff00f8d661781e'),\n",
       " ObjectId('5fdd41a7fdff00f8d661781f'),\n",
       " ObjectId('5fdd41a7fdff00f8d6617820'),\n",
       " ObjectId('5fdd41a7fdff00f8d6617821'),\n",
       " ObjectId('5fdd41a7fdff00f8d6617822'),\n",
       " ObjectId('5fdd41a7fdff00f8d6617823'),\n",
       " ObjectId('5fdd41a7fdff00f8d6617824'),\n",
       " ObjectId('5fdd41a7fdff00f8d6617825'),\n",
       " ObjectId('5fdd41a7fdff00f8d6617826'),\n",
       " ObjectId('5fdd41a7fdff00f8d6617827'),\n",
       " ObjectId('5fdd41a7fdff00f8d6617828'),\n",
       " ObjectId('5fdd41a7fdff00f8d6617829'),\n",
       " ObjectId('5fdd41a7fdff00f8d661782a'),\n",
       " ObjectId('5fdd41a7fdff00f8d661782b'),\n",
       " ObjectId('5fdd41a7fdff00f8d661782c'),\n",
       " ObjectId('5fdd41a7fdff00f8d661782d'),\n",
       " ObjectId('5fdd41a7fdff00f8d661782e'),\n",
       " ObjectId('5fdd41a7fdff00f8d661782f'),\n",
       " ObjectId('5fdd41a7fdff00f8d6617830'),\n",
       " ObjectId('5fdd41a7fdff00f8d6617831')]"
      ]
     },
     "execution_count": 10,
     "metadata": {},
     "output_type": "execute_result"
    }
   ],
   "source": [
    "import pymongo \n",
    "mng_client = pymongo.MongoClient('localhost', 27017)\n",
    "mng_db = mng_client['noaa'] \n",
    "collection_name = 'noaa_data'\n",
    "db_cm = mng_db[collection_name]\n",
    " \n",
    "#Insert Data\n",
    "db_cm.insert(data)"
   ]
  },
  {
   "cell_type": "markdown",
   "metadata": {},
   "source": [
    "## Initial Descriptive Analysis of NOAA Data"
   ]
  },
  {
   "cell_type": "code",
   "execution_count": 11,
   "metadata": {},
   "outputs": [
    {
     "data": {
      "text/html": [
       "<div>\n",
       "<style scoped>\n",
       "    .dataframe tbody tr th:only-of-type {\n",
       "        vertical-align: middle;\n",
       "    }\n",
       "\n",
       "    .dataframe tbody tr th {\n",
       "        vertical-align: top;\n",
       "    }\n",
       "\n",
       "    .dataframe thead th {\n",
       "        text-align: right;\n",
       "    }\n",
       "</style>\n",
       "<table border=\"1\" class=\"dataframe\">\n",
       "  <thead>\n",
       "    <tr style=\"text-align: right;\">\n",
       "      <th></th>\n",
       "      <th>Unnamed: 0</th>\n",
       "      <th>Temp(F)</th>\n",
       "      <th>DewPoint(F)</th>\n",
       "      <th>RelativeHumidity(%)</th>\n",
       "      <th>Visibility(miles)</th>\n",
       "      <th>StationPressure(inches)</th>\n",
       "      <th>Sea LevelPressure(mb)</th>\n",
       "      <th>AltimeterSetting(inches)</th>\n",
       "      <th>6 HrMax(F)</th>\n",
       "      <th>6 HrMin(F)</th>\n",
       "      <th>24 HrMax(F)</th>\n",
       "      <th>24 HrMin(F)</th>\n",
       "    </tr>\n",
       "  </thead>\n",
       "  <tbody>\n",
       "    <tr>\n",
       "      <th>count</th>\n",
       "      <td>150.000000</td>\n",
       "      <td>150.000000</td>\n",
       "      <td>150.000000</td>\n",
       "      <td>150.000000</td>\n",
       "      <td>150.000000</td>\n",
       "      <td>150.000000</td>\n",
       "      <td>150.00000</td>\n",
       "      <td>150.000000</td>\n",
       "      <td>25.000000</td>\n",
       "      <td>25.000000</td>\n",
       "      <td>6.000000</td>\n",
       "      <td>6.000000</td>\n",
       "    </tr>\n",
       "    <tr>\n",
       "      <th>mean</th>\n",
       "      <td>75.500000</td>\n",
       "      <td>66.946667</td>\n",
       "      <td>43.286667</td>\n",
       "      <td>44.653333</td>\n",
       "      <td>8.973333</td>\n",
       "      <td>29.530267</td>\n",
       "      <td>1011.80600</td>\n",
       "      <td>29.888133</td>\n",
       "      <td>73.440000</td>\n",
       "      <td>61.240000</td>\n",
       "      <td>81.000000</td>\n",
       "      <td>56.500000</td>\n",
       "    </tr>\n",
       "    <tr>\n",
       "      <th>std</th>\n",
       "      <td>43.445368</td>\n",
       "      <td>9.738036</td>\n",
       "      <td>6.027161</td>\n",
       "      <td>13.897992</td>\n",
       "      <td>1.694629</td>\n",
       "      <td>0.078986</td>\n",
       "      <td>2.81435</td>\n",
       "      <td>0.081524</td>\n",
       "      <td>9.201811</td>\n",
       "      <td>7.400901</td>\n",
       "      <td>6.324555</td>\n",
       "      <td>3.563706</td>\n",
       "    </tr>\n",
       "    <tr>\n",
       "      <th>min</th>\n",
       "      <td>1.000000</td>\n",
       "      <td>48.000000</td>\n",
       "      <td>24.000000</td>\n",
       "      <td>21.000000</td>\n",
       "      <td>4.000000</td>\n",
       "      <td>29.400000</td>\n",
       "      <td>1007.10000</td>\n",
       "      <td>29.750000</td>\n",
       "      <td>57.000000</td>\n",
       "      <td>48.000000</td>\n",
       "      <td>71.000000</td>\n",
       "      <td>52.000000</td>\n",
       "    </tr>\n",
       "    <tr>\n",
       "      <th>25%</th>\n",
       "      <td>38.250000</td>\n",
       "      <td>60.000000</td>\n",
       "      <td>41.000000</td>\n",
       "      <td>34.250000</td>\n",
       "      <td>8.000000</td>\n",
       "      <td>29.470000</td>\n",
       "      <td>1009.80000</td>\n",
       "      <td>29.830000</td>\n",
       "      <td>67.000000</td>\n",
       "      <td>56.000000</td>\n",
       "      <td>77.750000</td>\n",
       "      <td>54.000000</td>\n",
       "    </tr>\n",
       "    <tr>\n",
       "      <th>50%</th>\n",
       "      <td>75.500000</td>\n",
       "      <td>66.000000</td>\n",
       "      <td>45.000000</td>\n",
       "      <td>44.000000</td>\n",
       "      <td>10.000000</td>\n",
       "      <td>29.520000</td>\n",
       "      <td>1011.50000</td>\n",
       "      <td>29.880000</td>\n",
       "      <td>74.000000</td>\n",
       "      <td>61.000000</td>\n",
       "      <td>82.000000</td>\n",
       "      <td>56.500000</td>\n",
       "    </tr>\n",
       "    <tr>\n",
       "      <th>75%</th>\n",
       "      <td>112.750000</td>\n",
       "      <td>74.750000</td>\n",
       "      <td>48.000000</td>\n",
       "      <td>53.750000</td>\n",
       "      <td>10.000000</td>\n",
       "      <td>29.570000</td>\n",
       "      <td>1013.30000</td>\n",
       "      <td>29.930000</td>\n",
       "      <td>80.000000</td>\n",
       "      <td>66.000000</td>\n",
       "      <td>85.500000</td>\n",
       "      <td>59.750000</td>\n",
       "    </tr>\n",
       "    <tr>\n",
       "      <th>max</th>\n",
       "      <td>150.000000</td>\n",
       "      <td>88.000000</td>\n",
       "      <td>50.000000</td>\n",
       "      <td>80.000000</td>\n",
       "      <td>10.000000</td>\n",
       "      <td>29.810000</td>\n",
       "      <td>1021.30000</td>\n",
       "      <td>30.170000</td>\n",
       "      <td>88.000000</td>\n",
       "      <td>76.000000</td>\n",
       "      <td>88.000000</td>\n",
       "      <td>60.000000</td>\n",
       "    </tr>\n",
       "  </tbody>\n",
       "</table>\n",
       "</div>"
      ],
      "text/plain": [
       "       Unnamed: 0     Temp(F)  DewPoint(F)  RelativeHumidity(%)  \\\n",
       "count  150.000000  150.000000   150.000000           150.000000   \n",
       "mean    75.500000   66.946667    43.286667            44.653333   \n",
       "std     43.445368    9.738036     6.027161            13.897992   \n",
       "min      1.000000   48.000000    24.000000            21.000000   \n",
       "25%     38.250000   60.000000    41.000000            34.250000   \n",
       "50%     75.500000   66.000000    45.000000            44.000000   \n",
       "75%    112.750000   74.750000    48.000000            53.750000   \n",
       "max    150.000000   88.000000    50.000000            80.000000   \n",
       "\n",
       "       Visibility(miles)  StationPressure(inches)  Sea LevelPressure(mb)  \\\n",
       "count         150.000000               150.000000              150.00000   \n",
       "mean            8.973333                29.530267             1011.80600   \n",
       "std             1.694629                 0.078986                2.81435   \n",
       "min             4.000000                29.400000             1007.10000   \n",
       "25%             8.000000                29.470000             1009.80000   \n",
       "50%            10.000000                29.520000             1011.50000   \n",
       "75%            10.000000                29.570000             1013.30000   \n",
       "max            10.000000                29.810000             1021.30000   \n",
       "\n",
       "       AltimeterSetting(inches)  6 HrMax(F)  6 HrMin(F)  24 HrMax(F)  \\\n",
       "count                150.000000   25.000000   25.000000     6.000000   \n",
       "mean                  29.888133   73.440000   61.240000    81.000000   \n",
       "std                    0.081524    9.201811    7.400901     6.324555   \n",
       "min                   29.750000   57.000000   48.000000    71.000000   \n",
       "25%                   29.830000   67.000000   56.000000    77.750000   \n",
       "50%                   29.880000   74.000000   61.000000    82.000000   \n",
       "75%                   29.930000   80.000000   66.000000    85.500000   \n",
       "max                   30.170000   88.000000   76.000000    88.000000   \n",
       "\n",
       "       24 HrMin(F)  \n",
       "count     6.000000  \n",
       "mean     56.500000  \n",
       "std       3.563706  \n",
       "min      52.000000  \n",
       "25%      54.000000  \n",
       "50%      56.500000  \n",
       "75%      59.750000  \n",
       "max      60.000000  "
      ]
     },
     "execution_count": 11,
     "metadata": {},
     "output_type": "execute_result"
    }
   ],
   "source": [
    "dataset.describe()"
   ]
  },
  {
   "cell_type": "markdown",
   "metadata": {},
   "source": [
    "## Finding Correlation Value Between Variables "
   ]
  },
  {
   "cell_type": "code",
   "execution_count": 12,
   "metadata": {},
   "outputs": [
    {
     "data": {
      "text/html": [
       "<div>\n",
       "<style scoped>\n",
       "    .dataframe tbody tr th:only-of-type {\n",
       "        vertical-align: middle;\n",
       "    }\n",
       "\n",
       "    .dataframe tbody tr th {\n",
       "        vertical-align: top;\n",
       "    }\n",
       "\n",
       "    .dataframe thead th {\n",
       "        text-align: right;\n",
       "    }\n",
       "</style>\n",
       "<table border=\"1\" class=\"dataframe\">\n",
       "  <thead>\n",
       "    <tr style=\"text-align: right;\">\n",
       "      <th></th>\n",
       "      <th>Unnamed: 0</th>\n",
       "      <th>Temp(F)</th>\n",
       "      <th>DewPoint(F)</th>\n",
       "      <th>RelativeHumidity(%)</th>\n",
       "      <th>Visibility(miles)</th>\n",
       "      <th>StationPressure(inches)</th>\n",
       "      <th>Sea LevelPressure(mb)</th>\n",
       "      <th>AltimeterSetting(inches)</th>\n",
       "      <th>6 HrMax(F)</th>\n",
       "      <th>6 HrMin(F)</th>\n",
       "      <th>24 HrMax(F)</th>\n",
       "      <th>24 HrMin(F)</th>\n",
       "    </tr>\n",
       "  </thead>\n",
       "  <tbody>\n",
       "    <tr>\n",
       "      <th>Unnamed: 0</th>\n",
       "      <td>1.000000</td>\n",
       "      <td>0.543356</td>\n",
       "      <td>0.430759</td>\n",
       "      <td>-0.255639</td>\n",
       "      <td>-0.435098</td>\n",
       "      <td>-0.641199</td>\n",
       "      <td>-0.653154</td>\n",
       "      <td>-0.643013</td>\n",
       "      <td>0.644779</td>\n",
       "      <td>0.593608</td>\n",
       "      <td>0.980379</td>\n",
       "      <td>0.944941</td>\n",
       "    </tr>\n",
       "    <tr>\n",
       "      <th>Temp(F)</th>\n",
       "      <td>0.543356</td>\n",
       "      <td>1.000000</td>\n",
       "      <td>0.403797</td>\n",
       "      <td>-0.709070</td>\n",
       "      <td>-0.024895</td>\n",
       "      <td>-0.576998</td>\n",
       "      <td>-0.586172</td>\n",
       "      <td>-0.580740</td>\n",
       "      <td>0.766780</td>\n",
       "      <td>0.794199</td>\n",
       "      <td>0.973064</td>\n",
       "      <td>0.863455</td>\n",
       "    </tr>\n",
       "    <tr>\n",
       "      <th>DewPoint(F)</th>\n",
       "      <td>0.430759</td>\n",
       "      <td>0.403797</td>\n",
       "      <td>1.000000</td>\n",
       "      <td>0.335701</td>\n",
       "      <td>-0.177976</td>\n",
       "      <td>-0.695884</td>\n",
       "      <td>-0.689976</td>\n",
       "      <td>-0.690044</td>\n",
       "      <td>0.506408</td>\n",
       "      <td>0.462839</td>\n",
       "      <td>0.638000</td>\n",
       "      <td>0.513185</td>\n",
       "    </tr>\n",
       "    <tr>\n",
       "      <th>RelativeHumidity(%)</th>\n",
       "      <td>-0.255639</td>\n",
       "      <td>-0.709070</td>\n",
       "      <td>0.335701</td>\n",
       "      <td>1.000000</td>\n",
       "      <td>-0.073060</td>\n",
       "      <td>0.076079</td>\n",
       "      <td>0.089382</td>\n",
       "      <td>0.083479</td>\n",
       "      <td>-0.417261</td>\n",
       "      <td>-0.448949</td>\n",
       "      <td>0.188052</td>\n",
       "      <td>0.094200</td>\n",
       "    </tr>\n",
       "    <tr>\n",
       "      <th>Visibility(miles)</th>\n",
       "      <td>-0.435098</td>\n",
       "      <td>-0.024895</td>\n",
       "      <td>-0.177976</td>\n",
       "      <td>-0.073060</td>\n",
       "      <td>1.000000</td>\n",
       "      <td>0.211645</td>\n",
       "      <td>0.209568</td>\n",
       "      <td>0.207558</td>\n",
       "      <td>0.064501</td>\n",
       "      <td>0.113423</td>\n",
       "      <td>-0.387298</td>\n",
       "      <td>-0.481140</td>\n",
       "    </tr>\n",
       "    <tr>\n",
       "      <th>StationPressure(inches)</th>\n",
       "      <td>-0.641199</td>\n",
       "      <td>-0.576998</td>\n",
       "      <td>-0.695884</td>\n",
       "      <td>0.076079</td>\n",
       "      <td>0.211645</td>\n",
       "      <td>1.000000</td>\n",
       "      <td>0.998482</td>\n",
       "      <td>0.999188</td>\n",
       "      <td>-0.681414</td>\n",
       "      <td>-0.763905</td>\n",
       "      <td>-0.739284</td>\n",
       "      <td>-0.864929</td>\n",
       "    </tr>\n",
       "    <tr>\n",
       "      <th>Sea LevelPressure(mb)</th>\n",
       "      <td>-0.653154</td>\n",
       "      <td>-0.586172</td>\n",
       "      <td>-0.689976</td>\n",
       "      <td>0.089382</td>\n",
       "      <td>0.209568</td>\n",
       "      <td>0.998482</td>\n",
       "      <td>1.000000</td>\n",
       "      <td>0.999227</td>\n",
       "      <td>-0.688170</td>\n",
       "      <td>-0.771568</td>\n",
       "      <td>-0.746892</td>\n",
       "      <td>-0.870544</td>\n",
       "    </tr>\n",
       "    <tr>\n",
       "      <th>AltimeterSetting(inches)</th>\n",
       "      <td>-0.643013</td>\n",
       "      <td>-0.580740</td>\n",
       "      <td>-0.690044</td>\n",
       "      <td>0.083479</td>\n",
       "      <td>0.207558</td>\n",
       "      <td>0.999188</td>\n",
       "      <td>0.999227</td>\n",
       "      <td>1.000000</td>\n",
       "      <td>-0.685067</td>\n",
       "      <td>-0.771428</td>\n",
       "      <td>-0.731344</td>\n",
       "      <td>-0.857272</td>\n",
       "    </tr>\n",
       "    <tr>\n",
       "      <th>6 HrMax(F)</th>\n",
       "      <td>0.644779</td>\n",
       "      <td>0.766780</td>\n",
       "      <td>0.506408</td>\n",
       "      <td>-0.417261</td>\n",
       "      <td>0.064501</td>\n",
       "      <td>-0.681414</td>\n",
       "      <td>-0.688170</td>\n",
       "      <td>-0.685067</td>\n",
       "      <td>1.000000</td>\n",
       "      <td>0.927755</td>\n",
       "      <td>NaN</td>\n",
       "      <td>NaN</td>\n",
       "    </tr>\n",
       "    <tr>\n",
       "      <th>6 HrMin(F)</th>\n",
       "      <td>0.593608</td>\n",
       "      <td>0.794199</td>\n",
       "      <td>0.462839</td>\n",
       "      <td>-0.448949</td>\n",
       "      <td>0.113423</td>\n",
       "      <td>-0.763905</td>\n",
       "      <td>-0.771568</td>\n",
       "      <td>-0.771428</td>\n",
       "      <td>0.927755</td>\n",
       "      <td>1.000000</td>\n",
       "      <td>NaN</td>\n",
       "      <td>NaN</td>\n",
       "    </tr>\n",
       "    <tr>\n",
       "      <th>24 HrMax(F)</th>\n",
       "      <td>0.980379</td>\n",
       "      <td>0.973064</td>\n",
       "      <td>0.638000</td>\n",
       "      <td>0.188052</td>\n",
       "      <td>-0.387298</td>\n",
       "      <td>-0.739284</td>\n",
       "      <td>-0.746892</td>\n",
       "      <td>-0.731344</td>\n",
       "      <td>NaN</td>\n",
       "      <td>NaN</td>\n",
       "      <td>1.000000</td>\n",
       "      <td>0.949471</td>\n",
       "    </tr>\n",
       "    <tr>\n",
       "      <th>24 HrMin(F)</th>\n",
       "      <td>0.944941</td>\n",
       "      <td>0.863455</td>\n",
       "      <td>0.513185</td>\n",
       "      <td>0.094200</td>\n",
       "      <td>-0.481140</td>\n",
       "      <td>-0.864929</td>\n",
       "      <td>-0.870544</td>\n",
       "      <td>-0.857272</td>\n",
       "      <td>NaN</td>\n",
       "      <td>NaN</td>\n",
       "      <td>0.949471</td>\n",
       "      <td>1.000000</td>\n",
       "    </tr>\n",
       "  </tbody>\n",
       "</table>\n",
       "</div>"
      ],
      "text/plain": [
       "                          Unnamed: 0   Temp(F)  DewPoint(F)  \\\n",
       "Unnamed: 0                  1.000000  0.543356     0.430759   \n",
       "Temp(F)                     0.543356  1.000000     0.403797   \n",
       "DewPoint(F)                 0.430759  0.403797     1.000000   \n",
       "RelativeHumidity(%)        -0.255639 -0.709070     0.335701   \n",
       "Visibility(miles)          -0.435098 -0.024895    -0.177976   \n",
       "StationPressure(inches)    -0.641199 -0.576998    -0.695884   \n",
       "Sea LevelPressure(mb)      -0.653154 -0.586172    -0.689976   \n",
       "AltimeterSetting(inches)   -0.643013 -0.580740    -0.690044   \n",
       "6 HrMax(F)                  0.644779  0.766780     0.506408   \n",
       "6 HrMin(F)                  0.593608  0.794199     0.462839   \n",
       "24 HrMax(F)                 0.980379  0.973064     0.638000   \n",
       "24 HrMin(F)                 0.944941  0.863455     0.513185   \n",
       "\n",
       "                          RelativeHumidity(%)  Visibility(miles)  \\\n",
       "Unnamed: 0                          -0.255639          -0.435098   \n",
       "Temp(F)                             -0.709070          -0.024895   \n",
       "DewPoint(F)                          0.335701          -0.177976   \n",
       "RelativeHumidity(%)                  1.000000          -0.073060   \n",
       "Visibility(miles)                   -0.073060           1.000000   \n",
       "StationPressure(inches)              0.076079           0.211645   \n",
       "Sea LevelPressure(mb)                0.089382           0.209568   \n",
       "AltimeterSetting(inches)             0.083479           0.207558   \n",
       "6 HrMax(F)                          -0.417261           0.064501   \n",
       "6 HrMin(F)                          -0.448949           0.113423   \n",
       "24 HrMax(F)                          0.188052          -0.387298   \n",
       "24 HrMin(F)                          0.094200          -0.481140   \n",
       "\n",
       "                          StationPressure(inches)  Sea LevelPressure(mb)  \\\n",
       "Unnamed: 0                              -0.641199              -0.653154   \n",
       "Temp(F)                                 -0.576998              -0.586172   \n",
       "DewPoint(F)                             -0.695884              -0.689976   \n",
       "RelativeHumidity(%)                      0.076079               0.089382   \n",
       "Visibility(miles)                        0.211645               0.209568   \n",
       "StationPressure(inches)                  1.000000               0.998482   \n",
       "Sea LevelPressure(mb)                    0.998482               1.000000   \n",
       "AltimeterSetting(inches)                 0.999188               0.999227   \n",
       "6 HrMax(F)                              -0.681414              -0.688170   \n",
       "6 HrMin(F)                              -0.763905              -0.771568   \n",
       "24 HrMax(F)                             -0.739284              -0.746892   \n",
       "24 HrMin(F)                             -0.864929              -0.870544   \n",
       "\n",
       "                          AltimeterSetting(inches)  6 HrMax(F)  6 HrMin(F)  \\\n",
       "Unnamed: 0                               -0.643013    0.644779    0.593608   \n",
       "Temp(F)                                  -0.580740    0.766780    0.794199   \n",
       "DewPoint(F)                              -0.690044    0.506408    0.462839   \n",
       "RelativeHumidity(%)                       0.083479   -0.417261   -0.448949   \n",
       "Visibility(miles)                         0.207558    0.064501    0.113423   \n",
       "StationPressure(inches)                   0.999188   -0.681414   -0.763905   \n",
       "Sea LevelPressure(mb)                     0.999227   -0.688170   -0.771568   \n",
       "AltimeterSetting(inches)                  1.000000   -0.685067   -0.771428   \n",
       "6 HrMax(F)                               -0.685067    1.000000    0.927755   \n",
       "6 HrMin(F)                               -0.771428    0.927755    1.000000   \n",
       "24 HrMax(F)                              -0.731344         NaN         NaN   \n",
       "24 HrMin(F)                              -0.857272         NaN         NaN   \n",
       "\n",
       "                          24 HrMax(F)  24 HrMin(F)  \n",
       "Unnamed: 0                   0.980379     0.944941  \n",
       "Temp(F)                      0.973064     0.863455  \n",
       "DewPoint(F)                  0.638000     0.513185  \n",
       "RelativeHumidity(%)          0.188052     0.094200  \n",
       "Visibility(miles)           -0.387298    -0.481140  \n",
       "StationPressure(inches)     -0.739284    -0.864929  \n",
       "Sea LevelPressure(mb)       -0.746892    -0.870544  \n",
       "AltimeterSetting(inches)    -0.731344    -0.857272  \n",
       "6 HrMax(F)                        NaN          NaN  \n",
       "6 HrMin(F)                        NaN          NaN  \n",
       "24 HrMax(F)                  1.000000     0.949471  \n",
       "24 HrMin(F)                  0.949471     1.000000  "
      ]
     },
     "execution_count": 12,
     "metadata": {},
     "output_type": "execute_result"
    }
   ],
   "source": [
    "dataset.corr()"
   ]
  },
  {
   "cell_type": "markdown",
   "metadata": {},
   "source": [
    "## EDA- Scatter Plot Temperature vs StationPressure (Inches)"
   ]
  },
  {
   "cell_type": "code",
   "execution_count": 13,
   "metadata": {},
   "outputs": [
    {
     "data": {
      "image/png": "[encoded data removed]",
      "text/plain": [
       "<Figure size 1440x504 with 1 Axes>"
      ]
     },
     "metadata": {
      "needs_background": "light"
     },
     "output_type": "display_data"
    }
   ],
   "source": [
    "plt.figure()\n",
    "plt.scatter(dataset['Temp(F)'] , dataset['StationPressure(inches)'])\n",
    "plt.ylabel('Station_Pressure')\n",
    "plt.xlabel('Temperature')\n",
    "plt.rcParams['figure.figsize']= (20,7)"
   ]
  },
  {
   "cell_type": "markdown",
   "metadata": {},
   "source": [
    "## Feature Selection and Extraction "
   ]
  },
  {
   "cell_type": "code",
   "execution_count": 14,
   "metadata": {},
   "outputs": [],
   "source": [
    "Dataset_Predict= dataset.drop(columns=[\"Unnamed: 0\",\"Date(PDT)\",\"6 HrMax(F)\",\"WindSpeed(MPH)\",\"AltimeterSetting(inches)\",\"Visibility(miles)\",\"WindDirection\",\"Weather\",\"Clouds\",\"6 HrMin(F)\",\"24 HrMax(F)\", \"24 HrMin(F)\"])\n",
    "Dataset_Predict.head()\n",
    "\n",
    "Target_LR= Dataset_Predict.drop(columns= [\"DewPoint(F)\", \"StationPressure(inches)\",\"Sea LevelPressure(mb)\",\"RelativeHumidity(%)\"])\n",
    "Input_LR= Dataset_Predict.drop(columns= [\"Temp(F)\"])"
   ]
  },
  {
   "cell_type": "code",
   "execution_count": 15,
   "metadata": {},
   "outputs": [
    {
     "data": {
      "text/html": [
       "<div>\n",
       "<style scoped>\n",
       "    .dataframe tbody tr th:only-of-type {\n",
       "        vertical-align: middle;\n",
       "    }\n",
       "\n",
       "    .dataframe tbody tr th {\n",
       "        vertical-align: top;\n",
       "    }\n",
       "\n",
       "    .dataframe thead th {\n",
       "        text-align: right;\n",
       "    }\n",
       "</style>\n",
       "<table border=\"1\" class=\"dataframe\">\n",
       "  <thead>\n",
       "    <tr style=\"text-align: right;\">\n",
       "      <th></th>\n",
       "      <th>Temp(F)</th>\n",
       "      <th>DewPoint(F)</th>\n",
       "      <th>RelativeHumidity(%)</th>\n",
       "      <th>StationPressure(inches)</th>\n",
       "      <th>Sea LevelPressure(mb)</th>\n",
       "    </tr>\n",
       "  </thead>\n",
       "  <tbody>\n",
       "    <tr>\n",
       "      <th>0</th>\n",
       "      <td>58</td>\n",
       "      <td>29</td>\n",
       "      <td>33</td>\n",
       "      <td>29.81</td>\n",
       "      <td>1021.3</td>\n",
       "    </tr>\n",
       "    <tr>\n",
       "      <th>1</th>\n",
       "      <td>57</td>\n",
       "      <td>29</td>\n",
       "      <td>34</td>\n",
       "      <td>29.80</td>\n",
       "      <td>1021.3</td>\n",
       "    </tr>\n",
       "  </tbody>\n",
       "</table>\n",
       "</div>"
      ],
      "text/plain": [
       "   Temp(F)  DewPoint(F)  RelativeHumidity(%)  StationPressure(inches)  \\\n",
       "0       58           29                   33                    29.81   \n",
       "1       57           29                   34                    29.80   \n",
       "\n",
       "   Sea LevelPressure(mb)  \n",
       "0                 1021.3  \n",
       "1                 1021.3  "
      ]
     },
     "execution_count": 15,
     "metadata": {},
     "output_type": "execute_result"
    }
   ],
   "source": [
    "Dataset_Predict.head(2)"
   ]
  },
  {
   "cell_type": "markdown",
   "metadata": {},
   "source": [
    "## Finding Null Values "
   ]
  },
  {
   "cell_type": "code",
   "execution_count": 16,
   "metadata": {},
   "outputs": [
    {
     "data": {
      "text/plain": [
       "Temp(F)                    0\n",
       "DewPoint(F)                0\n",
       "RelativeHumidity(%)        0\n",
       "StationPressure(inches)    0\n",
       "Sea LevelPressure(mb)      0\n",
       "dtype: int64"
      ]
     },
     "execution_count": 16,
     "metadata": {},
     "output_type": "execute_result"
    }
   ],
   "source": [
    "Dataset_Predict.isnull().sum()"
   ]
  },
  {
   "cell_type": "markdown",
   "metadata": {},
   "source": [
    "## Standardizing the Inputs and Targets\n"
   ]
  },
  {
   "cell_type": "code",
   "execution_count": 17,
   "metadata": {},
   "outputs": [
    {
     "data": {
      "text/plain": [
       "StandardScaler(copy=True, with_mean=True, with_std=True)"
      ]
     },
     "execution_count": 17,
     "metadata": {},
     "output_type": "execute_result"
    }
   ],
   "source": [
    "from sklearn.preprocessing import StandardScaler\n",
    "\n",
    "scaler = StandardScaler()\n",
    "scaler.fit(Input_LR)\n",
    "scaler.fit(Target_LR)"
   ]
  },
  {
   "cell_type": "code",
   "execution_count": 18,
   "metadata": {},
   "outputs": [],
   "source": [
    "Input_LR_scaled = scaler.transform(Input_LR)\n",
    "Target_LR_scaled = scaler.transform(Target_LR)"
   ]
  },
  {
   "cell_type": "markdown",
   "metadata": {},
   "source": [
    "## Necessary Libraries for Model Building"
   ]
  },
  {
   "cell_type": "code",
   "execution_count": 19,
   "metadata": {},
   "outputs": [],
   "source": [
    "#!pip install xgboost"
   ]
  },
  {
   "cell_type": "code",
   "execution_count": 20,
   "metadata": {},
   "outputs": [],
   "source": [
    "from sklearn.model_selection import train_test_split\n",
    "from sklearn.metrics import r2_score\n",
    "import sklearn.metrics as metrics\n",
    "from sklearn.metrics import mean_squared_error, mean_absolute_error, r2_score\n",
    "\n",
    "#import xgboost as xgb\n",
    "from sklearn.linear_model import LinearRegression\n",
    "from sklearn.neighbors import KNeighborsRegressor\n",
    "from sklearn.linear_model import Ridge\n",
    "from sklearn.linear_model import Lasso\n",
    "from sklearn.tree import DecisionTreeRegressor\n",
    "from sklearn.ensemble import RandomForestRegressor\n",
    "from sklearn.ensemble import ExtraTreesRegressor\n",
    "#from xgboost import XGBRegressor"
   ]
  },
  {
   "cell_type": "markdown",
   "metadata": {},
   "source": [
    "## Test / Train Split "
   ]
  },
  {
   "cell_type": "code",
   "execution_count": 21,
   "metadata": {},
   "outputs": [],
   "source": [
    "x_train, x_test, y_train, y_test = train_test_split(Input_LR_scaled, Target_LR_scaled, test_size=0.2, random_state=365)"
   ]
  },
  {
   "cell_type": "markdown",
   "metadata": {},
   "source": [
    "## Linear Modelling"
   ]
  },
  {
   "cell_type": "code",
   "execution_count": 22,
   "metadata": {},
   "outputs": [
    {
     "data": {
      "text/plain": [
       "LinearRegression(copy_X=True, fit_intercept=True, n_jobs=None, normalize=False)"
      ]
     },
     "execution_count": 22,
     "metadata": {},
     "output_type": "execute_result"
    }
   ],
   "source": [
    "reg = LinearRegression()\n",
    "reg.fit(x_train,y_train)"
   ]
  },
  {
   "cell_type": "code",
   "execution_count": 23,
   "metadata": {},
   "outputs": [],
   "source": [
    "y_pred = reg.predict(x_train)"
   ]
  },
  {
   "cell_type": "markdown",
   "metadata": {},
   "source": [
    "## Linear Model Evaluation"
   ]
  },
  {
   "cell_type": "code",
   "execution_count": 24,
   "metadata": {},
   "outputs": [
    {
     "name": "stdout",
     "output_type": "stream",
     "text": [
      "Linear Regression - Mean Absolute Error:  0.1177648098892317\n",
      "Linear Regression - Mean Square Error:  0.025304810964489045\n",
      "Linear Regression - Root Mean Square Error:  0.15907485962429463\n",
      "R^2: 0.9703821661093449\n"
     ]
    }
   ],
   "source": [
    "LR_MAE = print(\"Linear Regression - Mean Absolute Error: \", metrics.mean_absolute_error(y_train, y_pred)) \n",
    "LR_MSE = print(\"Linear Regression - Mean Square Error: \", metrics.mean_squared_error(y_train, y_pred)) \n",
    "LR_RMSE = print(\"Linear Regression - Root Mean Square Error: \", np.sqrt(metrics.mean_squared_error(y_train, y_pred)))\n",
    "\n",
    "\n",
    "score = r2_score(y_train, y_pred)\n",
    "print(\"R^2:\", score)"
   ]
  },
  {
   "cell_type": "code",
   "execution_count": 25,
   "metadata": {},
   "outputs": [],
   "source": [
    "LR = pd.DataFrame({'Model_Name':['Linear Regression'],'MAE':[metrics.mean_absolute_error(y_train, y_pred)],\n",
    "                   'MSE': [metrics.mean_squared_error(y_train, y_pred)],\n",
    "                   'RMSE': [metrics.mean_squared_error(y_train, y_pred)],\n",
    "                    'R^2': [r2_score(y_train, y_pred)]})"
   ]
  },
  {
   "cell_type": "code",
   "execution_count": 26,
   "metadata": {},
   "outputs": [
    {
     "data": {
      "text/html": [
       "<div>\n",
       "<style scoped>\n",
       "    .dataframe tbody tr th:only-of-type {\n",
       "        vertical-align: middle;\n",
       "    }\n",
       "\n",
       "    .dataframe tbody tr th {\n",
       "        vertical-align: top;\n",
       "    }\n",
       "\n",
       "    .dataframe thead th {\n",
       "        text-align: right;\n",
       "    }\n",
       "</style>\n",
       "<table border=\"1\" class=\"dataframe\">\n",
       "  <thead>\n",
       "    <tr style=\"text-align: right;\">\n",
       "      <th></th>\n",
       "      <th>Model_Name</th>\n",
       "      <th>MAE</th>\n",
       "      <th>MSE</th>\n",
       "      <th>RMSE</th>\n",
       "      <th>R^2</th>\n",
       "    </tr>\n",
       "  </thead>\n",
       "  <tbody>\n",
       "    <tr>\n",
       "      <th>0</th>\n",
       "      <td>Linear Regression</td>\n",
       "      <td>0.117765</td>\n",
       "      <td>0.025305</td>\n",
       "      <td>0.025305</td>\n",
       "      <td>0.970382</td>\n",
       "    </tr>\n",
       "  </tbody>\n",
       "</table>\n",
       "</div>"
      ],
      "text/plain": [
       "          Model_Name       MAE       MSE      RMSE       R^2\n",
       "0  Linear Regression  0.117765  0.025305  0.025305  0.970382"
      ]
     },
     "execution_count": 26,
     "metadata": {},
     "output_type": "execute_result"
    }
   ],
   "source": [
    "LR"
   ]
  },
  {
   "cell_type": "markdown",
   "metadata": {},
   "source": [
    "## Scatter Plot between Targets and the Predictions Linear Model"
   ]
  },
  {
   "cell_type": "code",
   "execution_count": 27,
   "metadata": {},
   "outputs": [
    {
     "data": {
      "image/png": "[encoded data removed]",
      "text/plain": [
       "<Figure size 1440x504 with 1 Axes>"
      ]
     },
     "metadata": {
      "needs_background": "light"
     },
     "output_type": "display_data"
    }
   ],
   "source": [
    "plt.scatter(y_train, y_pred)\n",
    "plt.xlabel('Targets (y_train)')\n",
    "plt.ylabel('Predictions (y_pred)')\n",
    "plt.show()"
   ]
  },
  {
   "cell_type": "markdown",
   "metadata": {},
   "source": [
    "## KNN- Regressor "
   ]
  },
  {
   "cell_type": "code",
   "execution_count": 28,
   "metadata": {},
   "outputs": [
    {
     "data": {
      "text/plain": [
       "KNeighborsRegressor(algorithm='auto', leaf_size=30, metric='minkowski',\n",
       "                    metric_params=None, n_jobs=None, n_neighbors=5, p=2,\n",
       "                    weights='uniform')"
      ]
     },
     "execution_count": 28,
     "metadata": {},
     "output_type": "execute_result"
    }
   ],
   "source": [
    "knn = KNeighborsRegressor(n_neighbors=5)\n",
    "knn.fit(x_train, y_train)"
   ]
  },
  {
   "cell_type": "code",
   "execution_count": 29,
   "metadata": {},
   "outputs": [],
   "source": [
    "y_pred = knn.predict(x_train)"
   ]
  },
  {
   "cell_type": "markdown",
   "metadata": {},
   "source": [
    "## KNN Model Evaluation"
   ]
  },
  {
   "cell_type": "code",
   "execution_count": 30,
   "metadata": {},
   "outputs": [
    {
     "name": "stdout",
     "output_type": "stream",
     "text": [
      "KNN- Regressor - Mean Absolute Error:  0.09616518739933146\n",
      "KNN- Regressor - Mean Square Error:  0.016030208036477627\n",
      "KNN- Regressor - Root Mean Square Error:  0.1266104578479899\n",
      "R^2: 0.9812375583629804\n"
     ]
    }
   ],
   "source": [
    "print(\"KNN- Regressor - Mean Absolute Error: \", metrics.mean_absolute_error(y_train, y_pred)) \n",
    "print(\"KNN- Regressor - Mean Square Error: \", metrics.mean_squared_error(y_train, y_pred)) \n",
    "print(\"KNN- Regressor - Root Mean Square Error: \", np.sqrt(metrics.mean_squared_error(y_train, y_pred)))\n",
    "\n",
    "\n",
    "score = r2_score(y_train, y_pred)\n",
    "print(\"R^2:\", score)"
   ]
  },
  {
   "cell_type": "code",
   "execution_count": 31,
   "metadata": {},
   "outputs": [],
   "source": [
    "KNN = pd.DataFrame({'Model_Name':['KNN Regressor'],\n",
    "                    'MAE':[metrics.mean_absolute_error(y_train, y_pred)],\n",
    "                   'MSE': [metrics.mean_squared_error(y_train, y_pred)],\n",
    "                   'RMSE': [metrics.mean_squared_error(y_train, y_pred)],\n",
    "                    'R^2': [r2_score(y_train, y_pred)]})"
   ]
  },
  {
   "cell_type": "code",
   "execution_count": 32,
   "metadata": {},
   "outputs": [
    {
     "data": {
      "text/html": [
       "<div>\n",
       "<style scoped>\n",
       "    .dataframe tbody tr th:only-of-type {\n",
       "        vertical-align: middle;\n",
       "    }\n",
       "\n",
       "    .dataframe tbody tr th {\n",
       "        vertical-align: top;\n",
       "    }\n",
       "\n",
       "    .dataframe thead th {\n",
       "        text-align: right;\n",
       "    }\n",
       "</style>\n",
       "<table border=\"1\" class=\"dataframe\">\n",
       "  <thead>\n",
       "    <tr style=\"text-align: right;\">\n",
       "      <th></th>\n",
       "      <th>Model_Name</th>\n",
       "      <th>MAE</th>\n",
       "      <th>MSE</th>\n",
       "      <th>RMSE</th>\n",
       "      <th>R^2</th>\n",
       "    </tr>\n",
       "  </thead>\n",
       "  <tbody>\n",
       "    <tr>\n",
       "      <th>0</th>\n",
       "      <td>KNN Regressor</td>\n",
       "      <td>0.096165</td>\n",
       "      <td>0.01603</td>\n",
       "      <td>0.01603</td>\n",
       "      <td>0.981238</td>\n",
       "    </tr>\n",
       "  </tbody>\n",
       "</table>\n",
       "</div>"
      ],
      "text/plain": [
       "      Model_Name       MAE      MSE     RMSE       R^2\n",
       "0  KNN Regressor  0.096165  0.01603  0.01603  0.981238"
      ]
     },
     "execution_count": 32,
     "metadata": {},
     "output_type": "execute_result"
    }
   ],
   "source": [
    "KNN"
   ]
  },
  {
   "cell_type": "markdown",
   "metadata": {},
   "source": [
    "## Scatter Plot between Targets and the Predictions- KNN Regressor Model"
   ]
  },
  {
   "cell_type": "code",
   "execution_count": 33,
   "metadata": {},
   "outputs": [
    {
     "data": {
      "image/png": "[encoded data removed]",
      "text/plain": [
       "<Figure size 1440x504 with 1 Axes>"
      ]
     },
     "metadata": {
      "needs_background": "light"
     },
     "output_type": "display_data"
    }
   ],
   "source": [
    "plt.scatter(y_train, y_pred)\n",
    "plt.xlabel('Targets (y_train)')\n",
    "plt.ylabel('Predictions (y_pred)')\n",
    "plt.show()"
   ]
  },
  {
   "cell_type": "markdown",
   "metadata": {},
   "source": [
    "## Decision Tree Regressor "
   ]
  },
  {
   "cell_type": "code",
   "execution_count": 34,
   "metadata": {},
   "outputs": [
    {
     "data": {
      "text/plain": [
       "DecisionTreeRegressor(ccp_alpha=0.0, criterion='mse', max_depth=None,\n",
       "                      max_features=None, max_leaf_nodes=None,\n",
       "                      min_impurity_decrease=0.0, min_impurity_split=None,\n",
       "                      min_samples_leaf=1, min_samples_split=2,\n",
       "                      min_weight_fraction_leaf=0.0, presort='deprecated',\n",
       "                      random_state=None, splitter='best')"
      ]
     },
     "execution_count": 34,
     "metadata": {},
     "output_type": "execute_result"
    }
   ],
   "source": [
    "dt = DecisionTreeRegressor()\n",
    "dt.fit(x_train, y_train)"
   ]
  },
  {
   "cell_type": "code",
   "execution_count": 35,
   "metadata": {},
   "outputs": [],
   "source": [
    "y_pred = dt.predict(x_train)"
   ]
  },
  {
   "cell_type": "markdown",
   "metadata": {},
   "source": [
    "## Decision Tree Regressor Model Evaluation "
   ]
  },
  {
   "cell_type": "code",
   "execution_count": 36,
   "metadata": {},
   "outputs": [
    {
     "name": "stdout",
     "output_type": "stream",
     "text": [
      "DT- Regressor - Mean Absolute Error:  8.326672684688674e-18\n",
      "DT- Regressor - Mean Square Error:  1.5407439555097887e-33\n",
      "DT- Regressor - Root Mean Square Error:  3.925231146709438e-17\n",
      "R^2: 1.0\n"
     ]
    }
   ],
   "source": [
    "print(\"DT- Regressor - Mean Absolute Error: \", metrics.mean_absolute_error(y_train, y_pred)) \n",
    "print(\"DT- Regressor - Mean Square Error: \", metrics.mean_squared_error(y_train, y_pred)) \n",
    "print(\"DT- Regressor - Root Mean Square Error: \", np.sqrt(metrics.mean_squared_error(y_train, y_pred)))\n",
    "\n",
    "\n",
    "score = r2_score(y_train, y_pred)\n",
    "print(\"R^2:\", score)"
   ]
  },
  {
   "cell_type": "code",
   "execution_count": 37,
   "metadata": {},
   "outputs": [],
   "source": [
    "DT = pd.DataFrame({'Model_Name':['Decision Tree Regressor'],\n",
    "                   'MAE':[metrics.mean_absolute_error(y_train, y_pred)],\n",
    "                   'MSE': [metrics.mean_squared_error(y_train, y_pred)],\n",
    "                   'RMSE': [metrics.mean_squared_error(y_train, y_pred)],\n",
    "                   'R^2': [r2_score(y_train, y_pred)]})"
   ]
  },
  {
   "cell_type": "code",
   "execution_count": 38,
   "metadata": {},
   "outputs": [
    {
     "data": {
      "text/html": [
       "<div>\n",
       "<style scoped>\n",
       "    .dataframe tbody tr th:only-of-type {\n",
       "        vertical-align: middle;\n",
       "    }\n",
       "\n",
       "    .dataframe tbody tr th {\n",
       "        vertical-align: top;\n",
       "    }\n",
       "\n",
       "    .dataframe thead th {\n",
       "        text-align: right;\n",
       "    }\n",
       "</style>\n",
       "<table border=\"1\" class=\"dataframe\">\n",
       "  <thead>\n",
       "    <tr style=\"text-align: right;\">\n",
       "      <th></th>\n",
       "      <th>Model_Name</th>\n",
       "      <th>MAE</th>\n",
       "      <th>MSE</th>\n",
       "      <th>RMSE</th>\n",
       "      <th>R^2</th>\n",
       "    </tr>\n",
       "  </thead>\n",
       "  <tbody>\n",
       "    <tr>\n",
       "      <th>0</th>\n",
       "      <td>Decision Tree Regressor</td>\n",
       "      <td>8.326673e-18</td>\n",
       "      <td>1.540744e-33</td>\n",
       "      <td>1.540744e-33</td>\n",
       "      <td>1.0</td>\n",
       "    </tr>\n",
       "  </tbody>\n",
       "</table>\n",
       "</div>"
      ],
      "text/plain": [
       "                Model_Name           MAE           MSE          RMSE  R^2\n",
       "0  Decision Tree Regressor  8.326673e-18  1.540744e-33  1.540744e-33  1.0"
      ]
     },
     "execution_count": 38,
     "metadata": {},
     "output_type": "execute_result"
    }
   ],
   "source": [
    "DT"
   ]
  },
  {
   "cell_type": "markdown",
   "metadata": {},
   "source": [
    "## Scatter Plot between Targets and the Predictions- DT Regressor Model"
   ]
  },
  {
   "cell_type": "code",
   "execution_count": 39,
   "metadata": {},
   "outputs": [
    {
     "data": {
      "image/png": "[encoded data removed]",
      "text/plain": [
       "<Figure size 1440x504 with 1 Axes>"
      ]
     },
     "metadata": {
      "needs_background": "light"
     },
     "output_type": "display_data"
    }
   ],
   "source": [
    "plt.scatter(y_train, y_pred)\n",
    "plt.xlabel('Targets (y_train)')\n",
    "plt.ylabel('Predictions (y_pred)')\n",
    "plt.show()"
   ]
  },
  {
   "cell_type": "markdown",
   "metadata": {},
   "source": [
    "## Random Forest Regressor "
   ]
  },
  {
   "cell_type": "code",
   "execution_count": 40,
   "metadata": {},
   "outputs": [
    {
     "name": "stderr",
     "output_type": "stream",
     "text": [
      "C:\\Users\\saikarthik\\AppData\\Local\\Programs\\Python\\Python37-32\\lib\\site-packages\\ipykernel_launcher.py:2: DataConversionWarning: A column-vector y was passed when a 1d array was expected. Please change the shape of y to (n_samples,), for example using ravel().\n",
      "  \n"
     ]
    },
    {
     "data": {
      "text/plain": [
       "RandomForestRegressor(bootstrap=True, ccp_alpha=0.0, criterion='mse',\n",
       "                      max_depth=None, max_features='auto', max_leaf_nodes=None,\n",
       "                      max_samples=None, min_impurity_decrease=0.0,\n",
       "                      min_impurity_split=None, min_samples_leaf=1,\n",
       "                      min_samples_split=2, min_weight_fraction_leaf=0.0,\n",
       "                      n_estimators=100, n_jobs=None, oob_score=False,\n",
       "                      random_state=None, verbose=0, warm_start=False)"
      ]
     },
     "execution_count": 40,
     "metadata": {},
     "output_type": "execute_result"
    }
   ],
   "source": [
    "rf = RandomForestRegressor(n_estimators=100)\n",
    "rf.fit(x_train, y_train)"
   ]
  },
  {
   "cell_type": "code",
   "execution_count": 41,
   "metadata": {},
   "outputs": [],
   "source": [
    "y_pred = rf.predict(x_train)"
   ]
  },
  {
   "cell_type": "markdown",
   "metadata": {},
   "source": [
    "## Random Forest Regressor Model Evaluation "
   ]
  },
  {
   "cell_type": "code",
   "execution_count": 42,
   "metadata": {},
   "outputs": [
    {
     "name": "stdout",
     "output_type": "stream",
     "text": [
      "RF- Regressor - Mean Absolute Error:  0.05197213208287087\n",
      "RF- Regressor - Mean Square Error:  0.005187055070311155\n",
      "RF- Regressor - Root Mean Square Error:  0.07202121264121533\n",
      "R^2: 0.9939288487209113\n"
     ]
    }
   ],
   "source": [
    "print(\"RF- Regressor - Mean Absolute Error: \", metrics.mean_absolute_error(y_train, y_pred)) \n",
    "print(\"RF- Regressor - Mean Square Error: \", metrics.mean_squared_error(y_train, y_pred)) \n",
    "print(\"RF- Regressor - Root Mean Square Error: \", np.sqrt(metrics.mean_squared_error(y_train, y_pred)))\n",
    "\n",
    "\n",
    "score = r2_score(y_train, y_pred)\n",
    "print(\"R^2:\", score)"
   ]
  },
  {
   "cell_type": "code",
   "execution_count": 43,
   "metadata": {},
   "outputs": [],
   "source": [
    "RF= pd.DataFrame({'Model_Name':['Random Forest Regressor'],\n",
    "                  'MAE':[metrics.mean_absolute_error(y_train, y_pred)],\n",
    "                   'MSE': [metrics.mean_squared_error(y_train, y_pred)],\n",
    "                   'RMSE': [metrics.mean_squared_error(y_train, y_pred)],\n",
    "                   'R^2': [r2_score(y_train, y_pred)]})"
   ]
  },
  {
   "cell_type": "code",
   "execution_count": 44,
   "metadata": {},
   "outputs": [
    {
     "data": {
      "text/html": [
       "<div>\n",
       "<style scoped>\n",
       "    .dataframe tbody tr th:only-of-type {\n",
       "        vertical-align: middle;\n",
       "    }\n",
       "\n",
       "    .dataframe tbody tr th {\n",
       "        vertical-align: top;\n",
       "    }\n",
       "\n",
       "    .dataframe thead th {\n",
       "        text-align: right;\n",
       "    }\n",
       "</style>\n",
       "<table border=\"1\" class=\"dataframe\">\n",
       "  <thead>\n",
       "    <tr style=\"text-align: right;\">\n",
       "      <th></th>\n",
       "      <th>Model_Name</th>\n",
       "      <th>MAE</th>\n",
       "      <th>MSE</th>\n",
       "      <th>RMSE</th>\n",
       "      <th>R^2</th>\n",
       "    </tr>\n",
       "  </thead>\n",
       "  <tbody>\n",
       "    <tr>\n",
       "      <th>0</th>\n",
       "      <td>Random Forest Regressor</td>\n",
       "      <td>0.051972</td>\n",
       "      <td>0.005187</td>\n",
       "      <td>0.005187</td>\n",
       "      <td>0.993929</td>\n",
       "    </tr>\n",
       "  </tbody>\n",
       "</table>\n",
       "</div>"
      ],
      "text/plain": [
       "                Model_Name       MAE       MSE      RMSE       R^2\n",
       "0  Random Forest Regressor  0.051972  0.005187  0.005187  0.993929"
      ]
     },
     "execution_count": 44,
     "metadata": {},
     "output_type": "execute_result"
    }
   ],
   "source": [
    "RF"
   ]
  },
  {
   "cell_type": "markdown",
   "metadata": {},
   "source": [
    "## Scatter Plot between Targets and the Predictions- RF Regressor Model"
   ]
  },
  {
   "cell_type": "code",
   "execution_count": 45,
   "metadata": {},
   "outputs": [
    {
     "data": {
      "image/png": "[encoded data removed]",
      "text/plain": [
       "<Figure size 1440x504 with 1 Axes>"
      ]
     },
     "metadata": {
      "needs_background": "light"
     },
     "output_type": "display_data"
    }
   ],
   "source": [
    "plt.scatter(y_train, y_pred)\n",
    "plt.xlabel('Targets (y_train)')\n",
    "plt.ylabel('Predictions (y_pred)')\n",
    "plt.show()"
   ]
  },
  {
   "cell_type": "markdown",
   "metadata": {},
   "source": [
    "## Ridge Regression "
   ]
  },
  {
   "cell_type": "code",
   "execution_count": 46,
   "metadata": {},
   "outputs": [
    {
     "data": {
      "text/plain": [
       "Ridge(alpha=1.0, copy_X=True, fit_intercept=True, max_iter=None,\n",
       "      normalize=False, random_state=None, solver='auto', tol=0.001)"
      ]
     },
     "execution_count": 46,
     "metadata": {},
     "output_type": "execute_result"
    }
   ],
   "source": [
    "rid = Ridge()\n",
    "rid.fit(x_train, y_train)"
   ]
  },
  {
   "cell_type": "code",
   "execution_count": 47,
   "metadata": {},
   "outputs": [],
   "source": [
    "y_pred = rid.predict(x_train)"
   ]
  },
  {
   "cell_type": "markdown",
   "metadata": {},
   "source": [
    "## Ridge Regression Model Evaluation "
   ]
  },
  {
   "cell_type": "code",
   "execution_count": 48,
   "metadata": {},
   "outputs": [
    {
     "name": "stdout",
     "output_type": "stream",
     "text": [
      "RR - Mean Absolute Error:  0.124166308196023\n",
      "RR - Mean Square Error:  0.026421640678797553\n",
      "RR - Root Mean Square Error:  0.16254734903651166\n",
      "R^2: 0.9690749808073501\n"
     ]
    }
   ],
   "source": [
    "print(\"RR - Mean Absolute Error: \", metrics.mean_absolute_error(y_train, y_pred)) \n",
    "print(\"RR - Mean Square Error: \", metrics.mean_squared_error(y_train, y_pred)) \n",
    "print(\"RR - Root Mean Square Error: \", np.sqrt(metrics.mean_squared_error(y_train, y_pred)))\n",
    "\n",
    "\n",
    "score = r2_score(y_train, y_pred)\n",
    "print(\"R^2:\", score)"
   ]
  },
  {
   "cell_type": "code",
   "execution_count": 49,
   "metadata": {},
   "outputs": [],
   "source": [
    "RR = pd.DataFrame({'Model_Name':['Ridge Regression'],\n",
    "                   'MAE':[metrics.mean_absolute_error(y_train, y_pred)],\n",
    "                   'MSE': [metrics.mean_squared_error(y_train, y_pred)],\n",
    "                   'RMSE': [metrics.mean_squared_error(y_train, y_pred)],\n",
    "                   'R^2': [r2_score(y_train, y_pred)]})"
   ]
  },
  {
   "cell_type": "code",
   "execution_count": 50,
   "metadata": {},
   "outputs": [
    {
     "data": {
      "text/html": [
       "<div>\n",
       "<style scoped>\n",
       "    .dataframe tbody tr th:only-of-type {\n",
       "        vertical-align: middle;\n",
       "    }\n",
       "\n",
       "    .dataframe tbody tr th {\n",
       "        vertical-align: top;\n",
       "    }\n",
       "\n",
       "    .dataframe thead th {\n",
       "        text-align: right;\n",
       "    }\n",
       "</style>\n",
       "<table border=\"1\" class=\"dataframe\">\n",
       "  <thead>\n",
       "    <tr style=\"text-align: right;\">\n",
       "      <th></th>\n",
       "      <th>Model_Name</th>\n",
       "      <th>MAE</th>\n",
       "      <th>MSE</th>\n",
       "      <th>RMSE</th>\n",
       "      <th>R^2</th>\n",
       "    </tr>\n",
       "  </thead>\n",
       "  <tbody>\n",
       "    <tr>\n",
       "      <th>0</th>\n",
       "      <td>Ridge Regression</td>\n",
       "      <td>0.124166</td>\n",
       "      <td>0.026422</td>\n",
       "      <td>0.026422</td>\n",
       "      <td>0.969075</td>\n",
       "    </tr>\n",
       "  </tbody>\n",
       "</table>\n",
       "</div>"
      ],
      "text/plain": [
       "         Model_Name       MAE       MSE      RMSE       R^2\n",
       "0  Ridge Regression  0.124166  0.026422  0.026422  0.969075"
      ]
     },
     "execution_count": 50,
     "metadata": {},
     "output_type": "execute_result"
    }
   ],
   "source": [
    "RR"
   ]
  },
  {
   "cell_type": "markdown",
   "metadata": {},
   "source": [
    "## Scatter Plot between Targets and the Predictions- RR Model"
   ]
  },
  {
   "cell_type": "code",
   "execution_count": 51,
   "metadata": {},
   "outputs": [
    {
     "data": {
      "image/png": "[encoded data removed]",
      "text/plain": [
       "<Figure size 1440x504 with 1 Axes>"
      ]
     },
     "metadata": {
      "needs_background": "light"
     },
     "output_type": "display_data"
    }
   ],
   "source": [
    "plt.scatter(y_train, y_pred)\n",
    "plt.xlabel('Targets (y_train)')\n",
    "plt.ylabel('Predictions (y_pred)')\n",
    "plt.show()"
   ]
  },
  {
   "cell_type": "markdown",
   "metadata": {},
   "source": [
    "## Lasso Regression "
   ]
  },
  {
   "cell_type": "code",
   "execution_count": 52,
   "metadata": {},
   "outputs": [
    {
     "data": {
      "text/plain": [
       "Lasso(alpha=1.0, copy_X=True, fit_intercept=True, max_iter=1000,\n",
       "      normalize=False, positive=False, precompute=False, random_state=None,\n",
       "      selection='cyclic', tol=0.0001, warm_start=False)"
      ]
     },
     "execution_count": 52,
     "metadata": {},
     "output_type": "execute_result"
    }
   ],
   "source": [
    "las = Lasso()\n",
    "las.fit(x_train, y_train)"
   ]
  },
  {
   "cell_type": "code",
   "execution_count": 53,
   "metadata": {},
   "outputs": [],
   "source": [
    "y_pred = las.predict(x_train)"
   ]
  },
  {
   "cell_type": "markdown",
   "metadata": {},
   "source": [
    "## Lasso Regression Model Evaluation"
   ]
  },
  {
   "cell_type": "code",
   "execution_count": 54,
   "metadata": {},
   "outputs": [
    {
     "name": "stdout",
     "output_type": "stream",
     "text": [
      "LR - Mean Absolute Error:  0.7630535896588024\n",
      "LR - Mean Square Error:  0.8543775030243895\n",
      "LR - Root Mean Square Error:  0.9243254313413591\n",
      "R^2: 0.0\n"
     ]
    }
   ],
   "source": [
    "print(\"LR - Mean Absolute Error: \", metrics.mean_absolute_error(y_train, y_pred)) \n",
    "print(\"LR - Mean Square Error: \", metrics.mean_squared_error(y_train, y_pred)) \n",
    "print(\"LR - Root Mean Square Error: \", np.sqrt(metrics.mean_squared_error(y_train, y_pred)))\n",
    "\n",
    "\n",
    "score = r2_score(y_train, y_pred)\n",
    "print(\"R^2:\", score)"
   ]
  },
  {
   "cell_type": "code",
   "execution_count": 55,
   "metadata": {},
   "outputs": [],
   "source": [
    "LaR = pd.DataFrame({'Model_Name':['Lasso Regression'],\n",
    "                   'MAE':[metrics.mean_absolute_error(y_train, y_pred)],\n",
    "                   'MSE': [metrics.mean_squared_error(y_train, y_pred)],\n",
    "                   'RMSE': [metrics.mean_squared_error(y_train, y_pred)],\n",
    "                    'R^2': [r2_score(y_train, y_pred)]})"
   ]
  },
  {
   "cell_type": "code",
   "execution_count": 56,
   "metadata": {},
   "outputs": [
    {
     "data": {
      "text/html": [
       "<div>\n",
       "<style scoped>\n",
       "    .dataframe tbody tr th:only-of-type {\n",
       "        vertical-align: middle;\n",
       "    }\n",
       "\n",
       "    .dataframe tbody tr th {\n",
       "        vertical-align: top;\n",
       "    }\n",
       "\n",
       "    .dataframe thead th {\n",
       "        text-align: right;\n",
       "    }\n",
       "</style>\n",
       "<table border=\"1\" class=\"dataframe\">\n",
       "  <thead>\n",
       "    <tr style=\"text-align: right;\">\n",
       "      <th></th>\n",
       "      <th>Model_Name</th>\n",
       "      <th>MAE</th>\n",
       "      <th>MSE</th>\n",
       "      <th>RMSE</th>\n",
       "      <th>R^2</th>\n",
       "    </tr>\n",
       "  </thead>\n",
       "  <tbody>\n",
       "    <tr>\n",
       "      <th>0</th>\n",
       "      <td>Lasso Regression</td>\n",
       "      <td>0.763054</td>\n",
       "      <td>0.854378</td>\n",
       "      <td>0.854378</td>\n",
       "      <td>0.0</td>\n",
       "    </tr>\n",
       "  </tbody>\n",
       "</table>\n",
       "</div>"
      ],
      "text/plain": [
       "         Model_Name       MAE       MSE      RMSE  R^2\n",
       "0  Lasso Regression  0.763054  0.854378  0.854378  0.0"
      ]
     },
     "execution_count": 56,
     "metadata": {},
     "output_type": "execute_result"
    }
   ],
   "source": [
    "LaR"
   ]
  },
  {
   "cell_type": "markdown",
   "metadata": {},
   "source": [
    "## Scatter Plot between Targets and the Predictions- LaR Model"
   ]
  },
  {
   "cell_type": "code",
   "execution_count": 57,
   "metadata": {},
   "outputs": [
    {
     "data": {
      "image/png": "[encoded data removed]",
      "text/plain": [
       "<Figure size 1440x504 with 1 Axes>"
      ]
     },
     "metadata": {
      "needs_background": "light"
     },
     "output_type": "display_data"
    }
   ],
   "source": [
    "plt.scatter(y_train, y_pred)\n",
    "plt.xlabel('Targets (y_train)')\n",
    "plt.ylabel('Predictions (y_pred)')\n",
    "plt.show()"
   ]
  },
  {
   "cell_type": "markdown",
   "metadata": {},
   "source": [
    "## Comparision of Different linear Models and their Respective Results"
   ]
  },
  {
   "cell_type": "code",
   "execution_count": 58,
   "metadata": {},
   "outputs": [],
   "source": [
    "frames = [LR,KNN,DT,RF,RR,LaR]\n",
    "Models_Results = pd.concat(frames)\n",
    "Models_Results.reset_index(drop=True, inplace=True)"
   ]
  },
  {
   "cell_type": "code",
   "execution_count": 59,
   "metadata": {},
   "outputs": [
    {
     "data": {
      "text/html": [
       "<div>\n",
       "<style scoped>\n",
       "    .dataframe tbody tr th:only-of-type {\n",
       "        vertical-align: middle;\n",
       "    }\n",
       "\n",
       "    .dataframe tbody tr th {\n",
       "        vertical-align: top;\n",
       "    }\n",
       "\n",
       "    .dataframe thead th {\n",
       "        text-align: right;\n",
       "    }\n",
       "</style>\n",
       "<table border=\"1\" class=\"dataframe\">\n",
       "  <thead>\n",
       "    <tr style=\"text-align: right;\">\n",
       "      <th></th>\n",
       "      <th>Model_Name</th>\n",
       "      <th>MAE</th>\n",
       "      <th>MSE</th>\n",
       "      <th>RMSE</th>\n",
       "      <th>R^2</th>\n",
       "    </tr>\n",
       "  </thead>\n",
       "  <tbody>\n",
       "    <tr>\n",
       "      <th>0</th>\n",
       "      <td>Linear Regression</td>\n",
       "      <td>1.177648e-01</td>\n",
       "      <td>2.530481e-02</td>\n",
       "      <td>2.530481e-02</td>\n",
       "      <td>0.970382</td>\n",
       "    </tr>\n",
       "    <tr>\n",
       "      <th>1</th>\n",
       "      <td>KNN Regressor</td>\n",
       "      <td>9.616519e-02</td>\n",
       "      <td>1.603021e-02</td>\n",
       "      <td>1.603021e-02</td>\n",
       "      <td>0.981238</td>\n",
       "    </tr>\n",
       "    <tr>\n",
       "      <th>2</th>\n",
       "      <td>Decision Tree Regressor</td>\n",
       "      <td>8.326673e-18</td>\n",
       "      <td>1.540744e-33</td>\n",
       "      <td>1.540744e-33</td>\n",
       "      <td>1.000000</td>\n",
       "    </tr>\n",
       "    <tr>\n",
       "      <th>3</th>\n",
       "      <td>Random Forest Regressor</td>\n",
       "      <td>5.197213e-02</td>\n",
       "      <td>5.187055e-03</td>\n",
       "      <td>5.187055e-03</td>\n",
       "      <td>0.993929</td>\n",
       "    </tr>\n",
       "    <tr>\n",
       "      <th>4</th>\n",
       "      <td>Ridge Regression</td>\n",
       "      <td>1.241663e-01</td>\n",
       "      <td>2.642164e-02</td>\n",
       "      <td>2.642164e-02</td>\n",
       "      <td>0.969075</td>\n",
       "    </tr>\n",
       "    <tr>\n",
       "      <th>5</th>\n",
       "      <td>Lasso Regression</td>\n",
       "      <td>7.630536e-01</td>\n",
       "      <td>8.543775e-01</td>\n",
       "      <td>8.543775e-01</td>\n",
       "      <td>0.000000</td>\n",
       "    </tr>\n",
       "  </tbody>\n",
       "</table>\n",
       "</div>"
      ],
      "text/plain": [
       "                Model_Name           MAE           MSE          RMSE       R^2\n",
       "0        Linear Regression  1.177648e-01  2.530481e-02  2.530481e-02  0.970382\n",
       "1            KNN Regressor  9.616519e-02  1.603021e-02  1.603021e-02  0.981238\n",
       "2  Decision Tree Regressor  8.326673e-18  1.540744e-33  1.540744e-33  1.000000\n",
       "3  Random Forest Regressor  5.197213e-02  5.187055e-03  5.187055e-03  0.993929\n",
       "4         Ridge Regression  1.241663e-01  2.642164e-02  2.642164e-02  0.969075\n",
       "5         Lasso Regression  7.630536e-01  8.543775e-01  8.543775e-01  0.000000"
      ]
     },
     "execution_count": 59,
     "metadata": {},
     "output_type": "execute_result"
    }
   ],
   "source": [
    "Models_Results"
   ]
  },
  {
   "cell_type": "markdown",
   "metadata": {},
   "source": [
    "## Visualization of Various Model Results"
   ]
  },
  {
   "cell_type": "code",
   "execution_count": 60,
   "metadata": {},
   "outputs": [
    {
     "name": "stdout",
     "output_type": "stream",
     "text": [
      "                Model_Name           MAE           MSE          RMSE       R^2\n",
      "0        Linear Regression  1.177648e-01  2.530481e-02  2.530481e-02  0.970382\n",
      "1            KNN Regressor  9.616519e-02  1.603021e-02  1.603021e-02  0.981238\n",
      "2  Decision Tree Regressor  8.326673e-18  1.540744e-33  1.540744e-33  1.000000\n",
      "3  Random Forest Regressor  5.197213e-02  5.187055e-03  5.187055e-03  0.993929\n",
      "4         Ridge Regression  1.241663e-01  2.642164e-02  2.642164e-02  0.969075\n",
      "5         Lasso Regression  7.630536e-01  8.543775e-01  8.543775e-01  0.000000\n"
     ]
    },
    {
     "data": {
      "image/png": "[encoded data removed]",
      "text/plain": [
       "<Figure size 1080x360 with 1 Axes>"
      ]
     },
     "metadata": {
      "needs_background": "light"
     },
     "output_type": "display_data"
    }
   ],
   "source": [
    "print(Models_Results)\n",
    "mr = Models_Results[['MAE','MSE','RMSE','R^2']].plot(kind='bar', title =\"Model Results Comparison\", figsize=(15, 5), legend=True, fontsize=15)\n",
    "mr.set_xlabel(\"Various Models\", fontsize=12)\n",
    "mr.set_ylabel(\"Value\", fontsize=12)\n",
    "plt.show()"
   ]
  },
  {
   "cell_type": "markdown",
   "metadata": {},
   "source": [
    "### Overall Random Forest and Decision Tree tops the list when compared with other algorithms respectively with accuracy more than 99 Percentage. "
   ]
  },
  {
   "cell_type": "code",
   "execution_count": null,
   "metadata": {},
   "outputs": [],
   "source": []
  }
 ],
 "metadata": {
  "kernelspec": {
   "display_name": "Python 3",
   "language": "python",
   "name": "python3"
  },
  "language_info": {
   "codemirror_mode": {
    "name": "ipython",
    "version": 3
   },
   "file_extension": ".py",
   "mimetype": "text/x-python",
   "name": "python",
   "nbconvert_exporter": "python",
   "pygments_lexer": "ipython3",
   "version": "3.7.4"
  }
 },
 "nbformat": 4,
 "nbformat_minor": 2
}
