{
 "cells": [
  {
   "cell_type": "markdown",
   "metadata": {},
   "source": [
    "# Project Name: Weather Risk Management "
   ]
  },
  {
   "cell_type": "markdown",
   "metadata": {},
   "source": [
    "## Model Number : 2"
   ]
  },
  {
   "cell_type": "markdown",
   "metadata": {},
   "source": [
    "## Description: Model for Predicting the Weekly Sales from Different Walmart Store Sales dataset dated from 2010-02-05 to 2012-11-01"
   ]
  },
  {
   "cell_type": "markdown",
   "metadata": {},
   "source": [
    "## Installing Necesaary Libraries for Plotting Graphs, Dealing with Datasets etc.,"
   ]
  },
  {
   "cell_type": "code",
   "execution_count": 1,
   "metadata": {},
   "outputs": [],
   "source": [
    "import numpy as np \n",
    "import pandas as pd\n",
    "import seaborn as sns\n",
    "import matplotlib.pyplot as plt\n",
    "plt.rcParams['figure.figsize']= (20,7)"
   ]
  },
  {
   "cell_type": "markdown",
   "metadata": {},
   "source": [
    "## Three Different Datasets from Walmart Store Sales were Joined, Merged accordingly and finally stored on a single file with the help of PySpark RDD's  "
   ]
  },
  {
   "cell_type": "code",
   "execution_count": 2,
   "metadata": {},
   "outputs": [],
   "source": [
    "dataset= pd.read_csv('train_final.csv')"
   ]
  },
  {
   "cell_type": "code",
   "execution_count": 3,
   "metadata": {},
   "outputs": [
    {
     "data": {
      "text/html": [
       "<div>\n",
       "<style scoped>\n",
       "    .dataframe tbody tr th:only-of-type {\n",
       "        vertical-align: middle;\n",
       "    }\n",
       "\n",
       "    .dataframe tbody tr th {\n",
       "        vertical-align: top;\n",
       "    }\n",
       "\n",
       "    .dataframe thead th {\n",
       "        text-align: right;\n",
       "    }\n",
       "</style>\n",
       "<table border=\"1\" class=\"dataframe\">\n",
       "  <thead>\n",
       "    <tr style=\"text-align: right;\">\n",
       "      <th></th>\n",
       "      <th>Unnamed: 0</th>\n",
       "      <th>Store</th>\n",
       "      <th>Dept</th>\n",
       "      <th>Date</th>\n",
       "      <th>Weekly_Sales</th>\n",
       "      <th>IsHoliday_x</th>\n",
       "      <th>Type</th>\n",
       "      <th>Size</th>\n",
       "      <th>Temperature</th>\n",
       "      <th>Fuel_Price</th>\n",
       "      <th>MarkDown1</th>\n",
       "      <th>MarkDown2</th>\n",
       "      <th>MarkDown3</th>\n",
       "      <th>MarkDown4</th>\n",
       "      <th>MarkDown5</th>\n",
       "      <th>CPI</th>\n",
       "      <th>Unemployment</th>\n",
       "      <th>IsHoliday_y</th>\n",
       "    </tr>\n",
       "  </thead>\n",
       "  <tbody>\n",
       "    <tr>\n",
       "      <td>0</td>\n",
       "      <td>0</td>\n",
       "      <td>1</td>\n",
       "      <td>1</td>\n",
       "      <td>2010-02-05</td>\n",
       "      <td>24924.50</td>\n",
       "      <td>False</td>\n",
       "      <td>A</td>\n",
       "      <td>151315</td>\n",
       "      <td>42.31</td>\n",
       "      <td>2.572</td>\n",
       "      <td>NaN</td>\n",
       "      <td>NaN</td>\n",
       "      <td>NaN</td>\n",
       "      <td>NaN</td>\n",
       "      <td>NaN</td>\n",
       "      <td>211.096358</td>\n",
       "      <td>8.106</td>\n",
       "      <td>False</td>\n",
       "    </tr>\n",
       "    <tr>\n",
       "      <td>1</td>\n",
       "      <td>1</td>\n",
       "      <td>1</td>\n",
       "      <td>1</td>\n",
       "      <td>2010-02-12</td>\n",
       "      <td>46039.49</td>\n",
       "      <td>True</td>\n",
       "      <td>A</td>\n",
       "      <td>151315</td>\n",
       "      <td>38.51</td>\n",
       "      <td>2.548</td>\n",
       "      <td>NaN</td>\n",
       "      <td>NaN</td>\n",
       "      <td>NaN</td>\n",
       "      <td>NaN</td>\n",
       "      <td>NaN</td>\n",
       "      <td>211.242170</td>\n",
       "      <td>8.106</td>\n",
       "      <td>True</td>\n",
       "    </tr>\n",
       "  </tbody>\n",
       "</table>\n",
       "</div>"
      ],
      "text/plain": [
       "   Unnamed: 0  Store  Dept        Date  Weekly_Sales  IsHoliday_x Type  \\\n",
       "0           0      1     1  2010-02-05      24924.50        False    A   \n",
       "1           1      1     1  2010-02-12      46039.49         True    A   \n",
       "\n",
       "     Size  Temperature  Fuel_Price  MarkDown1  MarkDown2  MarkDown3  \\\n",
       "0  151315        42.31       2.572        NaN        NaN        NaN   \n",
       "1  151315        38.51       2.548        NaN        NaN        NaN   \n",
       "\n",
       "   MarkDown4  MarkDown5         CPI  Unemployment  IsHoliday_y  \n",
       "0        NaN        NaN  211.096358         8.106        False  \n",
       "1        NaN        NaN  211.242170         8.106         True  "
      ]
     },
     "execution_count": 3,
     "metadata": {},
     "output_type": "execute_result"
    }
   ],
   "source": [
    "dataset.head(2)"
   ]
  },
  {
   "cell_type": "markdown",
   "metadata": {},
   "source": [
    "## MongoDB API and Storing the Data Frame in to the MongoDB"
   ]
  },
  {
   "cell_type": "code",
   "execution_count": 43,
   "metadata": {},
   "outputs": [],
   "source": [
    "dataset_json= dataset.to_json(orient= 'records')"
   ]
  },
  {
   "cell_type": "code",
   "execution_count": 44,
   "metadata": {},
   "outputs": [],
   "source": [
    "from bson import json_util\n",
    "data = json_util.loads(dataset_json)"
   ]
  },
  {
   "cell_type": "code",
   "execution_count": 45,
   "metadata": {
    "collapsed": true
   },
   "outputs": [
    {
     "name": "stderr",
     "output_type": "stream",
     "text": [
      "C:\\Users\\saikarthik\\AppData\\Local\\Programs\\Python\\Python37-32\\lib\\site-packages\\ipykernel_launcher.py:8: DeprecationWarning: insert is deprecated. Use insert_one or insert_many instead.\n",
      "  \n"
     ]
    },
    {
     "data": {
      "text/plain": [
       "[ObjectId('5fdd4c2cd70fdf3f05713bac'),\n",
       " ObjectId('5fdd4c2cd70fdf3f05713bad'),\n",
       " ObjectId('5fdd4c2cd70fdf3f05713bae'),\n",
       " ObjectId('5fdd4c2cd70fdf3f05713baf'),\n",
       " ObjectId('5fdd4c2cd70fdf3f05713bb0'),\n",
       " ObjectId('5fdd4c2cd70fdf3f05713bb1'),\n",
       " ObjectId('5fdd4c2cd70fdf3f05713bb2'),\n",
       " ObjectId('5fdd4c2cd70fdf3f05713bb3'),\n",
       " ObjectId('5fdd4c2cd70fdf3f05713bb4'),\n",
       " ObjectId('5fdd4c2cd70fdf3f05713bb5'),\n",
       " ObjectId('5fdd4c2cd70fdf3f05713bb6'),\n",
       " ObjectId('5fdd4c2cd70fdf3f05713bb7'),\n",
       " ObjectId('5fdd4c2cd70fdf3f05713bb8'),\n",
       " ObjectId('5fdd4c2cd70fdf3f05713bb9'),\n",
       " ObjectId('5fdd4c2cd70fdf3f05713bba'),\n",
       " ObjectId('5fdd4c2cd70fdf3f05713bbb'),\n",
       " ObjectId('5fdd4c2cd70fdf3f05713bbc'),\n",
       " ObjectId('5fdd4c2cd70fdf3f05713bbd'),\n",
       " ObjectId('5fdd4c2cd70fdf3f05713bbe'),\n",
       " ObjectId('5fdd4c2cd70fdf3f05713bbf'),\n",
       " ObjectId('5fdd4c2cd70fdf3f05713bc0'),\n",
       " ObjectId('5fdd4c2cd70fdf3f05713bc1'),\n",
       " ObjectId('5fdd4c2cd70fdf3f05713bc2'),\n",
       " ObjectId('5fdd4c2cd70fdf3f05713bc3'),\n",
       " ObjectId('5fdd4c2cd70fdf3f05713bc4'),\n",
       " ObjectId('5fdd4c2cd70fdf3f05713bc5'),\n",
       " ObjectId('5fdd4c2cd70fdf3f05713bc6'),\n",
       " ObjectId('5fdd4c2cd70fdf3f05713bc7'),\n",
       " ObjectId('5fdd4c2cd70fdf3f05713bc8'),\n",
       " ObjectId('5fdd4c2cd70fdf3f05713bc9'),\n",
       " ObjectId('5fdd4c2cd70fdf3f05713bca'),\n",
       " ObjectId('5fdd4c2cd70fdf3f05713bcb'),\n",
       " ObjectId('5fdd4c2cd70fdf3f05713bcc'),\n",
       " ObjectId('5fdd4c2cd70fdf3f05713bcd'),\n",
       " ObjectId('5fdd4c2cd70fdf3f05713bce'),\n",
       " ObjectId('5fdd4c2cd70fdf3f05713bcf'),\n",
       " ObjectId('5fdd4c2cd70fdf3f05713bd0'),\n",
       " ObjectId('5fdd4c2cd70fdf3f05713bd1'),\n",
       " ObjectId('5fdd4c2cd70fdf3f05713bd2'),\n",
       " ObjectId('5fdd4c2cd70fdf3f05713bd3'),\n",
       " ObjectId('5fdd4c2cd70fdf3f05713bd4'),\n",
       " ObjectId('5fdd4c2cd70fdf3f05713bd5'),\n",
       " ObjectId('5fdd4c2cd70fdf3f05713bd6'),\n",
       " ObjectId('5fdd4c2cd70fdf3f05713bd7'),\n",
       " ObjectId('5fdd4c2cd70fdf3f05713bd8'),\n",
       " ObjectId('5fdd4c2cd70fdf3f05713bd9'),\n",
       " ObjectId('5fdd4c2cd70fdf3f05713bda'),\n",
       " ObjectId('5fdd4c2cd70fdf3f05713bdb'),\n",
       " ObjectId('5fdd4c2cd70fdf3f05713bdc'),\n",
       " ObjectId('5fdd4c2cd70fdf3f05713bdd'),\n",
       " ObjectId('5fdd4c2cd70fdf3f05713bde'),\n",
       " ObjectId('5fdd4c2cd70fdf3f05713bdf'),\n",
       " ObjectId('5fdd4c2cd70fdf3f05713be0'),\n",
       " ObjectId('5fdd4c2cd70fdf3f05713be1'),\n",
       " ObjectId('5fdd4c2cd70fdf3f05713be2'),\n",
       " ObjectId('5fdd4c2cd70fdf3f05713be3'),\n",
       " ObjectId('5fdd4c2cd70fdf3f05713be4'),\n",
       " ObjectId('5fdd4c2cd70fdf3f05713be5'),\n",
       " ObjectId('5fdd4c2cd70fdf3f05713be6'),\n",
       " ObjectId('5fdd4c2cd70fdf3f05713be7'),\n",
       " ObjectId('5fdd4c2cd70fdf3f05713be8'),\n",
       " ObjectId('5fdd4c2cd70fdf3f05713be9'),\n",
       " ObjectId('5fdd4c2cd70fdf3f05713bea'),\n",
       " ObjectId('5fdd4c2cd70fdf3f05713beb'),\n",
       " ObjectId('5fdd4c2cd70fdf3f05713bec'),\n",
       " ObjectId('5fdd4c2cd70fdf3f05713bed'),\n",
       " ObjectId('5fdd4c2cd70fdf3f05713bee'),\n",
       " ObjectId('5fdd4c2cd70fdf3f05713bef'),\n",
       " ObjectId('5fdd4c2cd70fdf3f05713bf0'),\n",
       " ObjectId('5fdd4c2cd70fdf3f05713bf1'),\n",
       " ObjectId('5fdd4c2cd70fdf3f05713bf2'),\n",
       " ObjectId('5fdd4c2cd70fdf3f05713bf3'),\n",
       " ObjectId('5fdd4c2cd70fdf3f05713bf4'),\n",
       " ObjectId('5fdd4c2cd70fdf3f05713bf5'),\n",
       " ObjectId('5fdd4c2cd70fdf3f05713bf6'),\n",
       " ObjectId('5fdd4c2cd70fdf3f05713bf7'),\n",
       " ObjectId('5fdd4c2cd70fdf3f05713bf8'),\n",
       " ObjectId('5fdd4c2cd70fdf3f05713bf9'),\n",
       " ObjectId('5fdd4c2cd70fdf3f05713bfa'),\n",
       " ObjectId('5fdd4c2cd70fdf3f05713bfb'),\n",
       " ObjectId('5fdd4c2cd70fdf3f05713bfc'),\n",
       " ObjectId('5fdd4c2cd70fdf3f05713bfd'),\n",
       " ObjectId('5fdd4c2cd70fdf3f05713bfe'),\n",
       " ObjectId('5fdd4c2cd70fdf3f05713bff'),\n",
       " ObjectId('5fdd4c2cd70fdf3f05713c00'),\n",
       " ObjectId('5fdd4c2cd70fdf3f05713c01'),\n",
       " ObjectId('5fdd4c2cd70fdf3f05713c02'),\n",
       " ObjectId('5fdd4c2cd70fdf3f05713c03'),\n",
       " ObjectId('5fdd4c2cd70fdf3f05713c04'),\n",
       " ObjectId('5fdd4c2cd70fdf3f05713c05'),\n",
       " ObjectId('5fdd4c2cd70fdf3f05713c06'),\n",
       " ObjectId('5fdd4c2cd70fdf3f05713c07'),\n",
       " ObjectId('5fdd4c2cd70fdf3f05713c08'),\n",
       " ObjectId('5fdd4c2cd70fdf3f05713c09'),\n",
       " ObjectId('5fdd4c2cd70fdf3f05713c0a'),\n",
       " ObjectId('5fdd4c2cd70fdf3f05713c0b'),\n",
       " ObjectId('5fdd4c2cd70fdf3f05713c0c'),\n",
       " ObjectId('5fdd4c2cd70fdf3f05713c0d'),\n",
       " ObjectId('5fdd4c2cd70fdf3f05713c0e'),\n",
       " ObjectId('5fdd4c2cd70fdf3f05713c0f'),\n",
       " ObjectId('5fdd4c2cd70fdf3f05713c10'),\n",
       " ObjectId('5fdd4c2cd70fdf3f05713c11'),\n",
       " ObjectId('5fdd4c2cd70fdf3f05713c12'),\n",
       " ObjectId('5fdd4c2cd70fdf3f05713c13'),\n",
       " ObjectId('5fdd4c2cd70fdf3f05713c14'),\n",
       " ObjectId('5fdd4c2cd70fdf3f05713c15'),\n",
       " ObjectId('5fdd4c2cd70fdf3f05713c16'),\n",
       " ObjectId('5fdd4c2cd70fdf3f05713c17'),\n",
       " ObjectId('5fdd4c2cd70fdf3f05713c18'),\n",
       " ObjectId('5fdd4c2cd70fdf3f05713c19'),\n",
       " ObjectId('5fdd4c2cd70fdf3f05713c1a'),\n",
       " ObjectId('5fdd4c2cd70fdf3f05713c1b'),\n",
       " ObjectId('5fdd4c2cd70fdf3f05713c1c'),\n",
       " ObjectId('5fdd4c2cd70fdf3f05713c1d'),\n",
       " ObjectId('5fdd4c2cd70fdf3f05713c1e'),\n",
       " ObjectId('5fdd4c2cd70fdf3f05713c1f'),\n",
       " ObjectId('5fdd4c2cd70fdf3f05713c20'),\n",
       " ObjectId('5fdd4c2cd70fdf3f05713c21'),\n",
       " ObjectId('5fdd4c2cd70fdf3f05713c22'),\n",
       " ObjectId('5fdd4c2cd70fdf3f05713c23'),\n",
       " ObjectId('5fdd4c2cd70fdf3f05713c24'),\n",
       " ObjectId('5fdd4c2cd70fdf3f05713c25'),\n",
       " ObjectId('5fdd4c2cd70fdf3f05713c26'),\n",
       " ObjectId('5fdd4c2cd70fdf3f05713c27'),\n",
       " ObjectId('5fdd4c2cd70fdf3f05713c28'),\n",
       " ObjectId('5fdd4c2cd70fdf3f05713c29'),\n",
       " ObjectId('5fdd4c2cd70fdf3f05713c2a'),\n",
       " ObjectId('5fdd4c2cd70fdf3f05713c2b'),\n",
       " ObjectId('5fdd4c2cd70fdf3f05713c2c'),\n",
       " ObjectId('5fdd4c2cd70fdf3f05713c2d'),\n",
       " ObjectId('5fdd4c2cd70fdf3f05713c2e'),\n",
       " ObjectId('5fdd4c2cd70fdf3f05713c2f'),\n",
       " ObjectId('5fdd4c2cd70fdf3f05713c30'),\n",
       " ObjectId('5fdd4c2cd70fdf3f05713c31'),\n",
       " ObjectId('5fdd4c2cd70fdf3f05713c32'),\n",
       " ObjectId('5fdd4c2cd70fdf3f05713c33'),\n",
       " ObjectId('5fdd4c2cd70fdf3f05713c34'),\n",
       " ObjectId('5fdd4c2cd70fdf3f05713c35'),\n",
       " ObjectId('5fdd4c2cd70fdf3f05713c36'),\n",
       " ObjectId('5fdd4c2cd70fdf3f05713c37'),\n",
       " ObjectId('5fdd4c2cd70fdf3f05713c38'),\n",
       " ObjectId('5fdd4c2cd70fdf3f05713c39'),\n",
       " ObjectId('5fdd4c2cd70fdf3f05713c3a'),\n",
       " ObjectId('5fdd4c2cd70fdf3f05713c3b'),\n",
       " ObjectId('5fdd4c2cd70fdf3f05713c3c'),\n",
       " ObjectId('5fdd4c2cd70fdf3f05713c3d'),\n",
       " ObjectId('5fdd4c2cd70fdf3f05713c3e'),\n",
       " ObjectId('5fdd4c2cd70fdf3f05713c3f'),\n",
       " ObjectId('5fdd4c2cd70fdf3f05713c40'),\n",
       " ObjectId('5fdd4c2cd70fdf3f05713c41'),\n",
       " ObjectId('5fdd4c2cd70fdf3f05713c42'),\n",
       " ObjectId('5fdd4c2cd70fdf3f05713c43'),\n",
       " ObjectId('5fdd4c2cd70fdf3f05713c44'),\n",
       " ObjectId('5fdd4c2cd70fdf3f05713c45'),\n",
       " ObjectId('5fdd4c2cd70fdf3f05713c46'),\n",
       " ObjectId('5fdd4c2cd70fdf3f05713c47'),\n",
       " ObjectId('5fdd4c2cd70fdf3f05713c48'),\n",
       " ObjectId('5fdd4c2cd70fdf3f05713c49'),\n",
       " ObjectId('5fdd4c2cd70fdf3f05713c4a'),\n",
       " ObjectId('5fdd4c2cd70fdf3f05713c4b'),\n",
       " ObjectId('5fdd4c2cd70fdf3f05713c4c'),\n",
       " ObjectId('5fdd4c2cd70fdf3f05713c4d'),\n",
       " ObjectId('5fdd4c2cd70fdf3f05713c4e'),\n",
       " ObjectId('5fdd4c2cd70fdf3f05713c4f'),\n",
       " ObjectId('5fdd4c2cd70fdf3f05713c50'),\n",
       " ObjectId('5fdd4c2cd70fdf3f05713c51'),\n",
       " ObjectId('5fdd4c2cd70fdf3f05713c52'),\n",
       " ObjectId('5fdd4c2cd70fdf3f05713c53'),\n",
       " ObjectId('5fdd4c2cd70fdf3f05713c54'),\n",
       " ObjectId('5fdd4c2cd70fdf3f05713c55'),\n",
       " ObjectId('5fdd4c2cd70fdf3f05713c56'),\n",
       " ObjectId('5fdd4c2cd70fdf3f05713c57'),\n",
       " ObjectId('5fdd4c2cd70fdf3f05713c58'),\n",
       " ObjectId('5fdd4c2cd70fdf3f05713c59'),\n",
       " ObjectId('5fdd4c2cd70fdf3f05713c5a'),\n",
       " ObjectId('5fdd4c2cd70fdf3f05713c5b'),\n",
       " ObjectId('5fdd4c2cd70fdf3f05713c5c'),\n",
       " ObjectId('5fdd4c2cd70fdf3f05713c5d'),\n",
       " ObjectId('5fdd4c2cd70fdf3f05713c5e'),\n",
       " ObjectId('5fdd4c2cd70fdf3f05713c5f'),\n",
       " ObjectId('5fdd4c2cd70fdf3f05713c60'),\n",
       " ObjectId('5fdd4c2cd70fdf3f05713c61'),\n",
       " ObjectId('5fdd4c2cd70fdf3f05713c62'),\n",
       " ObjectId('5fdd4c2cd70fdf3f05713c63'),\n",
       " ObjectId('5fdd4c2cd70fdf3f05713c64'),\n",
       " ObjectId('5fdd4c2cd70fdf3f05713c65'),\n",
       " ObjectId('5fdd4c2cd70fdf3f05713c66'),\n",
       " ObjectId('5fdd4c2cd70fdf3f05713c67'),\n",
       " ObjectId('5fdd4c2cd70fdf3f05713c68'),\n",
       " ObjectId('5fdd4c2cd70fdf3f05713c69'),\n",
       " ObjectId('5fdd4c2cd70fdf3f05713c6a'),\n",
       " ObjectId('5fdd4c2cd70fdf3f05713c6b'),\n",
       " ObjectId('5fdd4c2cd70fdf3f05713c6c'),\n",
       " ObjectId('5fdd4c2cd70fdf3f05713c6d'),\n",
       " ObjectId('5fdd4c2cd70fdf3f05713c6e'),\n",
       " ObjectId('5fdd4c2cd70fdf3f05713c6f'),\n",
       " ObjectId('5fdd4c2cd70fdf3f05713c70'),\n",
       " ObjectId('5fdd4c2cd70fdf3f05713c71'),\n",
       " ObjectId('5fdd4c2cd70fdf3f05713c72'),\n",
       " ObjectId('5fdd4c2cd70fdf3f05713c73'),\n",
       " ObjectId('5fdd4c2cd70fdf3f05713c74'),\n",
       " ObjectId('5fdd4c2cd70fdf3f05713c75'),\n",
       " ObjectId('5fdd4c2cd70fdf3f05713c76'),\n",
       " ObjectId('5fdd4c2cd70fdf3f05713c77'),\n",
       " ObjectId('5fdd4c2cd70fdf3f05713c78'),\n",
       " ObjectId('5fdd4c2cd70fdf3f05713c79'),\n",
       " ObjectId('5fdd4c2cd70fdf3f05713c7a'),\n",
       " ObjectId('5fdd4c2cd70fdf3f05713c7b'),\n",
       " ObjectId('5fdd4c2cd70fdf3f05713c7c'),\n",
       " ObjectId('5fdd4c2cd70fdf3f05713c7d'),\n",
       " ObjectId('5fdd4c2cd70fdf3f05713c7e'),\n",
       " ObjectId('5fdd4c2cd70fdf3f05713c7f'),\n",
       " ObjectId('5fdd4c2cd70fdf3f05713c80'),\n",
       " ObjectId('5fdd4c2cd70fdf3f05713c81'),\n",
       " ObjectId('5fdd4c2cd70fdf3f05713c82'),\n",
       " ObjectId('5fdd4c2cd70fdf3f05713c83'),\n",
       " ObjectId('5fdd4c2cd70fdf3f05713c84'),\n",
       " ObjectId('5fdd4c2cd70fdf3f05713c85'),\n",
       " ObjectId('5fdd4c2cd70fdf3f05713c86'),\n",
       " ObjectId('5fdd4c2cd70fdf3f05713c87'),\n",
       " ObjectId('5fdd4c2cd70fdf3f05713c88'),\n",
       " ObjectId('5fdd4c2cd70fdf3f05713c89'),\n",
       " ObjectId('5fdd4c2cd70fdf3f05713c8a'),\n",
       " ObjectId('5fdd4c2cd70fdf3f05713c8b'),\n",
       " ObjectId('5fdd4c2cd70fdf3f05713c8c'),\n",
       " ObjectId('5fdd4c2cd70fdf3f05713c8d'),\n",
       " ObjectId('5fdd4c2cd70fdf3f05713c8e'),\n",
       " ObjectId('5fdd4c2cd70fdf3f05713c8f'),\n",
       " ObjectId('5fdd4c2cd70fdf3f05713c90'),\n",
       " ObjectId('5fdd4c2cd70fdf3f05713c91'),\n",
       " ObjectId('5fdd4c2cd70fdf3f05713c92'),\n",
       " ObjectId('5fdd4c2cd70fdf3f05713c93'),\n",
       " ObjectId('5fdd4c2cd70fdf3f05713c94'),\n",
       " ObjectId('5fdd4c2cd70fdf3f05713c95'),\n",
       " ObjectId('5fdd4c2cd70fdf3f05713c96'),\n",
       " ObjectId('5fdd4c2cd70fdf3f05713c97'),\n",
       " ObjectId('5fdd4c2cd70fdf3f05713c98'),\n",
       " ObjectId('5fdd4c2cd70fdf3f05713c99'),\n",
       " ObjectId('5fdd4c2cd70fdf3f05713c9a'),\n",
       " ObjectId('5fdd4c2cd70fdf3f05713c9b'),\n",
       " ObjectId('5fdd4c2cd70fdf3f05713c9c'),\n",
       " ObjectId('5fdd4c2cd70fdf3f05713c9d'),\n",
       " ObjectId('5fdd4c2cd70fdf3f05713c9e'),\n",
       " ObjectId('5fdd4c2cd70fdf3f05713c9f'),\n",
       " ObjectId('5fdd4c2cd70fdf3f05713ca0'),\n",
       " ObjectId('5fdd4c2cd70fdf3f05713ca1'),\n",
       " ObjectId('5fdd4c2cd70fdf3f05713ca2'),\n",
       " ObjectId('5fdd4c2cd70fdf3f05713ca3'),\n",
       " ObjectId('5fdd4c2cd70fdf3f05713ca4'),\n",
       " ObjectId('5fdd4c2cd70fdf3f05713ca5'),\n",
       " ObjectId('5fdd4c2cd70fdf3f05713ca6'),\n",
       " ObjectId('5fdd4c2cd70fdf3f05713ca7'),\n",
       " ObjectId('5fdd4c2cd70fdf3f05713ca8'),\n",
       " ObjectId('5fdd4c2cd70fdf3f05713ca9'),\n",
       " ObjectId('5fdd4c2cd70fdf3f05713caa'),\n",
       " ObjectId('5fdd4c2cd70fdf3f05713cab'),\n",
       " ObjectId('5fdd4c2cd70fdf3f05713cac'),\n",
       " ObjectId('5fdd4c2cd70fdf3f05713cad'),\n",
       " ObjectId('5fdd4c2cd70fdf3f05713cae'),\n",
       " ObjectId('5fdd4c2cd70fdf3f05713caf'),\n",
       " ObjectId('5fdd4c2cd70fdf3f05713cb0'),\n",
       " ObjectId('5fdd4c2cd70fdf3f05713cb1'),\n",
       " ObjectId('5fdd4c2cd70fdf3f05713cb2'),\n",
       " ObjectId('5fdd4c2cd70fdf3f05713cb3'),\n",
       " ObjectId('5fdd4c2cd70fdf3f05713cb4'),\n",
       " ObjectId('5fdd4c2cd70fdf3f05713cb5'),\n",
       " ObjectId('5fdd4c2cd70fdf3f05713cb6'),\n",
       " ObjectId('5fdd4c2cd70fdf3f05713cb7'),\n",
       " ObjectId('5fdd4c2cd70fdf3f05713cb8'),\n",
       " ObjectId('5fdd4c2cd70fdf3f05713cb9'),\n",
       " ObjectId('5fdd4c2cd70fdf3f05713cba'),\n",
       " ObjectId('5fdd4c2cd70fdf3f05713cbb'),\n",
       " ObjectId('5fdd4c2cd70fdf3f05713cbc'),\n",
       " ObjectId('5fdd4c2cd70fdf3f05713cbd'),\n",
       " ObjectId('5fdd4c2cd70fdf3f05713cbe'),\n",
       " ObjectId('5fdd4c2cd70fdf3f05713cbf'),\n",
       " ObjectId('5fdd4c2cd70fdf3f05713cc0'),\n",
       " ObjectId('5fdd4c2cd70fdf3f05713cc1'),\n",
       " ObjectId('5fdd4c2cd70fdf3f05713cc2'),\n",
       " ObjectId('5fdd4c2cd70fdf3f05713cc3'),\n",
       " ObjectId('5fdd4c2cd70fdf3f05713cc4'),\n",
       " ObjectId('5fdd4c2cd70fdf3f05713cc5'),\n",
       " ObjectId('5fdd4c2cd70fdf3f05713cc6'),\n",
       " ObjectId('5fdd4c2cd70fdf3f05713cc7'),\n",
       " ObjectId('5fdd4c2cd70fdf3f05713cc8'),\n",
       " ObjectId('5fdd4c2cd70fdf3f05713cc9'),\n",
       " ObjectId('5fdd4c2cd70fdf3f05713cca'),\n",
       " ObjectId('5fdd4c2cd70fdf3f05713ccb'),\n",
       " ObjectId('5fdd4c2cd70fdf3f05713ccc'),\n",
       " ObjectId('5fdd4c2cd70fdf3f05713ccd'),\n",
       " ObjectId('5fdd4c2cd70fdf3f05713cce'),\n",
       " ObjectId('5fdd4c2cd70fdf3f05713ccf'),\n",
       " ObjectId('5fdd4c2cd70fdf3f05713cd0'),\n",
       " ObjectId('5fdd4c2cd70fdf3f05713cd1'),\n",
       " ObjectId('5fdd4c2cd70fdf3f05713cd2'),\n",
       " ObjectId('5fdd4c2cd70fdf3f05713cd3'),\n",
       " ObjectId('5fdd4c2cd70fdf3f05713cd4'),\n",
       " ObjectId('5fdd4c2cd70fdf3f05713cd5'),\n",
       " ObjectId('5fdd4c2cd70fdf3f05713cd6'),\n",
       " ObjectId('5fdd4c2cd70fdf3f05713cd7'),\n",
       " ObjectId('5fdd4c2cd70fdf3f05713cd8'),\n",
       " ObjectId('5fdd4c2cd70fdf3f05713cd9'),\n",
       " ObjectId('5fdd4c2cd70fdf3f05713cda'),\n",
       " ObjectId('5fdd4c2cd70fdf3f05713cdb'),\n",
       " ObjectId('5fdd4c2cd70fdf3f05713cdc'),\n",
       " ObjectId('5fdd4c2cd70fdf3f05713cdd'),\n",
       " ObjectId('5fdd4c2cd70fdf3f05713cde'),\n",
       " ObjectId('5fdd4c2cd70fdf3f05713cdf'),\n",
       " ObjectId('5fdd4c2cd70fdf3f05713ce0'),\n",
       " ObjectId('5fdd4c2cd70fdf3f05713ce1'),\n",
       " ObjectId('5fdd4c2cd70fdf3f05713ce2'),\n",
       " ObjectId('5fdd4c2cd70fdf3f05713ce3'),\n",
       " ObjectId('5fdd4c2cd70fdf3f05713ce4'),\n",
       " ObjectId('5fdd4c2cd70fdf3f05713ce5'),\n",
       " ObjectId('5fdd4c2cd70fdf3f05713ce6'),\n",
       " ObjectId('5fdd4c2cd70fdf3f05713ce7'),\n",
       " ObjectId('5fdd4c2cd70fdf3f05713ce8'),\n",
       " ObjectId('5fdd4c2cd70fdf3f05713ce9'),\n",
       " ObjectId('5fdd4c2cd70fdf3f05713cea'),\n",
       " ObjectId('5fdd4c2cd70fdf3f05713ceb'),\n",
       " ObjectId('5fdd4c2cd70fdf3f05713cec'),\n",
       " ObjectId('5fdd4c2cd70fdf3f05713ced'),\n",
       " ObjectId('5fdd4c2cd70fdf3f05713cee'),\n",
       " ObjectId('5fdd4c2cd70fdf3f05713cef'),\n",
       " ObjectId('5fdd4c2cd70fdf3f05713cf0'),\n",
       " ObjectId('5fdd4c2cd70fdf3f05713cf1'),\n",
       " ObjectId('5fdd4c2cd70fdf3f05713cf2'),\n",
       " ObjectId('5fdd4c2cd70fdf3f05713cf3'),\n",
       " ObjectId('5fdd4c2cd70fdf3f05713cf4'),\n",
       " ObjectId('5fdd4c2cd70fdf3f05713cf5'),\n",
       " ObjectId('5fdd4c2cd70fdf3f05713cf6'),\n",
       " ObjectId('5fdd4c2cd70fdf3f05713cf7'),\n",
       " ObjectId('5fdd4c2cd70fdf3f05713cf8'),\n",
       " ObjectId('5fdd4c2cd70fdf3f05713cf9'),\n",
       " ObjectId('5fdd4c2cd70fdf3f05713cfa'),\n",
       " ObjectId('5fdd4c2cd70fdf3f05713cfb'),\n",
       " ObjectId('5fdd4c2cd70fdf3f05713cfc'),\n",
       " ObjectId('5fdd4c2cd70fdf3f05713cfd'),\n",
       " ObjectId('5fdd4c2cd70fdf3f05713cfe'),\n",
       " ObjectId('5fdd4c2cd70fdf3f05713cff'),\n",
       " ObjectId('5fdd4c2cd70fdf3f05713d00'),\n",
       " ObjectId('5fdd4c2cd70fdf3f05713d01'),\n",
       " ObjectId('5fdd4c2cd70fdf3f05713d02'),\n",
       " ObjectId('5fdd4c2cd70fdf3f05713d03'),\n",
       " ObjectId('5fdd4c2cd70fdf3f05713d04'),\n",
       " ObjectId('5fdd4c2cd70fdf3f05713d05'),\n",
       " ObjectId('5fdd4c2cd70fdf3f05713d06'),\n",
       " ObjectId('5fdd4c2cd70fdf3f05713d07'),\n",
       " ObjectId('5fdd4c2cd70fdf3f05713d08'),\n",
       " ObjectId('5fdd4c2cd70fdf3f05713d09'),\n",
       " ObjectId('5fdd4c2cd70fdf3f05713d0a'),\n",
       " ObjectId('5fdd4c2cd70fdf3f05713d0b'),\n",
       " ObjectId('5fdd4c2cd70fdf3f05713d0c'),\n",
       " ObjectId('5fdd4c2cd70fdf3f05713d0d'),\n",
       " ObjectId('5fdd4c2cd70fdf3f05713d0e'),\n",
       " ObjectId('5fdd4c2cd70fdf3f05713d0f'),\n",
       " ObjectId('5fdd4c2cd70fdf3f05713d10'),\n",
       " ObjectId('5fdd4c2cd70fdf3f05713d11'),\n",
       " ObjectId('5fdd4c2cd70fdf3f05713d12'),\n",
       " ObjectId('5fdd4c2cd70fdf3f05713d13'),\n",
       " ObjectId('5fdd4c2cd70fdf3f05713d14'),\n",
       " ObjectId('5fdd4c2cd70fdf3f05713d15'),\n",
       " ObjectId('5fdd4c2cd70fdf3f05713d16'),\n",
       " ObjectId('5fdd4c2cd70fdf3f05713d17'),\n",
       " ObjectId('5fdd4c2cd70fdf3f05713d18'),\n",
       " ObjectId('5fdd4c2cd70fdf3f05713d19'),\n",
       " ObjectId('5fdd4c2cd70fdf3f05713d1a'),\n",
       " ObjectId('5fdd4c2cd70fdf3f05713d1b'),\n",
       " ObjectId('5fdd4c2cd70fdf3f05713d1c'),\n",
       " ObjectId('5fdd4c2cd70fdf3f05713d1d'),\n",
       " ObjectId('5fdd4c2cd70fdf3f05713d1e'),\n",
       " ObjectId('5fdd4c2cd70fdf3f05713d1f'),\n",
       " ObjectId('5fdd4c2cd70fdf3f05713d20'),\n",
       " ObjectId('5fdd4c2cd70fdf3f05713d21'),\n",
       " ObjectId('5fdd4c2cd70fdf3f05713d22'),\n",
       " ObjectId('5fdd4c2cd70fdf3f05713d23'),\n",
       " ObjectId('5fdd4c2cd70fdf3f05713d24'),\n",
       " ObjectId('5fdd4c2cd70fdf3f05713d25'),\n",
       " ObjectId('5fdd4c2cd70fdf3f05713d26'),\n",
       " ObjectId('5fdd4c2cd70fdf3f05713d27'),\n",
       " ObjectId('5fdd4c2cd70fdf3f05713d28'),\n",
       " ObjectId('5fdd4c2cd70fdf3f05713d29'),\n",
       " ObjectId('5fdd4c2cd70fdf3f05713d2a'),\n",
       " ObjectId('5fdd4c2cd70fdf3f05713d2b'),\n",
       " ObjectId('5fdd4c2cd70fdf3f05713d2c'),\n",
       " ObjectId('5fdd4c2cd70fdf3f05713d2d'),\n",
       " ObjectId('5fdd4c2cd70fdf3f05713d2e'),\n",
       " ObjectId('5fdd4c2cd70fdf3f05713d2f'),\n",
       " ObjectId('5fdd4c2cd70fdf3f05713d30'),\n",
       " ObjectId('5fdd4c2cd70fdf3f05713d31'),\n",
       " ObjectId('5fdd4c2cd70fdf3f05713d32'),\n",
       " ObjectId('5fdd4c2cd70fdf3f05713d33'),\n",
       " ObjectId('5fdd4c2cd70fdf3f05713d34'),\n",
       " ObjectId('5fdd4c2cd70fdf3f05713d35'),\n",
       " ObjectId('5fdd4c2cd70fdf3f05713d36'),\n",
       " ObjectId('5fdd4c2cd70fdf3f05713d37'),\n",
       " ObjectId('5fdd4c2cd70fdf3f05713d38'),\n",
       " ObjectId('5fdd4c2cd70fdf3f05713d39'),\n",
       " ObjectId('5fdd4c2cd70fdf3f05713d3a'),\n",
       " ObjectId('5fdd4c2cd70fdf3f05713d3b'),\n",
       " ObjectId('5fdd4c2cd70fdf3f05713d3c'),\n",
       " ObjectId('5fdd4c2cd70fdf3f05713d3d'),\n",
       " ObjectId('5fdd4c2cd70fdf3f05713d3e'),\n",
       " ObjectId('5fdd4c2cd70fdf3f05713d3f'),\n",
       " ObjectId('5fdd4c2cd70fdf3f05713d40'),\n",
       " ObjectId('5fdd4c2cd70fdf3f05713d41'),\n",
       " ObjectId('5fdd4c2cd70fdf3f05713d42'),\n",
       " ObjectId('5fdd4c2cd70fdf3f05713d43'),\n",
       " ObjectId('5fdd4c2cd70fdf3f05713d44'),\n",
       " ObjectId('5fdd4c2cd70fdf3f05713d45'),\n",
       " ObjectId('5fdd4c2cd70fdf3f05713d46'),\n",
       " ObjectId('5fdd4c2cd70fdf3f05713d47'),\n",
       " ObjectId('5fdd4c2cd70fdf3f05713d48'),\n",
       " ObjectId('5fdd4c2cd70fdf3f05713d49'),\n",
       " ObjectId('5fdd4c2cd70fdf3f05713d4a'),\n",
       " ObjectId('5fdd4c2cd70fdf3f05713d4b'),\n",
       " ObjectId('5fdd4c2cd70fdf3f05713d4c'),\n",
       " ObjectId('5fdd4c2cd70fdf3f05713d4d'),\n",
       " ObjectId('5fdd4c2cd70fdf3f05713d4e'),\n",
       " ObjectId('5fdd4c2cd70fdf3f05713d4f'),\n",
       " ObjectId('5fdd4c2cd70fdf3f05713d50'),\n",
       " ObjectId('5fdd4c2cd70fdf3f05713d51'),\n",
       " ObjectId('5fdd4c2cd70fdf3f05713d52'),\n",
       " ObjectId('5fdd4c2cd70fdf3f05713d53'),\n",
       " ObjectId('5fdd4c2cd70fdf3f05713d54'),\n",
       " ObjectId('5fdd4c2cd70fdf3f05713d55'),\n",
       " ObjectId('5fdd4c2cd70fdf3f05713d56'),\n",
       " ObjectId('5fdd4c2cd70fdf3f05713d57'),\n",
       " ObjectId('5fdd4c2cd70fdf3f05713d58'),\n",
       " ObjectId('5fdd4c2cd70fdf3f05713d59'),\n",
       " ObjectId('5fdd4c2cd70fdf3f05713d5a'),\n",
       " ObjectId('5fdd4c2cd70fdf3f05713d5b'),\n",
       " ObjectId('5fdd4c2cd70fdf3f05713d5c'),\n",
       " ObjectId('5fdd4c2cd70fdf3f05713d5d'),\n",
       " ObjectId('5fdd4c2cd70fdf3f05713d5e'),\n",
       " ObjectId('5fdd4c2cd70fdf3f05713d5f'),\n",
       " ObjectId('5fdd4c2cd70fdf3f05713d60'),\n",
       " ObjectId('5fdd4c2cd70fdf3f05713d61'),\n",
       " ObjectId('5fdd4c2cd70fdf3f05713d62'),\n",
       " ObjectId('5fdd4c2cd70fdf3f05713d63'),\n",
       " ObjectId('5fdd4c2cd70fdf3f05713d64'),\n",
       " ObjectId('5fdd4c2cd70fdf3f05713d65'),\n",
       " ObjectId('5fdd4c2cd70fdf3f05713d66'),\n",
       " ObjectId('5fdd4c2cd70fdf3f05713d67'),\n",
       " ObjectId('5fdd4c2cd70fdf3f05713d68'),\n",
       " ObjectId('5fdd4c2cd70fdf3f05713d69'),\n",
       " ObjectId('5fdd4c2cd70fdf3f05713d6a'),\n",
       " ObjectId('5fdd4c2cd70fdf3f05713d6b'),\n",
       " ObjectId('5fdd4c2cd70fdf3f05713d6c'),\n",
       " ObjectId('5fdd4c2cd70fdf3f05713d6d'),\n",
       " ObjectId('5fdd4c2cd70fdf3f05713d6e'),\n",
       " ObjectId('5fdd4c2cd70fdf3f05713d6f'),\n",
       " ObjectId('5fdd4c2cd70fdf3f05713d70'),\n",
       " ObjectId('5fdd4c2cd70fdf3f05713d71'),\n",
       " ObjectId('5fdd4c2cd70fdf3f05713d72'),\n",
       " ObjectId('5fdd4c2cd70fdf3f05713d73'),\n",
       " ObjectId('5fdd4c2cd70fdf3f05713d74'),\n",
       " ObjectId('5fdd4c2cd70fdf3f05713d75'),\n",
       " ObjectId('5fdd4c2cd70fdf3f05713d76'),\n",
       " ObjectId('5fdd4c2cd70fdf3f05713d77'),\n",
       " ObjectId('5fdd4c2cd70fdf3f05713d78'),\n",
       " ObjectId('5fdd4c2cd70fdf3f05713d79'),\n",
       " ObjectId('5fdd4c2cd70fdf3f05713d7a'),\n",
       " ObjectId('5fdd4c2cd70fdf3f05713d7b'),\n",
       " ObjectId('5fdd4c2cd70fdf3f05713d7c'),\n",
       " ObjectId('5fdd4c2cd70fdf3f05713d7d'),\n",
       " ObjectId('5fdd4c2cd70fdf3f05713d7e'),\n",
       " ObjectId('5fdd4c2cd70fdf3f05713d7f'),\n",
       " ObjectId('5fdd4c2cd70fdf3f05713d80'),\n",
       " ObjectId('5fdd4c2cd70fdf3f05713d81'),\n",
       " ObjectId('5fdd4c2cd70fdf3f05713d82'),\n",
       " ObjectId('5fdd4c2cd70fdf3f05713d83'),\n",
       " ObjectId('5fdd4c2cd70fdf3f05713d84'),\n",
       " ObjectId('5fdd4c2cd70fdf3f05713d85'),\n",
       " ObjectId('5fdd4c2cd70fdf3f05713d86'),\n",
       " ObjectId('5fdd4c2cd70fdf3f05713d87'),\n",
       " ObjectId('5fdd4c2cd70fdf3f05713d88'),\n",
       " ObjectId('5fdd4c2cd70fdf3f05713d89'),\n",
       " ObjectId('5fdd4c2cd70fdf3f05713d8a'),\n",
       " ObjectId('5fdd4c2cd70fdf3f05713d8b'),\n",
       " ObjectId('5fdd4c2cd70fdf3f05713d8c'),\n",
       " ObjectId('5fdd4c2cd70fdf3f05713d8d'),\n",
       " ObjectId('5fdd4c2cd70fdf3f05713d8e'),\n",
       " ObjectId('5fdd4c2cd70fdf3f05713d8f'),\n",
       " ObjectId('5fdd4c2cd70fdf3f05713d90'),\n",
       " ObjectId('5fdd4c2cd70fdf3f05713d91'),\n",
       " ObjectId('5fdd4c2cd70fdf3f05713d92'),\n",
       " ObjectId('5fdd4c2cd70fdf3f05713d93'),\n",
       " ObjectId('5fdd4c2cd70fdf3f05713d94'),\n",
       " ObjectId('5fdd4c2cd70fdf3f05713d95'),\n",
       " ObjectId('5fdd4c2cd70fdf3f05713d96'),\n",
       " ObjectId('5fdd4c2cd70fdf3f05713d97'),\n",
       " ObjectId('5fdd4c2cd70fdf3f05713d98'),\n",
       " ObjectId('5fdd4c2cd70fdf3f05713d99'),\n",
       " ObjectId('5fdd4c2cd70fdf3f05713d9a'),\n",
       " ObjectId('5fdd4c2cd70fdf3f05713d9b'),\n",
       " ObjectId('5fdd4c2cd70fdf3f05713d9c'),\n",
       " ObjectId('5fdd4c2cd70fdf3f05713d9d'),\n",
       " ObjectId('5fdd4c2cd70fdf3f05713d9e'),\n",
       " ObjectId('5fdd4c2cd70fdf3f05713d9f'),\n",
       " ObjectId('5fdd4c2cd70fdf3f05713da0'),\n",
       " ObjectId('5fdd4c2cd70fdf3f05713da1'),\n",
       " ObjectId('5fdd4c2cd70fdf3f05713da2'),\n",
       " ObjectId('5fdd4c2cd70fdf3f05713da3'),\n",
       " ObjectId('5fdd4c2cd70fdf3f05713da4'),\n",
       " ObjectId('5fdd4c2cd70fdf3f05713da5'),\n",
       " ObjectId('5fdd4c2cd70fdf3f05713da6'),\n",
       " ObjectId('5fdd4c2cd70fdf3f05713da7'),\n",
       " ObjectId('5fdd4c2cd70fdf3f05713da8'),\n",
       " ObjectId('5fdd4c2cd70fdf3f05713da9'),\n",
       " ObjectId('5fdd4c2cd70fdf3f05713daa'),\n",
       " ObjectId('5fdd4c2cd70fdf3f05713dab'),\n",
       " ObjectId('5fdd4c2cd70fdf3f05713dac'),\n",
       " ObjectId('5fdd4c2cd70fdf3f05713dad'),\n",
       " ObjectId('5fdd4c2cd70fdf3f05713dae'),\n",
       " ObjectId('5fdd4c2cd70fdf3f05713daf'),\n",
       " ObjectId('5fdd4c2cd70fdf3f05713db0'),\n",
       " ObjectId('5fdd4c2cd70fdf3f05713db1'),\n",
       " ObjectId('5fdd4c2cd70fdf3f05713db2'),\n",
       " ObjectId('5fdd4c2cd70fdf3f05713db3'),\n",
       " ObjectId('5fdd4c2cd70fdf3f05713db4'),\n",
       " ObjectId('5fdd4c2cd70fdf3f05713db5'),\n",
       " ObjectId('5fdd4c2cd70fdf3f05713db6'),\n",
       " ObjectId('5fdd4c2cd70fdf3f05713db7'),\n",
       " ObjectId('5fdd4c2cd70fdf3f05713db8'),\n",
       " ObjectId('5fdd4c2cd70fdf3f05713db9'),\n",
       " ObjectId('5fdd4c2cd70fdf3f05713dba'),\n",
       " ObjectId('5fdd4c2cd70fdf3f05713dbb'),\n",
       " ObjectId('5fdd4c2cd70fdf3f05713dbc'),\n",
       " ObjectId('5fdd4c2cd70fdf3f05713dbd'),\n",
       " ObjectId('5fdd4c2cd70fdf3f05713dbe'),\n",
       " ObjectId('5fdd4c2cd70fdf3f05713dbf'),\n",
       " ObjectId('5fdd4c2cd70fdf3f05713dc0'),\n",
       " ObjectId('5fdd4c2cd70fdf3f05713dc1'),\n",
       " ObjectId('5fdd4c2cd70fdf3f05713dc2'),\n",
       " ObjectId('5fdd4c2cd70fdf3f05713dc3'),\n",
       " ObjectId('5fdd4c2cd70fdf3f05713dc4'),\n",
       " ObjectId('5fdd4c2cd70fdf3f05713dc5'),\n",
       " ObjectId('5fdd4c2cd70fdf3f05713dc6'),\n",
       " ObjectId('5fdd4c2cd70fdf3f05713dc7'),\n",
       " ObjectId('5fdd4c2cd70fdf3f05713dc8'),\n",
       " ObjectId('5fdd4c2cd70fdf3f05713dc9'),\n",
       " ObjectId('5fdd4c2cd70fdf3f05713dca'),\n",
       " ObjectId('5fdd4c2cd70fdf3f05713dcb'),\n",
       " ObjectId('5fdd4c2cd70fdf3f05713dcc'),\n",
       " ObjectId('5fdd4c2cd70fdf3f05713dcd'),\n",
       " ObjectId('5fdd4c2cd70fdf3f05713dce'),\n",
       " ObjectId('5fdd4c2cd70fdf3f05713dcf'),\n",
       " ObjectId('5fdd4c2cd70fdf3f05713dd0'),\n",
       " ObjectId('5fdd4c2cd70fdf3f05713dd1'),\n",
       " ObjectId('5fdd4c2cd70fdf3f05713dd2'),\n",
       " ObjectId('5fdd4c2cd70fdf3f05713dd3'),\n",
       " ObjectId('5fdd4c2cd70fdf3f05713dd4'),\n",
       " ObjectId('5fdd4c2cd70fdf3f05713dd5'),\n",
       " ObjectId('5fdd4c2cd70fdf3f05713dd6'),\n",
       " ObjectId('5fdd4c2cd70fdf3f05713dd7'),\n",
       " ObjectId('5fdd4c2cd70fdf3f05713dd8'),\n",
       " ObjectId('5fdd4c2cd70fdf3f05713dd9'),\n",
       " ObjectId('5fdd4c2cd70fdf3f05713dda'),\n",
       " ObjectId('5fdd4c2cd70fdf3f05713ddb'),\n",
       " ObjectId('5fdd4c2cd70fdf3f05713ddc'),\n",
       " ObjectId('5fdd4c2cd70fdf3f05713ddd'),\n",
       " ObjectId('5fdd4c2cd70fdf3f05713dde'),\n",
       " ObjectId('5fdd4c2cd70fdf3f05713ddf'),\n",
       " ObjectId('5fdd4c2cd70fdf3f05713de0'),\n",
       " ObjectId('5fdd4c2cd70fdf3f05713de1'),\n",
       " ObjectId('5fdd4c2cd70fdf3f05713de2'),\n",
       " ObjectId('5fdd4c2cd70fdf3f05713de3'),\n",
       " ObjectId('5fdd4c2cd70fdf3f05713de4'),\n",
       " ObjectId('5fdd4c2cd70fdf3f05713de5'),\n",
       " ObjectId('5fdd4c2cd70fdf3f05713de6'),\n",
       " ObjectId('5fdd4c2cd70fdf3f05713de7'),\n",
       " ObjectId('5fdd4c2cd70fdf3f05713de8'),\n",
       " ObjectId('5fdd4c2cd70fdf3f05713de9'),\n",
       " ObjectId('5fdd4c2cd70fdf3f05713dea'),\n",
       " ObjectId('5fdd4c2cd70fdf3f05713deb'),\n",
       " ObjectId('5fdd4c2cd70fdf3f05713dec'),\n",
       " ObjectId('5fdd4c2cd70fdf3f05713ded'),\n",
       " ObjectId('5fdd4c2cd70fdf3f05713dee'),\n",
       " ObjectId('5fdd4c2cd70fdf3f05713def'),\n",
       " ObjectId('5fdd4c2cd70fdf3f05713df0'),\n",
       " ObjectId('5fdd4c2cd70fdf3f05713df1'),\n",
       " ObjectId('5fdd4c2cd70fdf3f05713df2'),\n",
       " ObjectId('5fdd4c2cd70fdf3f05713df3'),\n",
       " ObjectId('5fdd4c2cd70fdf3f05713df4'),\n",
       " ObjectId('5fdd4c2cd70fdf3f05713df5'),\n",
       " ObjectId('5fdd4c2cd70fdf3f05713df6'),\n",
       " ObjectId('5fdd4c2cd70fdf3f05713df7'),\n",
       " ObjectId('5fdd4c2cd70fdf3f05713df8'),\n",
       " ObjectId('5fdd4c2cd70fdf3f05713df9'),\n",
       " ObjectId('5fdd4c2cd70fdf3f05713dfa'),\n",
       " ObjectId('5fdd4c2cd70fdf3f05713dfb'),\n",
       " ObjectId('5fdd4c2cd70fdf3f05713dfc'),\n",
       " ObjectId('5fdd4c2cd70fdf3f05713dfd'),\n",
       " ObjectId('5fdd4c2cd70fdf3f05713dfe'),\n",
       " ObjectId('5fdd4c2cd70fdf3f05713dff'),\n",
       " ObjectId('5fdd4c2cd70fdf3f05713e00'),\n",
       " ObjectId('5fdd4c2cd70fdf3f05713e01'),\n",
       " ObjectId('5fdd4c2cd70fdf3f05713e02'),\n",
       " ObjectId('5fdd4c2cd70fdf3f05713e03'),\n",
       " ObjectId('5fdd4c2cd70fdf3f05713e04'),\n",
       " ObjectId('5fdd4c2cd70fdf3f05713e05'),\n",
       " ObjectId('5fdd4c2cd70fdf3f05713e06'),\n",
       " ObjectId('5fdd4c2cd70fdf3f05713e07'),\n",
       " ObjectId('5fdd4c2cd70fdf3f05713e08'),\n",
       " ObjectId('5fdd4c2cd70fdf3f05713e09'),\n",
       " ObjectId('5fdd4c2cd70fdf3f05713e0a'),\n",
       " ObjectId('5fdd4c2cd70fdf3f05713e0b'),\n",
       " ObjectId('5fdd4c2cd70fdf3f05713e0c'),\n",
       " ObjectId('5fdd4c2cd70fdf3f05713e0d'),\n",
       " ObjectId('5fdd4c2cd70fdf3f05713e0e'),\n",
       " ObjectId('5fdd4c2cd70fdf3f05713e0f'),\n",
       " ObjectId('5fdd4c2cd70fdf3f05713e10'),\n",
       " ObjectId('5fdd4c2cd70fdf3f05713e11'),\n",
       " ObjectId('5fdd4c2cd70fdf3f05713e12'),\n",
       " ObjectId('5fdd4c2cd70fdf3f05713e13'),\n",
       " ObjectId('5fdd4c2cd70fdf3f05713e14'),\n",
       " ObjectId('5fdd4c2cd70fdf3f05713e15'),\n",
       " ObjectId('5fdd4c2cd70fdf3f05713e16'),\n",
       " ObjectId('5fdd4c2cd70fdf3f05713e17'),\n",
       " ObjectId('5fdd4c2cd70fdf3f05713e18'),\n",
       " ObjectId('5fdd4c2cd70fdf3f05713e19'),\n",
       " ObjectId('5fdd4c2cd70fdf3f05713e1a'),\n",
       " ObjectId('5fdd4c2cd70fdf3f05713e1b'),\n",
       " ObjectId('5fdd4c2cd70fdf3f05713e1c'),\n",
       " ObjectId('5fdd4c2cd70fdf3f05713e1d'),\n",
       " ObjectId('5fdd4c2cd70fdf3f05713e1e'),\n",
       " ObjectId('5fdd4c2cd70fdf3f05713e1f'),\n",
       " ObjectId('5fdd4c2cd70fdf3f05713e20'),\n",
       " ObjectId('5fdd4c2cd70fdf3f05713e21'),\n",
       " ObjectId('5fdd4c2cd70fdf3f05713e22'),\n",
       " ObjectId('5fdd4c2cd70fdf3f05713e23'),\n",
       " ObjectId('5fdd4c2cd70fdf3f05713e24'),\n",
       " ObjectId('5fdd4c2cd70fdf3f05713e25'),\n",
       " ObjectId('5fdd4c2cd70fdf3f05713e26'),\n",
       " ObjectId('5fdd4c2cd70fdf3f05713e27'),\n",
       " ObjectId('5fdd4c2cd70fdf3f05713e28'),\n",
       " ObjectId('5fdd4c2cd70fdf3f05713e29'),\n",
       " ObjectId('5fdd4c2cd70fdf3f05713e2a'),\n",
       " ObjectId('5fdd4c2cd70fdf3f05713e2b'),\n",
       " ObjectId('5fdd4c2cd70fdf3f05713e2c'),\n",
       " ObjectId('5fdd4c2cd70fdf3f05713e2d'),\n",
       " ObjectId('5fdd4c2cd70fdf3f05713e2e'),\n",
       " ObjectId('5fdd4c2cd70fdf3f05713e2f'),\n",
       " ObjectId('5fdd4c2cd70fdf3f05713e30'),\n",
       " ObjectId('5fdd4c2cd70fdf3f05713e31'),\n",
       " ObjectId('5fdd4c2cd70fdf3f05713e32'),\n",
       " ObjectId('5fdd4c2cd70fdf3f05713e33'),\n",
       " ObjectId('5fdd4c2cd70fdf3f05713e34'),\n",
       " ObjectId('5fdd4c2cd70fdf3f05713e35'),\n",
       " ObjectId('5fdd4c2cd70fdf3f05713e36'),\n",
       " ObjectId('5fdd4c2cd70fdf3f05713e37'),\n",
       " ObjectId('5fdd4c2cd70fdf3f05713e38'),\n",
       " ObjectId('5fdd4c2cd70fdf3f05713e39'),\n",
       " ObjectId('5fdd4c2cd70fdf3f05713e3a'),\n",
       " ObjectId('5fdd4c2cd70fdf3f05713e3b'),\n",
       " ObjectId('5fdd4c2cd70fdf3f05713e3c'),\n",
       " ObjectId('5fdd4c2cd70fdf3f05713e3d'),\n",
       " ObjectId('5fdd4c2cd70fdf3f05713e3e'),\n",
       " ObjectId('5fdd4c2cd70fdf3f05713e3f'),\n",
       " ObjectId('5fdd4c2cd70fdf3f05713e40'),\n",
       " ObjectId('5fdd4c2cd70fdf3f05713e41'),\n",
       " ObjectId('5fdd4c2cd70fdf3f05713e42'),\n",
       " ObjectId('5fdd4c2cd70fdf3f05713e43'),\n",
       " ObjectId('5fdd4c2cd70fdf3f05713e44'),\n",
       " ObjectId('5fdd4c2cd70fdf3f05713e45'),\n",
       " ObjectId('5fdd4c2cd70fdf3f05713e46'),\n",
       " ObjectId('5fdd4c2cd70fdf3f05713e47'),\n",
       " ObjectId('5fdd4c2cd70fdf3f05713e48'),\n",
       " ObjectId('5fdd4c2cd70fdf3f05713e49'),\n",
       " ObjectId('5fdd4c2cd70fdf3f05713e4a'),\n",
       " ObjectId('5fdd4c2cd70fdf3f05713e4b'),\n",
       " ObjectId('5fdd4c2cd70fdf3f05713e4c'),\n",
       " ObjectId('5fdd4c2cd70fdf3f05713e4d'),\n",
       " ObjectId('5fdd4c2cd70fdf3f05713e4e'),\n",
       " ObjectId('5fdd4c2cd70fdf3f05713e4f'),\n",
       " ObjectId('5fdd4c2cd70fdf3f05713e50'),\n",
       " ObjectId('5fdd4c2cd70fdf3f05713e51'),\n",
       " ObjectId('5fdd4c2cd70fdf3f05713e52'),\n",
       " ObjectId('5fdd4c2cd70fdf3f05713e53'),\n",
       " ObjectId('5fdd4c2cd70fdf3f05713e54'),\n",
       " ObjectId('5fdd4c2cd70fdf3f05713e55'),\n",
       " ObjectId('5fdd4c2cd70fdf3f05713e56'),\n",
       " ObjectId('5fdd4c2cd70fdf3f05713e57'),\n",
       " ObjectId('5fdd4c2cd70fdf3f05713e58'),\n",
       " ObjectId('5fdd4c2cd70fdf3f05713e59'),\n",
       " ObjectId('5fdd4c2cd70fdf3f05713e5a'),\n",
       " ObjectId('5fdd4c2cd70fdf3f05713e5b'),\n",
       " ObjectId('5fdd4c2cd70fdf3f05713e5c'),\n",
       " ObjectId('5fdd4c2cd70fdf3f05713e5d'),\n",
       " ObjectId('5fdd4c2cd70fdf3f05713e5e'),\n",
       " ObjectId('5fdd4c2cd70fdf3f05713e5f'),\n",
       " ObjectId('5fdd4c2cd70fdf3f05713e60'),\n",
       " ObjectId('5fdd4c2cd70fdf3f05713e61'),\n",
       " ObjectId('5fdd4c2cd70fdf3f05713e62'),\n",
       " ObjectId('5fdd4c2cd70fdf3f05713e63'),\n",
       " ObjectId('5fdd4c2cd70fdf3f05713e64'),\n",
       " ObjectId('5fdd4c2cd70fdf3f05713e65'),\n",
       " ObjectId('5fdd4c2cd70fdf3f05713e66'),\n",
       " ObjectId('5fdd4c2cd70fdf3f05713e67'),\n",
       " ObjectId('5fdd4c2cd70fdf3f05713e68'),\n",
       " ObjectId('5fdd4c2cd70fdf3f05713e69'),\n",
       " ObjectId('5fdd4c2cd70fdf3f05713e6a'),\n",
       " ObjectId('5fdd4c2cd70fdf3f05713e6b'),\n",
       " ObjectId('5fdd4c2cd70fdf3f05713e6c'),\n",
       " ObjectId('5fdd4c2cd70fdf3f05713e6d'),\n",
       " ObjectId('5fdd4c2cd70fdf3f05713e6e'),\n",
       " ObjectId('5fdd4c2cd70fdf3f05713e6f'),\n",
       " ObjectId('5fdd4c2cd70fdf3f05713e70'),\n",
       " ObjectId('5fdd4c2cd70fdf3f05713e71'),\n",
       " ObjectId('5fdd4c2cd70fdf3f05713e72'),\n",
       " ObjectId('5fdd4c2cd70fdf3f05713e73'),\n",
       " ObjectId('5fdd4c2cd70fdf3f05713e74'),\n",
       " ObjectId('5fdd4c2cd70fdf3f05713e75'),\n",
       " ObjectId('5fdd4c2cd70fdf3f05713e76'),\n",
       " ObjectId('5fdd4c2cd70fdf3f05713e77'),\n",
       " ObjectId('5fdd4c2cd70fdf3f05713e78'),\n",
       " ObjectId('5fdd4c2cd70fdf3f05713e79'),\n",
       " ObjectId('5fdd4c2cd70fdf3f05713e7a'),\n",
       " ObjectId('5fdd4c2cd70fdf3f05713e7b'),\n",
       " ObjectId('5fdd4c2cd70fdf3f05713e7c'),\n",
       " ObjectId('5fdd4c2cd70fdf3f05713e7d'),\n",
       " ObjectId('5fdd4c2cd70fdf3f05713e7e'),\n",
       " ObjectId('5fdd4c2cd70fdf3f05713e7f'),\n",
       " ObjectId('5fdd4c2cd70fdf3f05713e80'),\n",
       " ObjectId('5fdd4c2cd70fdf3f05713e81'),\n",
       " ObjectId('5fdd4c2cd70fdf3f05713e82'),\n",
       " ObjectId('5fdd4c2cd70fdf3f05713e83'),\n",
       " ObjectId('5fdd4c2cd70fdf3f05713e84'),\n",
       " ObjectId('5fdd4c2cd70fdf3f05713e85'),\n",
       " ObjectId('5fdd4c2cd70fdf3f05713e86'),\n",
       " ObjectId('5fdd4c2cd70fdf3f05713e87'),\n",
       " ObjectId('5fdd4c2cd70fdf3f05713e88'),\n",
       " ObjectId('5fdd4c2cd70fdf3f05713e89'),\n",
       " ObjectId('5fdd4c2cd70fdf3f05713e8a'),\n",
       " ObjectId('5fdd4c2cd70fdf3f05713e8b'),\n",
       " ObjectId('5fdd4c2cd70fdf3f05713e8c'),\n",
       " ObjectId('5fdd4c2cd70fdf3f05713e8d'),\n",
       " ObjectId('5fdd4c2cd70fdf3f05713e8e'),\n",
       " ObjectId('5fdd4c2cd70fdf3f05713e8f'),\n",
       " ObjectId('5fdd4c2cd70fdf3f05713e90'),\n",
       " ObjectId('5fdd4c2cd70fdf3f05713e91'),\n",
       " ObjectId('5fdd4c2cd70fdf3f05713e92'),\n",
       " ObjectId('5fdd4c2cd70fdf3f05713e93'),\n",
       " ObjectId('5fdd4c2cd70fdf3f05713e94'),\n",
       " ObjectId('5fdd4c2cd70fdf3f05713e95'),\n",
       " ObjectId('5fdd4c2cd70fdf3f05713e96'),\n",
       " ObjectId('5fdd4c2cd70fdf3f05713e97'),\n",
       " ObjectId('5fdd4c2cd70fdf3f05713e98'),\n",
       " ObjectId('5fdd4c2cd70fdf3f05713e99'),\n",
       " ObjectId('5fdd4c2cd70fdf3f05713e9a'),\n",
       " ObjectId('5fdd4c2cd70fdf3f05713e9b'),\n",
       " ObjectId('5fdd4c2cd70fdf3f05713e9c'),\n",
       " ObjectId('5fdd4c2cd70fdf3f05713e9d'),\n",
       " ObjectId('5fdd4c2cd70fdf3f05713e9e'),\n",
       " ObjectId('5fdd4c2cd70fdf3f05713e9f'),\n",
       " ObjectId('5fdd4c2cd70fdf3f05713ea0'),\n",
       " ObjectId('5fdd4c2cd70fdf3f05713ea1'),\n",
       " ObjectId('5fdd4c2cd70fdf3f05713ea2'),\n",
       " ObjectId('5fdd4c2cd70fdf3f05713ea3'),\n",
       " ObjectId('5fdd4c2cd70fdf3f05713ea4'),\n",
       " ObjectId('5fdd4c2cd70fdf3f05713ea5'),\n",
       " ObjectId('5fdd4c2cd70fdf3f05713ea6'),\n",
       " ObjectId('5fdd4c2cd70fdf3f05713ea7'),\n",
       " ObjectId('5fdd4c2cd70fdf3f05713ea8'),\n",
       " ObjectId('5fdd4c2cd70fdf3f05713ea9'),\n",
       " ObjectId('5fdd4c2cd70fdf3f05713eaa'),\n",
       " ObjectId('5fdd4c2cd70fdf3f05713eab'),\n",
       " ObjectId('5fdd4c2cd70fdf3f05713eac'),\n",
       " ObjectId('5fdd4c2cd70fdf3f05713ead'),\n",
       " ObjectId('5fdd4c2cd70fdf3f05713eae'),\n",
       " ObjectId('5fdd4c2cd70fdf3f05713eaf'),\n",
       " ObjectId('5fdd4c2cd70fdf3f05713eb0'),\n",
       " ObjectId('5fdd4c2cd70fdf3f05713eb1'),\n",
       " ObjectId('5fdd4c2cd70fdf3f05713eb2'),\n",
       " ObjectId('5fdd4c2cd70fdf3f05713eb3'),\n",
       " ObjectId('5fdd4c2cd70fdf3f05713eb4'),\n",
       " ObjectId('5fdd4c2cd70fdf3f05713eb5'),\n",
       " ObjectId('5fdd4c2cd70fdf3f05713eb6'),\n",
       " ObjectId('5fdd4c2cd70fdf3f05713eb7'),\n",
       " ObjectId('5fdd4c2cd70fdf3f05713eb8'),\n",
       " ObjectId('5fdd4c2cd70fdf3f05713eb9'),\n",
       " ObjectId('5fdd4c2cd70fdf3f05713eba'),\n",
       " ObjectId('5fdd4c2cd70fdf3f05713ebb'),\n",
       " ObjectId('5fdd4c2cd70fdf3f05713ebc'),\n",
       " ObjectId('5fdd4c2cd70fdf3f05713ebd'),\n",
       " ObjectId('5fdd4c2cd70fdf3f05713ebe'),\n",
       " ObjectId('5fdd4c2cd70fdf3f05713ebf'),\n",
       " ObjectId('5fdd4c2cd70fdf3f05713ec0'),\n",
       " ObjectId('5fdd4c2cd70fdf3f05713ec1'),\n",
       " ObjectId('5fdd4c2cd70fdf3f05713ec2'),\n",
       " ObjectId('5fdd4c2cd70fdf3f05713ec3'),\n",
       " ObjectId('5fdd4c2cd70fdf3f05713ec4'),\n",
       " ObjectId('5fdd4c2cd70fdf3f05713ec5'),\n",
       " ObjectId('5fdd4c2cd70fdf3f05713ec6'),\n",
       " ObjectId('5fdd4c2cd70fdf3f05713ec7'),\n",
       " ObjectId('5fdd4c2cd70fdf3f05713ec8'),\n",
       " ObjectId('5fdd4c2cd70fdf3f05713ec9'),\n",
       " ObjectId('5fdd4c2cd70fdf3f05713eca'),\n",
       " ObjectId('5fdd4c2cd70fdf3f05713ecb'),\n",
       " ObjectId('5fdd4c2cd70fdf3f05713ecc'),\n",
       " ObjectId('5fdd4c2cd70fdf3f05713ecd'),\n",
       " ObjectId('5fdd4c2cd70fdf3f05713ece'),\n",
       " ObjectId('5fdd4c2cd70fdf3f05713ecf'),\n",
       " ObjectId('5fdd4c2cd70fdf3f05713ed0'),\n",
       " ObjectId('5fdd4c2cd70fdf3f05713ed1'),\n",
       " ObjectId('5fdd4c2cd70fdf3f05713ed2'),\n",
       " ObjectId('5fdd4c2cd70fdf3f05713ed3'),\n",
       " ObjectId('5fdd4c2cd70fdf3f05713ed4'),\n",
       " ObjectId('5fdd4c2cd70fdf3f05713ed5'),\n",
       " ObjectId('5fdd4c2cd70fdf3f05713ed6'),\n",
       " ObjectId('5fdd4c2cd70fdf3f05713ed7'),\n",
       " ObjectId('5fdd4c2cd70fdf3f05713ed8'),\n",
       " ObjectId('5fdd4c2cd70fdf3f05713ed9'),\n",
       " ObjectId('5fdd4c2cd70fdf3f05713eda'),\n",
       " ObjectId('5fdd4c2cd70fdf3f05713edb'),\n",
       " ObjectId('5fdd4c2cd70fdf3f05713edc'),\n",
       " ObjectId('5fdd4c2cd70fdf3f05713edd'),\n",
       " ObjectId('5fdd4c2cd70fdf3f05713ede'),\n",
       " ObjectId('5fdd4c2cd70fdf3f05713edf'),\n",
       " ObjectId('5fdd4c2cd70fdf3f05713ee0'),\n",
       " ObjectId('5fdd4c2cd70fdf3f05713ee1'),\n",
       " ObjectId('5fdd4c2cd70fdf3f05713ee2'),\n",
       " ObjectId('5fdd4c2cd70fdf3f05713ee3'),\n",
       " ObjectId('5fdd4c2cd70fdf3f05713ee4'),\n",
       " ObjectId('5fdd4c2cd70fdf3f05713ee5'),\n",
       " ObjectId('5fdd4c2cd70fdf3f05713ee6'),\n",
       " ObjectId('5fdd4c2cd70fdf3f05713ee7'),\n",
       " ObjectId('5fdd4c2cd70fdf3f05713ee8'),\n",
       " ObjectId('5fdd4c2cd70fdf3f05713ee9'),\n",
       " ObjectId('5fdd4c2cd70fdf3f05713eea'),\n",
       " ObjectId('5fdd4c2cd70fdf3f05713eeb'),\n",
       " ObjectId('5fdd4c2cd70fdf3f05713eec'),\n",
       " ObjectId('5fdd4c2cd70fdf3f05713eed'),\n",
       " ObjectId('5fdd4c2cd70fdf3f05713eee'),\n",
       " ObjectId('5fdd4c2cd70fdf3f05713eef'),\n",
       " ObjectId('5fdd4c2cd70fdf3f05713ef0'),\n",
       " ObjectId('5fdd4c2cd70fdf3f05713ef1'),\n",
       " ObjectId('5fdd4c2cd70fdf3f05713ef2'),\n",
       " ObjectId('5fdd4c2cd70fdf3f05713ef3'),\n",
       " ObjectId('5fdd4c2cd70fdf3f05713ef4'),\n",
       " ObjectId('5fdd4c2cd70fdf3f05713ef5'),\n",
       " ObjectId('5fdd4c2cd70fdf3f05713ef6'),\n",
       " ObjectId('5fdd4c2cd70fdf3f05713ef7'),\n",
       " ObjectId('5fdd4c2cd70fdf3f05713ef8'),\n",
       " ObjectId('5fdd4c2cd70fdf3f05713ef9'),\n",
       " ObjectId('5fdd4c2cd70fdf3f05713efa'),\n",
       " ObjectId('5fdd4c2cd70fdf3f05713efb'),\n",
       " ObjectId('5fdd4c2cd70fdf3f05713efc'),\n",
       " ObjectId('5fdd4c2cd70fdf3f05713efd'),\n",
       " ObjectId('5fdd4c2cd70fdf3f05713efe'),\n",
       " ObjectId('5fdd4c2cd70fdf3f05713eff'),\n",
       " ObjectId('5fdd4c2cd70fdf3f05713f00'),\n",
       " ObjectId('5fdd4c2cd70fdf3f05713f01'),\n",
       " ObjectId('5fdd4c2cd70fdf3f05713f02'),\n",
       " ObjectId('5fdd4c2cd70fdf3f05713f03'),\n",
       " ObjectId('5fdd4c2cd70fdf3f05713f04'),\n",
       " ObjectId('5fdd4c2cd70fdf3f05713f05'),\n",
       " ObjectId('5fdd4c2cd70fdf3f05713f06'),\n",
       " ObjectId('5fdd4c2cd70fdf3f05713f07'),\n",
       " ObjectId('5fdd4c2cd70fdf3f05713f08'),\n",
       " ObjectId('5fdd4c2cd70fdf3f05713f09'),\n",
       " ObjectId('5fdd4c2cd70fdf3f05713f0a'),\n",
       " ObjectId('5fdd4c2cd70fdf3f05713f0b'),\n",
       " ObjectId('5fdd4c2cd70fdf3f05713f0c'),\n",
       " ObjectId('5fdd4c2cd70fdf3f05713f0d'),\n",
       " ObjectId('5fdd4c2cd70fdf3f05713f0e'),\n",
       " ObjectId('5fdd4c2cd70fdf3f05713f0f'),\n",
       " ObjectId('5fdd4c2cd70fdf3f05713f10'),\n",
       " ObjectId('5fdd4c2cd70fdf3f05713f11'),\n",
       " ObjectId('5fdd4c2cd70fdf3f05713f12'),\n",
       " ObjectId('5fdd4c2cd70fdf3f05713f13'),\n",
       " ObjectId('5fdd4c2cd70fdf3f05713f14'),\n",
       " ObjectId('5fdd4c2cd70fdf3f05713f15'),\n",
       " ObjectId('5fdd4c2cd70fdf3f05713f16'),\n",
       " ObjectId('5fdd4c2cd70fdf3f05713f17'),\n",
       " ObjectId('5fdd4c2cd70fdf3f05713f18'),\n",
       " ObjectId('5fdd4c2cd70fdf3f05713f19'),\n",
       " ObjectId('5fdd4c2cd70fdf3f05713f1a'),\n",
       " ObjectId('5fdd4c2cd70fdf3f05713f1b'),\n",
       " ObjectId('5fdd4c2cd70fdf3f05713f1c'),\n",
       " ObjectId('5fdd4c2cd70fdf3f05713f1d'),\n",
       " ObjectId('5fdd4c2cd70fdf3f05713f1e'),\n",
       " ObjectId('5fdd4c2cd70fdf3f05713f1f'),\n",
       " ObjectId('5fdd4c2cd70fdf3f05713f20'),\n",
       " ObjectId('5fdd4c2cd70fdf3f05713f21'),\n",
       " ObjectId('5fdd4c2cd70fdf3f05713f22'),\n",
       " ObjectId('5fdd4c2cd70fdf3f05713f23'),\n",
       " ObjectId('5fdd4c2cd70fdf3f05713f24'),\n",
       " ObjectId('5fdd4c2cd70fdf3f05713f25'),\n",
       " ObjectId('5fdd4c2cd70fdf3f05713f26'),\n",
       " ObjectId('5fdd4c2cd70fdf3f05713f27'),\n",
       " ObjectId('5fdd4c2cd70fdf3f05713f28'),\n",
       " ObjectId('5fdd4c2cd70fdf3f05713f29'),\n",
       " ObjectId('5fdd4c2cd70fdf3f05713f2a'),\n",
       " ObjectId('5fdd4c2cd70fdf3f05713f2b'),\n",
       " ObjectId('5fdd4c2cd70fdf3f05713f2c'),\n",
       " ObjectId('5fdd4c2cd70fdf3f05713f2d'),\n",
       " ObjectId('5fdd4c2cd70fdf3f05713f2e'),\n",
       " ObjectId('5fdd4c2cd70fdf3f05713f2f'),\n",
       " ObjectId('5fdd4c2cd70fdf3f05713f30'),\n",
       " ObjectId('5fdd4c2cd70fdf3f05713f31'),\n",
       " ObjectId('5fdd4c2cd70fdf3f05713f32'),\n",
       " ObjectId('5fdd4c2cd70fdf3f05713f33'),\n",
       " ObjectId('5fdd4c2cd70fdf3f05713f34'),\n",
       " ObjectId('5fdd4c2cd70fdf3f05713f35'),\n",
       " ObjectId('5fdd4c2cd70fdf3f05713f36'),\n",
       " ObjectId('5fdd4c2cd70fdf3f05713f37'),\n",
       " ObjectId('5fdd4c2cd70fdf3f05713f38'),\n",
       " ObjectId('5fdd4c2cd70fdf3f05713f39'),\n",
       " ObjectId('5fdd4c2cd70fdf3f05713f3a'),\n",
       " ObjectId('5fdd4c2cd70fdf3f05713f3b'),\n",
       " ObjectId('5fdd4c2cd70fdf3f05713f3c'),\n",
       " ObjectId('5fdd4c2cd70fdf3f05713f3d'),\n",
       " ObjectId('5fdd4c2cd70fdf3f05713f3e'),\n",
       " ObjectId('5fdd4c2cd70fdf3f05713f3f'),\n",
       " ObjectId('5fdd4c2cd70fdf3f05713f40'),\n",
       " ObjectId('5fdd4c2cd70fdf3f05713f41'),\n",
       " ObjectId('5fdd4c2cd70fdf3f05713f42'),\n",
       " ObjectId('5fdd4c2cd70fdf3f05713f43'),\n",
       " ObjectId('5fdd4c2cd70fdf3f05713f44'),\n",
       " ObjectId('5fdd4c2cd70fdf3f05713f45'),\n",
       " ObjectId('5fdd4c2cd70fdf3f05713f46'),\n",
       " ObjectId('5fdd4c2cd70fdf3f05713f47'),\n",
       " ObjectId('5fdd4c2cd70fdf3f05713f48'),\n",
       " ObjectId('5fdd4c2cd70fdf3f05713f49'),\n",
       " ObjectId('5fdd4c2cd70fdf3f05713f4a'),\n",
       " ObjectId('5fdd4c2cd70fdf3f05713f4b'),\n",
       " ObjectId('5fdd4c2cd70fdf3f05713f4c'),\n",
       " ObjectId('5fdd4c2cd70fdf3f05713f4d'),\n",
       " ObjectId('5fdd4c2cd70fdf3f05713f4e'),\n",
       " ObjectId('5fdd4c2cd70fdf3f05713f4f'),\n",
       " ObjectId('5fdd4c2cd70fdf3f05713f50'),\n",
       " ObjectId('5fdd4c2cd70fdf3f05713f51'),\n",
       " ObjectId('5fdd4c2cd70fdf3f05713f52'),\n",
       " ObjectId('5fdd4c2cd70fdf3f05713f53'),\n",
       " ObjectId('5fdd4c2cd70fdf3f05713f54'),\n",
       " ObjectId('5fdd4c2cd70fdf3f05713f55'),\n",
       " ObjectId('5fdd4c2cd70fdf3f05713f56'),\n",
       " ObjectId('5fdd4c2cd70fdf3f05713f57'),\n",
       " ObjectId('5fdd4c2cd70fdf3f05713f58'),\n",
       " ObjectId('5fdd4c2cd70fdf3f05713f59'),\n",
       " ObjectId('5fdd4c2cd70fdf3f05713f5a'),\n",
       " ObjectId('5fdd4c2cd70fdf3f05713f5b'),\n",
       " ObjectId('5fdd4c2cd70fdf3f05713f5c'),\n",
       " ObjectId('5fdd4c2cd70fdf3f05713f5d'),\n",
       " ObjectId('5fdd4c2cd70fdf3f05713f5e'),\n",
       " ObjectId('5fdd4c2cd70fdf3f05713f5f'),\n",
       " ObjectId('5fdd4c2cd70fdf3f05713f60'),\n",
       " ObjectId('5fdd4c2cd70fdf3f05713f61'),\n",
       " ObjectId('5fdd4c2cd70fdf3f05713f62'),\n",
       " ObjectId('5fdd4c2cd70fdf3f05713f63'),\n",
       " ObjectId('5fdd4c2cd70fdf3f05713f64'),\n",
       " ObjectId('5fdd4c2cd70fdf3f05713f65'),\n",
       " ObjectId('5fdd4c2cd70fdf3f05713f66'),\n",
       " ObjectId('5fdd4c2cd70fdf3f05713f67'),\n",
       " ObjectId('5fdd4c2cd70fdf3f05713f68'),\n",
       " ObjectId('5fdd4c2cd70fdf3f05713f69'),\n",
       " ObjectId('5fdd4c2cd70fdf3f05713f6a'),\n",
       " ObjectId('5fdd4c2cd70fdf3f05713f6b'),\n",
       " ObjectId('5fdd4c2cd70fdf3f05713f6c'),\n",
       " ObjectId('5fdd4c2cd70fdf3f05713f6d'),\n",
       " ObjectId('5fdd4c2cd70fdf3f05713f6e'),\n",
       " ObjectId('5fdd4c2cd70fdf3f05713f6f'),\n",
       " ObjectId('5fdd4c2cd70fdf3f05713f70'),\n",
       " ObjectId('5fdd4c2cd70fdf3f05713f71'),\n",
       " ObjectId('5fdd4c2cd70fdf3f05713f72'),\n",
       " ObjectId('5fdd4c2cd70fdf3f05713f73'),\n",
       " ObjectId('5fdd4c2cd70fdf3f05713f74'),\n",
       " ObjectId('5fdd4c2cd70fdf3f05713f75'),\n",
       " ObjectId('5fdd4c2cd70fdf3f05713f76'),\n",
       " ObjectId('5fdd4c2cd70fdf3f05713f77'),\n",
       " ObjectId('5fdd4c2cd70fdf3f05713f78'),\n",
       " ObjectId('5fdd4c2cd70fdf3f05713f79'),\n",
       " ObjectId('5fdd4c2cd70fdf3f05713f7a'),\n",
       " ObjectId('5fdd4c2cd70fdf3f05713f7b'),\n",
       " ObjectId('5fdd4c2cd70fdf3f05713f7c'),\n",
       " ObjectId('5fdd4c2cd70fdf3f05713f7d'),\n",
       " ObjectId('5fdd4c2cd70fdf3f05713f7e'),\n",
       " ObjectId('5fdd4c2cd70fdf3f05713f7f'),\n",
       " ObjectId('5fdd4c2cd70fdf3f05713f80'),\n",
       " ObjectId('5fdd4c2cd70fdf3f05713f81'),\n",
       " ObjectId('5fdd4c2cd70fdf3f05713f82'),\n",
       " ObjectId('5fdd4c2cd70fdf3f05713f83'),\n",
       " ObjectId('5fdd4c2cd70fdf3f05713f84'),\n",
       " ObjectId('5fdd4c2cd70fdf3f05713f85'),\n",
       " ObjectId('5fdd4c2cd70fdf3f05713f86'),\n",
       " ObjectId('5fdd4c2cd70fdf3f05713f87'),\n",
       " ObjectId('5fdd4c2cd70fdf3f05713f88'),\n",
       " ObjectId('5fdd4c2cd70fdf3f05713f89'),\n",
       " ObjectId('5fdd4c2cd70fdf3f05713f8a'),\n",
       " ObjectId('5fdd4c2cd70fdf3f05713f8b'),\n",
       " ObjectId('5fdd4c2cd70fdf3f05713f8c'),\n",
       " ObjectId('5fdd4c2cd70fdf3f05713f8d'),\n",
       " ObjectId('5fdd4c2cd70fdf3f05713f8e'),\n",
       " ObjectId('5fdd4c2cd70fdf3f05713f8f'),\n",
       " ObjectId('5fdd4c2cd70fdf3f05713f90'),\n",
       " ObjectId('5fdd4c2cd70fdf3f05713f91'),\n",
       " ObjectId('5fdd4c2cd70fdf3f05713f92'),\n",
       " ObjectId('5fdd4c2cd70fdf3f05713f93'),\n",
       " ...]"
      ]
     },
     "execution_count": 45,
     "metadata": {},
     "output_type": "execute_result"
    }
   ],
   "source": [
    "import pymongo \n",
    "mng_client = pymongo.MongoClient('localhost', 27017)\n",
    "mng_db = mng_client['walmart'] \n",
    "collection_name = 'walmart_data'\n",
    "db_cm = mng_db[collection_name]\n",
    " \n",
    "#Insert Data\n",
    "db_cm.insert(data)"
   ]
  },
  {
   "cell_type": "markdown",
   "metadata": {},
   "source": [
    "## Initial Descriptive Analysis of Walmart Data"
   ]
  },
  {
   "cell_type": "code",
   "execution_count": 4,
   "metadata": {},
   "outputs": [
    {
     "data": {
      "text/html": [
       "<div>\n",
       "<style scoped>\n",
       "    .dataframe tbody tr th:only-of-type {\n",
       "        vertical-align: middle;\n",
       "    }\n",
       "\n",
       "    .dataframe tbody tr th {\n",
       "        vertical-align: top;\n",
       "    }\n",
       "\n",
       "    .dataframe thead th {\n",
       "        text-align: right;\n",
       "    }\n",
       "</style>\n",
       "<table border=\"1\" class=\"dataframe\">\n",
       "  <thead>\n",
       "    <tr style=\"text-align: right;\">\n",
       "      <th></th>\n",
       "      <th>Unnamed: 0</th>\n",
       "      <th>Store</th>\n",
       "      <th>Dept</th>\n",
       "      <th>Weekly_Sales</th>\n",
       "      <th>Size</th>\n",
       "      <th>Temperature</th>\n",
       "      <th>Fuel_Price</th>\n",
       "      <th>MarkDown1</th>\n",
       "      <th>MarkDown2</th>\n",
       "      <th>MarkDown3</th>\n",
       "      <th>MarkDown4</th>\n",
       "      <th>MarkDown5</th>\n",
       "      <th>CPI</th>\n",
       "      <th>Unemployment</th>\n",
       "    </tr>\n",
       "  </thead>\n",
       "  <tbody>\n",
       "    <tr>\n",
       "      <td>count</td>\n",
       "      <td>421570.000000</td>\n",
       "      <td>421570.000000</td>\n",
       "      <td>421570.000000</td>\n",
       "      <td>421570.000000</td>\n",
       "      <td>421570.000000</td>\n",
       "      <td>421570.000000</td>\n",
       "      <td>421570.000000</td>\n",
       "      <td>150681.000000</td>\n",
       "      <td>111248.000000</td>\n",
       "      <td>137091.000000</td>\n",
       "      <td>134967.000000</td>\n",
       "      <td>151432.000000</td>\n",
       "      <td>421570.000000</td>\n",
       "      <td>421570.000000</td>\n",
       "    </tr>\n",
       "    <tr>\n",
       "      <td>mean</td>\n",
       "      <td>210784.500000</td>\n",
       "      <td>22.200546</td>\n",
       "      <td>44.260317</td>\n",
       "      <td>15981.258123</td>\n",
       "      <td>136727.915739</td>\n",
       "      <td>60.090059</td>\n",
       "      <td>3.361027</td>\n",
       "      <td>7246.420196</td>\n",
       "      <td>3334.628621</td>\n",
       "      <td>1439.421384</td>\n",
       "      <td>3383.168256</td>\n",
       "      <td>4628.975079</td>\n",
       "      <td>171.201947</td>\n",
       "      <td>7.960289</td>\n",
       "    </tr>\n",
       "    <tr>\n",
       "      <td>std</td>\n",
       "      <td>121696.920828</td>\n",
       "      <td>12.785297</td>\n",
       "      <td>30.492054</td>\n",
       "      <td>22711.183519</td>\n",
       "      <td>60980.583328</td>\n",
       "      <td>18.447931</td>\n",
       "      <td>0.458515</td>\n",
       "      <td>8291.221345</td>\n",
       "      <td>9475.357325</td>\n",
       "      <td>9623.078290</td>\n",
       "      <td>6292.384031</td>\n",
       "      <td>5962.887455</td>\n",
       "      <td>39.159276</td>\n",
       "      <td>1.863296</td>\n",
       "    </tr>\n",
       "    <tr>\n",
       "      <td>min</td>\n",
       "      <td>0.000000</td>\n",
       "      <td>1.000000</td>\n",
       "      <td>1.000000</td>\n",
       "      <td>-4988.940000</td>\n",
       "      <td>34875.000000</td>\n",
       "      <td>-2.060000</td>\n",
       "      <td>2.472000</td>\n",
       "      <td>0.270000</td>\n",
       "      <td>-265.760000</td>\n",
       "      <td>-29.100000</td>\n",
       "      <td>0.220000</td>\n",
       "      <td>135.160000</td>\n",
       "      <td>126.064000</td>\n",
       "      <td>3.879000</td>\n",
       "    </tr>\n",
       "    <tr>\n",
       "      <td>25%</td>\n",
       "      <td>105392.250000</td>\n",
       "      <td>11.000000</td>\n",
       "      <td>18.000000</td>\n",
       "      <td>2079.650000</td>\n",
       "      <td>93638.000000</td>\n",
       "      <td>46.680000</td>\n",
       "      <td>2.933000</td>\n",
       "      <td>2240.270000</td>\n",
       "      <td>41.600000</td>\n",
       "      <td>5.080000</td>\n",
       "      <td>504.220000</td>\n",
       "      <td>1878.440000</td>\n",
       "      <td>132.022667</td>\n",
       "      <td>6.891000</td>\n",
       "    </tr>\n",
       "    <tr>\n",
       "      <td>50%</td>\n",
       "      <td>210784.500000</td>\n",
       "      <td>22.000000</td>\n",
       "      <td>37.000000</td>\n",
       "      <td>7612.030000</td>\n",
       "      <td>140167.000000</td>\n",
       "      <td>62.090000</td>\n",
       "      <td>3.452000</td>\n",
       "      <td>5347.450000</td>\n",
       "      <td>192.000000</td>\n",
       "      <td>24.600000</td>\n",
       "      <td>1481.310000</td>\n",
       "      <td>3359.450000</td>\n",
       "      <td>182.318780</td>\n",
       "      <td>7.866000</td>\n",
       "    </tr>\n",
       "    <tr>\n",
       "      <td>75%</td>\n",
       "      <td>316176.750000</td>\n",
       "      <td>33.000000</td>\n",
       "      <td>74.000000</td>\n",
       "      <td>20205.852500</td>\n",
       "      <td>202505.000000</td>\n",
       "      <td>74.280000</td>\n",
       "      <td>3.738000</td>\n",
       "      <td>9210.900000</td>\n",
       "      <td>1926.940000</td>\n",
       "      <td>103.990000</td>\n",
       "      <td>3595.040000</td>\n",
       "      <td>5563.800000</td>\n",
       "      <td>212.416993</td>\n",
       "      <td>8.572000</td>\n",
       "    </tr>\n",
       "    <tr>\n",
       "      <td>max</td>\n",
       "      <td>421569.000000</td>\n",
       "      <td>45.000000</td>\n",
       "      <td>99.000000</td>\n",
       "      <td>693099.360000</td>\n",
       "      <td>219622.000000</td>\n",
       "      <td>100.140000</td>\n",
       "      <td>4.468000</td>\n",
       "      <td>88646.760000</td>\n",
       "      <td>104519.540000</td>\n",
       "      <td>141630.610000</td>\n",
       "      <td>67474.850000</td>\n",
       "      <td>108519.280000</td>\n",
       "      <td>227.232807</td>\n",
       "      <td>14.313000</td>\n",
       "    </tr>\n",
       "  </tbody>\n",
       "</table>\n",
       "</div>"
      ],
      "text/plain": [
       "          Unnamed: 0          Store           Dept   Weekly_Sales  \\\n",
       "count  421570.000000  421570.000000  421570.000000  421570.000000   \n",
       "mean   210784.500000      22.200546      44.260317   15981.258123   \n",
       "std    121696.920828      12.785297      30.492054   22711.183519   \n",
       "min         0.000000       1.000000       1.000000   -4988.940000   \n",
       "25%    105392.250000      11.000000      18.000000    2079.650000   \n",
       "50%    210784.500000      22.000000      37.000000    7612.030000   \n",
       "75%    316176.750000      33.000000      74.000000   20205.852500   \n",
       "max    421569.000000      45.000000      99.000000  693099.360000   \n",
       "\n",
       "                Size    Temperature     Fuel_Price      MarkDown1  \\\n",
       "count  421570.000000  421570.000000  421570.000000  150681.000000   \n",
       "mean   136727.915739      60.090059       3.361027    7246.420196   \n",
       "std     60980.583328      18.447931       0.458515    8291.221345   \n",
       "min     34875.000000      -2.060000       2.472000       0.270000   \n",
       "25%     93638.000000      46.680000       2.933000    2240.270000   \n",
       "50%    140167.000000      62.090000       3.452000    5347.450000   \n",
       "75%    202505.000000      74.280000       3.738000    9210.900000   \n",
       "max    219622.000000     100.140000       4.468000   88646.760000   \n",
       "\n",
       "           MarkDown2      MarkDown3      MarkDown4      MarkDown5  \\\n",
       "count  111248.000000  137091.000000  134967.000000  151432.000000   \n",
       "mean     3334.628621    1439.421384    3383.168256    4628.975079   \n",
       "std      9475.357325    9623.078290    6292.384031    5962.887455   \n",
       "min      -265.760000     -29.100000       0.220000     135.160000   \n",
       "25%        41.600000       5.080000     504.220000    1878.440000   \n",
       "50%       192.000000      24.600000    1481.310000    3359.450000   \n",
       "75%      1926.940000     103.990000    3595.040000    5563.800000   \n",
       "max    104519.540000  141630.610000   67474.850000  108519.280000   \n",
       "\n",
       "                 CPI   Unemployment  \n",
       "count  421570.000000  421570.000000  \n",
       "mean      171.201947       7.960289  \n",
       "std        39.159276       1.863296  \n",
       "min       126.064000       3.879000  \n",
       "25%       132.022667       6.891000  \n",
       "50%       182.318780       7.866000  \n",
       "75%       212.416993       8.572000  \n",
       "max       227.232807      14.313000  "
      ]
     },
     "execution_count": 4,
     "metadata": {},
     "output_type": "execute_result"
    }
   ],
   "source": [
    "dataset.describe()"
   ]
  },
  {
   "cell_type": "markdown",
   "metadata": {},
   "source": [
    "## Finding Correlation Value Between Variables "
   ]
  },
  {
   "cell_type": "code",
   "execution_count": 5,
   "metadata": {},
   "outputs": [
    {
     "data": {
      "text/html": [
       "<div>\n",
       "<style scoped>\n",
       "    .dataframe tbody tr th:only-of-type {\n",
       "        vertical-align: middle;\n",
       "    }\n",
       "\n",
       "    .dataframe tbody tr th {\n",
       "        vertical-align: top;\n",
       "    }\n",
       "\n",
       "    .dataframe thead th {\n",
       "        text-align: right;\n",
       "    }\n",
       "</style>\n",
       "<table border=\"1\" class=\"dataframe\">\n",
       "  <thead>\n",
       "    <tr style=\"text-align: right;\">\n",
       "      <th></th>\n",
       "      <th>Unnamed: 0</th>\n",
       "      <th>Store</th>\n",
       "      <th>Dept</th>\n",
       "      <th>Weekly_Sales</th>\n",
       "      <th>IsHoliday_x</th>\n",
       "      <th>Size</th>\n",
       "      <th>Temperature</th>\n",
       "      <th>Fuel_Price</th>\n",
       "      <th>MarkDown1</th>\n",
       "      <th>MarkDown2</th>\n",
       "      <th>MarkDown3</th>\n",
       "      <th>MarkDown4</th>\n",
       "      <th>MarkDown5</th>\n",
       "      <th>CPI</th>\n",
       "      <th>Unemployment</th>\n",
       "      <th>IsHoliday_y</th>\n",
       "    </tr>\n",
       "  </thead>\n",
       "  <tbody>\n",
       "    <tr>\n",
       "      <td>Unnamed: 0</td>\n",
       "      <td>1.000000</td>\n",
       "      <td>0.999198</td>\n",
       "      <td>0.045990</td>\n",
       "      <td>-0.082372</td>\n",
       "      <td>-0.000530</td>\n",
       "      <td>-0.175516</td>\n",
       "      <td>-0.053526</td>\n",
       "      <td>0.068573</td>\n",
       "      <td>-0.115779</td>\n",
       "      <td>-0.034511</td>\n",
       "      <td>-0.030936</td>\n",
       "      <td>-0.008511</td>\n",
       "      <td>-0.026748</td>\n",
       "      <td>-0.218301</td>\n",
       "      <td>0.213702</td>\n",
       "      <td>-0.000530</td>\n",
       "    </tr>\n",
       "    <tr>\n",
       "      <td>Store</td>\n",
       "      <td>0.999198</td>\n",
       "      <td>1.000000</td>\n",
       "      <td>0.024004</td>\n",
       "      <td>-0.085195</td>\n",
       "      <td>-0.000548</td>\n",
       "      <td>-0.182881</td>\n",
       "      <td>-0.050097</td>\n",
       "      <td>0.065290</td>\n",
       "      <td>-0.119588</td>\n",
       "      <td>-0.035173</td>\n",
       "      <td>-0.031556</td>\n",
       "      <td>-0.009941</td>\n",
       "      <td>-0.026634</td>\n",
       "      <td>-0.211088</td>\n",
       "      <td>0.208552</td>\n",
       "      <td>-0.000548</td>\n",
       "    </tr>\n",
       "  </tbody>\n",
       "</table>\n",
       "</div>"
      ],
      "text/plain": [
       "            Unnamed: 0     Store      Dept  Weekly_Sales  IsHoliday_x  \\\n",
       "Unnamed: 0    1.000000  0.999198  0.045990     -0.082372    -0.000530   \n",
       "Store         0.999198  1.000000  0.024004     -0.085195    -0.000548   \n",
       "\n",
       "                Size  Temperature  Fuel_Price  MarkDown1  MarkDown2  \\\n",
       "Unnamed: 0 -0.175516    -0.053526    0.068573  -0.115779  -0.034511   \n",
       "Store      -0.182881    -0.050097    0.065290  -0.119588  -0.035173   \n",
       "\n",
       "            MarkDown3  MarkDown4  MarkDown5       CPI  Unemployment  \\\n",
       "Unnamed: 0  -0.030936  -0.008511  -0.026748 -0.218301      0.213702   \n",
       "Store       -0.031556  -0.009941  -0.026634 -0.211088      0.208552   \n",
       "\n",
       "            IsHoliday_y  \n",
       "Unnamed: 0    -0.000530  \n",
       "Store         -0.000548  "
      ]
     },
     "execution_count": 5,
     "metadata": {},
     "output_type": "execute_result"
    }
   ],
   "source": [
    "dataset.corr().head(2)"
   ]
  },
  {
   "cell_type": "markdown",
   "metadata": {},
   "source": [
    "## EDA- Scatter Plot Between Temperature vs Weekly Sales"
   ]
  },
  {
   "cell_type": "code",
   "execution_count": 86,
   "metadata": {},
   "outputs": [
    {
     "data": {
      "image/png": "[encoded data removed]",
      "text/plain": [
       "<Figure size 1440x504 with 1 Axes>"
      ]
     },
     "metadata": {
      "needs_background": "light"
     },
     "output_type": "display_data"
    }
   ],
   "source": [
    "plt.figure()\n",
    "plt.scatter(dataset['Temperature'] , dataset['Weekly_Sales'])\n",
    "plt.ylabel('Weekly_Sales', fontsize=15)\n",
    "plt.xlabel('Temperature', fontsize=15)\n",
    "plt.rcParams['figure.figsize']= (20,7)"
   ]
  },
  {
   "cell_type": "markdown",
   "metadata": {},
   "source": [
    "### Explanation: The plot given above shows less linearity between temperature vs weekly sales. So, we are trying to take temperatures ranges say 1 to 50 and summing up the weekly sales."
   ]
  },
  {
   "cell_type": "markdown",
   "metadata": {},
   "source": [
    "## Feature Selection and Extraction "
   ]
  },
  {
   "cell_type": "code",
   "execution_count": 11,
   "metadata": {},
   "outputs": [],
   "source": [
    "Dataset_Predict= dataset.drop(columns=[\"Unnamed: 0\", \"Store\", \"Dept\", \"Date\", \"IsHoliday_x\",\"Type\", \"Size\",\"Fuel_Price\",\"MarkDown1\", \"MarkDown2\", \"MarkDown3\",\"MarkDown4\",\"MarkDown5\",\"CPI\",\"Unemployment\",\"IsHoliday_y\"])\n",
    "Dataset_Predict.head()\n",
    "\n",
    "Target_LR= Dataset_Predict.drop(columns= [\"Temperature\"])\n",
    "Input_LR= Dataset_Predict.drop(columns= [\"Weekly_Sales\"])"
   ]
  },
  {
   "cell_type": "markdown",
   "metadata": {},
   "source": [
    "## Maximum Value of Input and Target"
   ]
  },
  {
   "cell_type": "code",
   "execution_count": 12,
   "metadata": {},
   "outputs": [],
   "source": [
    "def bins(Target_LR, Input_LR):\n",
    "    maxs_target= Target_LR.max()\n",
    "    input_target= Target_LR.max()\n",
    "    \n",
    "    return(maxs_target, input_target )"
   ]
  },
  {
   "cell_type": "code",
   "execution_count": 13,
   "metadata": {},
   "outputs": [
    {
     "data": {
      "text/plain": [
       "(Weekly_Sales    693099.36\n",
       " dtype: float64, Weekly_Sales    693099.36\n",
       " dtype: float64)"
      ]
     },
     "execution_count": 13,
     "metadata": {},
     "output_type": "execute_result"
    }
   ],
   "source": [
    "bins(Target_LR, Input_LR)"
   ]
  },
  {
   "cell_type": "markdown",
   "metadata": {},
   "source": [
    "## Extracting the Temperature Range from 1 to 50 Farenheit"
   ]
  },
  {
   "cell_type": "code",
   "execution_count": 14,
   "metadata": {},
   "outputs": [],
   "source": [
    "def bins_40_50(Dataset_Predict):\n",
    "    temp_range= Dataset_Predict[(Dataset_Predict[\"Temperature\"]>1)&(Dataset_Predict[\"Temperature\"]<70)]\n",
    "    temp_group= temp_range.groupby(['Temperature']).sum()\n",
    "    return(temp_group)"
   ]
  },
  {
   "cell_type": "code",
   "execution_count": 15,
   "metadata": {},
   "outputs": [
    {
     "data": {
      "text/html": [
       "<div>\n",
       "<style scoped>\n",
       "    .dataframe tbody tr th:only-of-type {\n",
       "        vertical-align: middle;\n",
       "    }\n",
       "\n",
       "    .dataframe tbody tr th {\n",
       "        vertical-align: top;\n",
       "    }\n",
       "\n",
       "    .dataframe thead th {\n",
       "        text-align: right;\n",
       "    }\n",
       "</style>\n",
       "<table border=\"1\" class=\"dataframe\">\n",
       "  <thead>\n",
       "    <tr style=\"text-align: right;\">\n",
       "      <th></th>\n",
       "      <th>Temperature</th>\n",
       "      <th>Weekly_Sales</th>\n",
       "    </tr>\n",
       "  </thead>\n",
       "  <tbody>\n",
       "    <tr>\n",
       "      <td>0</td>\n",
       "      <td>5.54</td>\n",
       "      <td>817485.14</td>\n",
       "    </tr>\n",
       "    <tr>\n",
       "      <td>1</td>\n",
       "      <td>6.23</td>\n",
       "      <td>1083071.14</td>\n",
       "    </tr>\n",
       "  </tbody>\n",
       "</table>\n",
       "</div>"
      ],
      "text/plain": [
       "   Temperature  Weekly_Sales\n",
       "0         5.54     817485.14\n",
       "1         6.23    1083071.14"
      ]
     },
     "execution_count": 15,
     "metadata": {},
     "output_type": "execute_result"
    }
   ],
   "source": [
    "ranges= bins_40_50(Dataset_Predict)\n",
    "ranges= pd.DataFrame(ranges).reset_index()\n",
    "ranges.head(2)"
   ]
  },
  {
   "cell_type": "markdown",
   "metadata": {},
   "source": [
    "## Scatter Plot Between Temperature vs Weekly Sales within Range"
   ]
  },
  {
   "cell_type": "code",
   "execution_count": 18,
   "metadata": {},
   "outputs": [
    {
     "data": {
      "text/plain": [
       "Text(0.5, 0, 'Temperature')"
      ]
     },
     "execution_count": 18,
     "metadata": {},
     "output_type": "execute_result"
    },
    {
     "data": {
      "image/png": "[encoded data removed]",
      "text/plain": [
       "<Figure size 1440x504 with 1 Axes>"
      ]
     },
     "metadata": {
      "needs_background": "light"
     },
     "output_type": "display_data"
    }
   ],
   "source": [
    "plt.figure()\n",
    "plt.scatter(ranges['Temperature'] , ranges['Weekly_Sales'])\n",
    "plt.ylabel('Weekly_Sales', fontsize=16)\n",
    "plt.xlabel('Temperature', fontsize=16)"
   ]
  },
  {
   "cell_type": "markdown",
   "metadata": {},
   "source": [
    "## Correlation between Temperature and Weekly Sales"
   ]
  },
  {
   "cell_type": "code",
   "execution_count": 19,
   "metadata": {},
   "outputs": [
    {
     "data": {
      "text/html": [
       "<div>\n",
       "<style scoped>\n",
       "    .dataframe tbody tr th:only-of-type {\n",
       "        vertical-align: middle;\n",
       "    }\n",
       "\n",
       "    .dataframe tbody tr th {\n",
       "        vertical-align: top;\n",
       "    }\n",
       "\n",
       "    .dataframe thead th {\n",
       "        text-align: right;\n",
       "    }\n",
       "</style>\n",
       "<table border=\"1\" class=\"dataframe\">\n",
       "  <thead>\n",
       "    <tr style=\"text-align: right;\">\n",
       "      <th></th>\n",
       "      <th>Temperature</th>\n",
       "      <th>Weekly_Sales</th>\n",
       "    </tr>\n",
       "  </thead>\n",
       "  <tbody>\n",
       "    <tr>\n",
       "      <td>Temperature</td>\n",
       "      <td>1.000000</td>\n",
       "      <td>0.184128</td>\n",
       "    </tr>\n",
       "    <tr>\n",
       "      <td>Weekly_Sales</td>\n",
       "      <td>0.184128</td>\n",
       "      <td>1.000000</td>\n",
       "    </tr>\n",
       "  </tbody>\n",
       "</table>\n",
       "</div>"
      ],
      "text/plain": [
       "              Temperature  Weekly_Sales\n",
       "Temperature      1.000000      0.184128\n",
       "Weekly_Sales     0.184128      1.000000"
      ]
     },
     "execution_count": 19,
     "metadata": {},
     "output_type": "execute_result"
    }
   ],
   "source": [
    "ranges.corr()"
   ]
  },
  {
   "cell_type": "code",
   "execution_count": 20,
   "metadata": {},
   "outputs": [],
   "source": [
    "Input_LR_scaled= ranges.Temperature\n",
    "Target_LR_scaled= ranges.Weekly_Sales"
   ]
  },
  {
   "cell_type": "markdown",
   "metadata": {},
   "source": [
    "## Finding Null Values "
   ]
  },
  {
   "cell_type": "code",
   "execution_count": 21,
   "metadata": {},
   "outputs": [
    {
     "data": {
      "text/plain": [
       "Temperature     0\n",
       "Weekly_Sales    0\n",
       "dtype: int64"
      ]
     },
     "execution_count": 21,
     "metadata": {},
     "output_type": "execute_result"
    }
   ],
   "source": [
    "ranges.isnull().sum()"
   ]
  },
  {
   "cell_type": "markdown",
   "metadata": {},
   "source": [
    "## Standardizing the Inputs and Targets\n"
   ]
  },
  {
   "cell_type": "code",
   "execution_count": 22,
   "metadata": {},
   "outputs": [
    {
     "data": {
      "text/plain": [
       "StandardScaler(copy=True, with_mean=True, with_std=True)"
      ]
     },
     "execution_count": 22,
     "metadata": {},
     "output_type": "execute_result"
    }
   ],
   "source": [
    "from sklearn.preprocessing import StandardScaler\n",
    "\n",
    "scaler = StandardScaler()\n",
    "scaler.fit(Input_LR)\n",
    "scaler.fit(Target_LR)"
   ]
  },
  {
   "cell_type": "code",
   "execution_count": 23,
   "metadata": {},
   "outputs": [],
   "source": [
    "Input_LR_scaled = scaler.transform(Input_LR)\n",
    "Target_LR_scaled = scaler.transform(Target_LR)"
   ]
  },
  {
   "cell_type": "markdown",
   "metadata": {},
   "source": [
    "## Necessary Libraries for Model Building"
   ]
  },
  {
   "cell_type": "code",
   "execution_count": 24,
   "metadata": {},
   "outputs": [],
   "source": [
    "#!pip install xgboost"
   ]
  },
  {
   "cell_type": "code",
   "execution_count": 25,
   "metadata": {},
   "outputs": [],
   "source": [
    "from sklearn.model_selection import train_test_split\n",
    "from sklearn.metrics import r2_score\n",
    "import sklearn.metrics as metrics\n",
    "from sklearn.metrics import mean_squared_error, mean_absolute_error, r2_score\n",
    "\n",
    "#import xgboost as xgb\n",
    "from sklearn.linear_model import LinearRegression\n",
    "from sklearn.neighbors import KNeighborsRegressor\n",
    "from sklearn.linear_model import Ridge\n",
    "from sklearn.linear_model import Lasso\n",
    "from sklearn.tree import DecisionTreeRegressor\n",
    "from sklearn.ensemble import RandomForestRegressor\n",
    "from sklearn.ensemble import ExtraTreesRegressor\n",
    "#from xgboost import XGBRegressor"
   ]
  },
  {
   "cell_type": "markdown",
   "metadata": {},
   "source": [
    "## Test / Train Split "
   ]
  },
  {
   "cell_type": "code",
   "execution_count": 26,
   "metadata": {},
   "outputs": [],
   "source": [
    "x_train, x_test, y_train, y_test = train_test_split(Input_LR_scaled, Target_LR_scaled, test_size=0.2, random_state=365)"
   ]
  },
  {
   "cell_type": "markdown",
   "metadata": {},
   "source": [
    "## Linear Modelling"
   ]
  },
  {
   "cell_type": "code",
   "execution_count": 27,
   "metadata": {},
   "outputs": [
    {
     "data": {
      "text/plain": [
       "LinearRegression(copy_X=True, fit_intercept=True, n_jobs=None, normalize=False)"
      ]
     },
     "execution_count": 27,
     "metadata": {},
     "output_type": "execute_result"
    }
   ],
   "source": [
    "reg = LinearRegression()\n",
    "reg.fit(x_train,y_train)"
   ]
  },
  {
   "cell_type": "code",
   "execution_count": 28,
   "metadata": {},
   "outputs": [],
   "source": [
    "y_pred = reg.predict(x_train)"
   ]
  },
  {
   "cell_type": "markdown",
   "metadata": {},
   "source": [
    "## Linear Model Evaluation"
   ]
  },
  {
   "cell_type": "code",
   "execution_count": 29,
   "metadata": {},
   "outputs": [
    {
     "name": "stdout",
     "output_type": "stream",
     "text": [
      "Linear Regression - Mean Absolute Error:  0.6683509443353831\n",
      "Linear Regression - Mean Square Error:  1.0054524134260223\n",
      "Linear Regression - Root Mean Square Error:  1.0027225007079588\n",
      "R^2: 2.670419461003881e-06\n"
     ]
    }
   ],
   "source": [
    "LR_MAE = print(\"Linear Regression - Mean Absolute Error: \", metrics.mean_absolute_error(y_train, y_pred)) \n",
    "LR_MSE = print(\"Linear Regression - Mean Square Error: \", metrics.mean_squared_error(y_train, y_pred)) \n",
    "LR_RMSE = print(\"Linear Regression - Root Mean Square Error: \", np.sqrt(metrics.mean_squared_error(y_train, y_pred)))\n",
    "\n",
    "\n",
    "score = r2_score(y_train, y_pred)\n",
    "print(\"R^2:\", score)"
   ]
  },
  {
   "cell_type": "code",
   "execution_count": 30,
   "metadata": {},
   "outputs": [],
   "source": [
    "LR = pd.DataFrame({'Model_Name':['Linear Regression'],'MAE':[metrics.mean_absolute_error(y_train, y_pred)],\n",
    "                   'MSE': [metrics.mean_squared_error(y_train, y_pred)],\n",
    "                   'RMSE': [metrics.mean_squared_error(y_train, y_pred)],\n",
    "                    'R^2': [r2_score(y_train, y_pred)]})"
   ]
  },
  {
   "cell_type": "code",
   "execution_count": 31,
   "metadata": {},
   "outputs": [
    {
     "data": {
      "text/html": [
       "<div>\n",
       "<style scoped>\n",
       "    .dataframe tbody tr th:only-of-type {\n",
       "        vertical-align: middle;\n",
       "    }\n",
       "\n",
       "    .dataframe tbody tr th {\n",
       "        vertical-align: top;\n",
       "    }\n",
       "\n",
       "    .dataframe thead th {\n",
       "        text-align: right;\n",
       "    }\n",
       "</style>\n",
       "<table border=\"1\" class=\"dataframe\">\n",
       "  <thead>\n",
       "    <tr style=\"text-align: right;\">\n",
       "      <th></th>\n",
       "      <th>Model_Name</th>\n",
       "      <th>MAE</th>\n",
       "      <th>MSE</th>\n",
       "      <th>RMSE</th>\n",
       "      <th>R^2</th>\n",
       "    </tr>\n",
       "  </thead>\n",
       "  <tbody>\n",
       "    <tr>\n",
       "      <td>0</td>\n",
       "      <td>Linear Regression</td>\n",
       "      <td>0.668351</td>\n",
       "      <td>1.005452</td>\n",
       "      <td>1.005452</td>\n",
       "      <td>0.000003</td>\n",
       "    </tr>\n",
       "  </tbody>\n",
       "</table>\n",
       "</div>"
      ],
      "text/plain": [
       "          Model_Name       MAE       MSE      RMSE       R^2\n",
       "0  Linear Regression  0.668351  1.005452  1.005452  0.000003"
      ]
     },
     "execution_count": 31,
     "metadata": {},
     "output_type": "execute_result"
    }
   ],
   "source": [
    "LR"
   ]
  },
  {
   "cell_type": "markdown",
   "metadata": {},
   "source": [
    "## Scatter Plot between Targets and the Predictions Linear Model"
   ]
  },
  {
   "cell_type": "code",
   "execution_count": 70,
   "metadata": {},
   "outputs": [
    {
     "data": {
      "image/png": "[encoded data removed]",
      "text/plain": [
       "<Figure size 1440x504 with 1 Axes>"
      ]
     },
     "metadata": {
      "needs_background": "light"
     },
     "output_type": "display_data"
    }
   ],
   "source": [
    "plt.scatter(y_train, y_pred)\n",
    "plt.xlabel('Targets', fontsize=15 )\n",
    "plt.ylabel('Predictions', fontsize=15 )\n",
    "plt.show()"
   ]
  },
  {
   "cell_type": "markdown",
   "metadata": {},
   "source": [
    "## KNN- Regressor "
   ]
  },
  {
   "cell_type": "code",
   "execution_count": 71,
   "metadata": {},
   "outputs": [
    {
     "data": {
      "text/plain": [
       "KNeighborsRegressor(algorithm='auto', leaf_size=30, metric='minkowski',\n",
       "                    metric_params=None, n_jobs=None, n_neighbors=5, p=2,\n",
       "                    weights='uniform')"
      ]
     },
     "execution_count": 71,
     "metadata": {},
     "output_type": "execute_result"
    }
   ],
   "source": [
    "knn = KNeighborsRegressor(n_neighbors=5)\n",
    "knn.fit(x_train, y_train)"
   ]
  },
  {
   "cell_type": "code",
   "execution_count": 72,
   "metadata": {},
   "outputs": [],
   "source": [
    "y_pred = knn.predict(x_train)"
   ]
  },
  {
   "cell_type": "markdown",
   "metadata": {},
   "source": [
    "## KNN Model Evaluation"
   ]
  },
  {
   "cell_type": "code",
   "execution_count": 73,
   "metadata": {},
   "outputs": [
    {
     "name": "stdout",
     "output_type": "stream",
     "text": [
      "KNN- Regressor - Mean Absolute Error:  0.7012825399406086\n",
      "KNN- Regressor - Mean Square Error:  1.1352022894779163\n",
      "KNN- Regressor - Root Mean Square Error:  1.0654587225594037\n",
      "R^2: -0.12904324745067064\n"
     ]
    }
   ],
   "source": [
    "print(\"KNN- Regressor - Mean Absolute Error: \", metrics.mean_absolute_error(y_train, y_pred)) \n",
    "print(\"KNN- Regressor - Mean Square Error: \", metrics.mean_squared_error(y_train, y_pred)) \n",
    "print(\"KNN- Regressor - Root Mean Square Error: \", np.sqrt(metrics.mean_squared_error(y_train, y_pred)))\n",
    "\n",
    "\n",
    "score = r2_score(y_train, y_pred)\n",
    "print(\"R^2:\", score)"
   ]
  },
  {
   "cell_type": "code",
   "execution_count": 74,
   "metadata": {},
   "outputs": [],
   "source": [
    "KNN = pd.DataFrame({'Model_Name':['KNN Regressor'],\n",
    "                    'MAE':[metrics.mean_absolute_error(y_train, y_pred)],\n",
    "                   'MSE': [metrics.mean_squared_error(y_train, y_pred)],\n",
    "                   'RMSE': [metrics.mean_squared_error(y_train, y_pred)],\n",
    "                    'R^2': [r2_score(y_train, y_pred)]})"
   ]
  },
  {
   "cell_type": "code",
   "execution_count": 75,
   "metadata": {},
   "outputs": [
    {
     "data": {
      "text/html": [
       "<div>\n",
       "<style scoped>\n",
       "    .dataframe tbody tr th:only-of-type {\n",
       "        vertical-align: middle;\n",
       "    }\n",
       "\n",
       "    .dataframe tbody tr th {\n",
       "        vertical-align: top;\n",
       "    }\n",
       "\n",
       "    .dataframe thead th {\n",
       "        text-align: right;\n",
       "    }\n",
       "</style>\n",
       "<table border=\"1\" class=\"dataframe\">\n",
       "  <thead>\n",
       "    <tr style=\"text-align: right;\">\n",
       "      <th></th>\n",
       "      <th>Model_Name</th>\n",
       "      <th>MAE</th>\n",
       "      <th>MSE</th>\n",
       "      <th>RMSE</th>\n",
       "      <th>R^2</th>\n",
       "    </tr>\n",
       "  </thead>\n",
       "  <tbody>\n",
       "    <tr>\n",
       "      <td>0</td>\n",
       "      <td>KNN Regressor</td>\n",
       "      <td>0.701283</td>\n",
       "      <td>1.135202</td>\n",
       "      <td>1.135202</td>\n",
       "      <td>-0.129043</td>\n",
       "    </tr>\n",
       "  </tbody>\n",
       "</table>\n",
       "</div>"
      ],
      "text/plain": [
       "      Model_Name       MAE       MSE      RMSE       R^2\n",
       "0  KNN Regressor  0.701283  1.135202  1.135202 -0.129043"
      ]
     },
     "execution_count": 75,
     "metadata": {},
     "output_type": "execute_result"
    }
   ],
   "source": [
    "KNN"
   ]
  },
  {
   "cell_type": "markdown",
   "metadata": {},
   "source": [
    "## Scatter Plot between Targets and the Predictions- KNN Regressor Model"
   ]
  },
  {
   "cell_type": "code",
   "execution_count": 84,
   "metadata": {},
   "outputs": [
    {
     "data": {
      "image/png": "[encoded data removed]",
      "text/plain": [
       "<Figure size 1440x504 with 1 Axes>"
      ]
     },
     "metadata": {
      "needs_background": "light"
     },
     "output_type": "display_data"
    }
   ],
   "source": [
    "plt.scatter(y_train, y_pred)\n",
    "plt.xlabel('Targets', fontsize=15)\n",
    "plt.ylabel('Predictions', fontsize=15)\n",
    "plt.show()"
   ]
  },
  {
   "cell_type": "markdown",
   "metadata": {},
   "source": [
    "## Decision Tree Regressor "
   ]
  },
  {
   "cell_type": "code",
   "execution_count": 77,
   "metadata": {},
   "outputs": [
    {
     "data": {
      "text/plain": [
       "DecisionTreeRegressor(criterion='mse', max_depth=None, max_features=None,\n",
       "                      max_leaf_nodes=None, min_impurity_decrease=0.0,\n",
       "                      min_impurity_split=None, min_samples_leaf=1,\n",
       "                      min_samples_split=2, min_weight_fraction_leaf=0.0,\n",
       "                      presort=False, random_state=None, splitter='best')"
      ]
     },
     "execution_count": 77,
     "metadata": {},
     "output_type": "execute_result"
    }
   ],
   "source": [
    "dt = DecisionTreeRegressor()\n",
    "dt.fit(x_train, y_train)"
   ]
  },
  {
   "cell_type": "code",
   "execution_count": 78,
   "metadata": {},
   "outputs": [],
   "source": [
    "y_pred = dt.predict(x_train)"
   ]
  },
  {
   "cell_type": "markdown",
   "metadata": {},
   "source": [
    "## Decision Tree Regressor Model Evaluation "
   ]
  },
  {
   "cell_type": "code",
   "execution_count": 79,
   "metadata": {},
   "outputs": [
    {
     "name": "stdout",
     "output_type": "stream",
     "text": [
      "DT- Regressor - Mean Absolute Error:  0.6458107853826067\n",
      "DT- Regressor - Mean Square Error:  0.9519324256049626\n",
      "DT- Regressor - Root Mean Square Error:  0.9756702442961774\n",
      "R^2: 0.053232285452038064\n"
     ]
    }
   ],
   "source": [
    "print(\"DT- Regressor - Mean Absolute Error: \", metrics.mean_absolute_error(y_train, y_pred)) \n",
    "print(\"DT- Regressor - Mean Square Error: \", metrics.mean_squared_error(y_train, y_pred)) \n",
    "print(\"DT- Regressor - Root Mean Square Error: \", np.sqrt(metrics.mean_squared_error(y_train, y_pred)))\n",
    "\n",
    "\n",
    "score = r2_score(y_train, y_pred)\n",
    "print(\"R^2:\", score)"
   ]
  },
  {
   "cell_type": "code",
   "execution_count": 80,
   "metadata": {},
   "outputs": [],
   "source": [
    "DT = pd.DataFrame({'Model_Name':['Decision Tree Regressor'],\n",
    "                   'MAE':[metrics.mean_absolute_error(y_train, y_pred)],\n",
    "                   'MSE': [metrics.mean_squared_error(y_train, y_pred)],\n",
    "                   'RMSE': [metrics.mean_squared_error(y_train, y_pred)],\n",
    "                   'R^2': [r2_score(y_train, y_pred)]})"
   ]
  },
  {
   "cell_type": "code",
   "execution_count": 81,
   "metadata": {},
   "outputs": [
    {
     "data": {
      "text/html": [
       "<div>\n",
       "<style scoped>\n",
       "    .dataframe tbody tr th:only-of-type {\n",
       "        vertical-align: middle;\n",
       "    }\n",
       "\n",
       "    .dataframe tbody tr th {\n",
       "        vertical-align: top;\n",
       "    }\n",
       "\n",
       "    .dataframe thead th {\n",
       "        text-align: right;\n",
       "    }\n",
       "</style>\n",
       "<table border=\"1\" class=\"dataframe\">\n",
       "  <thead>\n",
       "    <tr style=\"text-align: right;\">\n",
       "      <th></th>\n",
       "      <th>Model_Name</th>\n",
       "      <th>MAE</th>\n",
       "      <th>MSE</th>\n",
       "      <th>RMSE</th>\n",
       "      <th>R^2</th>\n",
       "    </tr>\n",
       "  </thead>\n",
       "  <tbody>\n",
       "    <tr>\n",
       "      <td>0</td>\n",
       "      <td>Decision Tree Regressor</td>\n",
       "      <td>0.645811</td>\n",
       "      <td>0.951932</td>\n",
       "      <td>0.951932</td>\n",
       "      <td>0.053232</td>\n",
       "    </tr>\n",
       "  </tbody>\n",
       "</table>\n",
       "</div>"
      ],
      "text/plain": [
       "                Model_Name       MAE       MSE      RMSE       R^2\n",
       "0  Decision Tree Regressor  0.645811  0.951932  0.951932  0.053232"
      ]
     },
     "execution_count": 81,
     "metadata": {},
     "output_type": "execute_result"
    }
   ],
   "source": [
    "DT"
   ]
  },
  {
   "cell_type": "markdown",
   "metadata": {},
   "source": [
    "## Scatter Plot between Targets and the Predictions- DT Regressor Model"
   ]
  },
  {
   "cell_type": "code",
   "execution_count": 83,
   "metadata": {},
   "outputs": [
    {
     "data": {
      "image/png": "[encoded data removed]",
      "text/plain": [
       "<Figure size 1440x504 with 1 Axes>"
      ]
     },
     "metadata": {
      "needs_background": "light"
     },
     "output_type": "display_data"
    }
   ],
   "source": [
    "plt.scatter(y_train, y_pred)\n",
    "plt.xlabel('Targets', fontsize=15)\n",
    "plt.ylabel('Predictions', fontsize=15)\n",
    "plt.show()"
   ]
  },
  {
   "cell_type": "markdown",
   "metadata": {},
   "source": [
    "## Random Forest Regressor "
   ]
  },
  {
   "cell_type": "code",
   "execution_count": 45,
   "metadata": {},
   "outputs": [
    {
     "name": "stderr",
     "output_type": "stream",
     "text": [
      "/opt/anaconda3/lib/python3.7/site-packages/ipykernel_launcher.py:2: DataConversionWarning: A column-vector y was passed when a 1d array was expected. Please change the shape of y to (n_samples,), for example using ravel().\n",
      "  \n"
     ]
    },
    {
     "data": {
      "text/plain": [
       "RandomForestRegressor(bootstrap=True, criterion='mse', max_depth=None,\n",
       "                      max_features='auto', max_leaf_nodes=None,\n",
       "                      min_impurity_decrease=0.0, min_impurity_split=None,\n",
       "                      min_samples_leaf=1, min_samples_split=2,\n",
       "                      min_weight_fraction_leaf=0.0, n_estimators=100,\n",
       "                      n_jobs=None, oob_score=False, random_state=None,\n",
       "                      verbose=0, warm_start=False)"
      ]
     },
     "execution_count": 45,
     "metadata": {},
     "output_type": "execute_result"
    }
   ],
   "source": [
    "rf = RandomForestRegressor(n_estimators=100)\n",
    "rf.fit(x_train, y_train)"
   ]
  },
  {
   "cell_type": "code",
   "execution_count": 46,
   "metadata": {},
   "outputs": [],
   "source": [
    "y_pred = rf.predict(x_train)"
   ]
  },
  {
   "cell_type": "markdown",
   "metadata": {},
   "source": [
    "## Random Forest Regressor Model Evaluation "
   ]
  },
  {
   "cell_type": "code",
   "execution_count": 47,
   "metadata": {},
   "outputs": [
    {
     "name": "stdout",
     "output_type": "stream",
     "text": [
      "RF- Regressor - Mean Absolute Error:  0.6458211644334628\n",
      "RF- Regressor - Mean Square Error:  0.9520286605835275\n",
      "RF- Regressor - Root Mean Square Error:  0.9757195604186315\n",
      "R^2: 0.05313657259651927\n"
     ]
    }
   ],
   "source": [
    "print(\"RF- Regressor - Mean Absolute Error: \", metrics.mean_absolute_error(y_train, y_pred)) \n",
    "print(\"RF- Regressor - Mean Square Error: \", metrics.mean_squared_error(y_train, y_pred)) \n",
    "print(\"RF- Regressor - Root Mean Square Error: \", np.sqrt(metrics.mean_squared_error(y_train, y_pred)))\n",
    "\n",
    "\n",
    "score = r2_score(y_train, y_pred)\n",
    "print(\"R^2:\", score)"
   ]
  },
  {
   "cell_type": "code",
   "execution_count": 48,
   "metadata": {},
   "outputs": [],
   "source": [
    "RF= pd.DataFrame({'Model_Name':['Random Forest Regressor'],\n",
    "                  'MAE':[metrics.mean_absolute_error(y_train, y_pred)],\n",
    "                   'MSE': [metrics.mean_squared_error(y_train, y_pred)],\n",
    "                   'RMSE': [metrics.mean_squared_error(y_train, y_pred)],\n",
    "                   'R^2': [r2_score(y_train, y_pred)]})"
   ]
  },
  {
   "cell_type": "code",
   "execution_count": 49,
   "metadata": {},
   "outputs": [
    {
     "data": {
      "text/html": [
       "<div>\n",
       "<style scoped>\n",
       "    .dataframe tbody tr th:only-of-type {\n",
       "        vertical-align: middle;\n",
       "    }\n",
       "\n",
       "    .dataframe tbody tr th {\n",
       "        vertical-align: top;\n",
       "    }\n",
       "\n",
       "    .dataframe thead th {\n",
       "        text-align: right;\n",
       "    }\n",
       "</style>\n",
       "<table border=\"1\" class=\"dataframe\">\n",
       "  <thead>\n",
       "    <tr style=\"text-align: right;\">\n",
       "      <th></th>\n",
       "      <th>Model_Name</th>\n",
       "      <th>MAE</th>\n",
       "      <th>MSE</th>\n",
       "      <th>RMSE</th>\n",
       "      <th>R^2</th>\n",
       "    </tr>\n",
       "  </thead>\n",
       "  <tbody>\n",
       "    <tr>\n",
       "      <td>0</td>\n",
       "      <td>Random Forest Regressor</td>\n",
       "      <td>0.645821</td>\n",
       "      <td>0.952029</td>\n",
       "      <td>0.952029</td>\n",
       "      <td>0.053137</td>\n",
       "    </tr>\n",
       "  </tbody>\n",
       "</table>\n",
       "</div>"
      ],
      "text/plain": [
       "                Model_Name       MAE       MSE      RMSE       R^2\n",
       "0  Random Forest Regressor  0.645821  0.952029  0.952029  0.053137"
      ]
     },
     "execution_count": 49,
     "metadata": {},
     "output_type": "execute_result"
    }
   ],
   "source": [
    "RF"
   ]
  },
  {
   "cell_type": "markdown",
   "metadata": {},
   "source": [
    "## Scatter Plot between Targets and the Predictions- RF Regressor Model"
   ]
  },
  {
   "cell_type": "code",
   "execution_count": 50,
   "metadata": {},
   "outputs": [
    {
     "data": {
      "image/png": "[encoded data removed]",
      "text/plain": [
       "<Figure size 1440x504 with 1 Axes>"
      ]
     },
     "metadata": {
      "needs_background": "light"
     },
     "output_type": "display_data"
    }
   ],
   "source": [
    "plt.scatter(y_train, y_pred)\n",
    "plt.xlabel('Targets (y_train)')\n",
    "plt.ylabel('Predictions (y_pred)')\n",
    "plt.show()"
   ]
  },
  {
   "cell_type": "markdown",
   "metadata": {},
   "source": [
    "## Ridge Regression "
   ]
  },
  {
   "cell_type": "code",
   "execution_count": 51,
   "metadata": {},
   "outputs": [
    {
     "data": {
      "text/plain": [
       "Ridge(alpha=1.0, copy_X=True, fit_intercept=True, max_iter=None,\n",
       "      normalize=False, random_state=None, solver='auto', tol=0.001)"
      ]
     },
     "execution_count": 51,
     "metadata": {},
     "output_type": "execute_result"
    }
   ],
   "source": [
    "rid = Ridge()\n",
    "rid.fit(x_train, y_train)"
   ]
  },
  {
   "cell_type": "code",
   "execution_count": 52,
   "metadata": {},
   "outputs": [],
   "source": [
    "y_pred = rid.predict(x_train)"
   ]
  },
  {
   "cell_type": "markdown",
   "metadata": {},
   "source": [
    "## Ridge Regression Model Evaluation "
   ]
  },
  {
   "cell_type": "code",
   "execution_count": 53,
   "metadata": {},
   "outputs": [
    {
     "name": "stdout",
     "output_type": "stream",
     "text": [
      "RR - Mean Absolute Error:  0.6683452496909509\n",
      "RR - Mean Square Error:  1.005454209045567\n",
      "RR - Root Mean Square Error:  1.00272339607968\n",
      "R^2: 8.845420532699322e-07\n"
     ]
    }
   ],
   "source": [
    "print(\"RR - Mean Absolute Error: \", metrics.mean_absolute_error(y_train, y_pred)) \n",
    "print(\"RR - Mean Square Error: \", metrics.mean_squared_error(y_train, y_pred)) \n",
    "print(\"RR - Root Mean Square Error: \", np.sqrt(metrics.mean_squared_error(y_train, y_pred)))\n",
    "\n",
    "\n",
    "score = r2_score(y_train, y_pred)\n",
    "print(\"R^2:\", score)"
   ]
  },
  {
   "cell_type": "code",
   "execution_count": 54,
   "metadata": {},
   "outputs": [],
   "source": [
    "RR = pd.DataFrame({'Model_Name':['Ridge Regression'],\n",
    "                   'MAE':[metrics.mean_absolute_error(y_train, y_pred)],\n",
    "                   'MSE': [metrics.mean_squared_error(y_train, y_pred)],\n",
    "                   'RMSE': [metrics.mean_squared_error(y_train, y_pred)],\n",
    "                   'R^2': [r2_score(y_train, y_pred)]})"
   ]
  },
  {
   "cell_type": "code",
   "execution_count": 55,
   "metadata": {},
   "outputs": [
    {
     "data": {
      "text/html": [
       "<div>\n",
       "<style scoped>\n",
       "    .dataframe tbody tr th:only-of-type {\n",
       "        vertical-align: middle;\n",
       "    }\n",
       "\n",
       "    .dataframe tbody tr th {\n",
       "        vertical-align: top;\n",
       "    }\n",
       "\n",
       "    .dataframe thead th {\n",
       "        text-align: right;\n",
       "    }\n",
       "</style>\n",
       "<table border=\"1\" class=\"dataframe\">\n",
       "  <thead>\n",
       "    <tr style=\"text-align: right;\">\n",
       "      <th></th>\n",
       "      <th>Model_Name</th>\n",
       "      <th>MAE</th>\n",
       "      <th>MSE</th>\n",
       "      <th>RMSE</th>\n",
       "      <th>R^2</th>\n",
       "    </tr>\n",
       "  </thead>\n",
       "  <tbody>\n",
       "    <tr>\n",
       "      <td>0</td>\n",
       "      <td>Ridge Regression</td>\n",
       "      <td>0.668345</td>\n",
       "      <td>1.005454</td>\n",
       "      <td>1.005454</td>\n",
       "      <td>8.845421e-07</td>\n",
       "    </tr>\n",
       "  </tbody>\n",
       "</table>\n",
       "</div>"
      ],
      "text/plain": [
       "         Model_Name       MAE       MSE      RMSE           R^2\n",
       "0  Ridge Regression  0.668345  1.005454  1.005454  8.845421e-07"
      ]
     },
     "execution_count": 55,
     "metadata": {},
     "output_type": "execute_result"
    }
   ],
   "source": [
    "RR"
   ]
  },
  {
   "cell_type": "markdown",
   "metadata": {},
   "source": [
    "## Scatter Plot between Targets and the Predictions- RR Model"
   ]
  },
  {
   "cell_type": "code",
   "execution_count": 56,
   "metadata": {},
   "outputs": [
    {
     "data": {
      "image/png": "[encoded data removed]",
      "text/plain": [
       "<Figure size 1440x504 with 1 Axes>"
      ]
     },
     "metadata": {
      "needs_background": "light"
     },
     "output_type": "display_data"
    }
   ],
   "source": [
    "plt.scatter(y_train, y_pred)\n",
    "plt.xlabel('Targets (y_train)')\n",
    "plt.ylabel('Predictions (y_pred)')\n",
    "plt.show()"
   ]
  },
  {
   "cell_type": "markdown",
   "metadata": {},
   "source": [
    "## Lasso Regression "
   ]
  },
  {
   "cell_type": "code",
   "execution_count": 57,
   "metadata": {},
   "outputs": [
    {
     "data": {
      "text/plain": [
       "Lasso(alpha=1.0, copy_X=True, fit_intercept=True, max_iter=1000,\n",
       "      normalize=False, positive=False, precompute=False, random_state=None,\n",
       "      selection='cyclic', tol=0.0001, warm_start=False)"
      ]
     },
     "execution_count": 57,
     "metadata": {},
     "output_type": "execute_result"
    }
   ],
   "source": [
    "las = Lasso()\n",
    "las.fit(x_train, y_train)"
   ]
  },
  {
   "cell_type": "code",
   "execution_count": 58,
   "metadata": {},
   "outputs": [],
   "source": [
    "y_pred = las.predict(x_train)"
   ]
  },
  {
   "cell_type": "markdown",
   "metadata": {},
   "source": [
    "## Lasso Regression Model Evaluation"
   ]
  },
  {
   "cell_type": "code",
   "execution_count": 59,
   "metadata": {},
   "outputs": [
    {
     "name": "stdout",
     "output_type": "stream",
     "text": [
      "LR - Mean Absolute Error:  0.6683441654152502\n",
      "LR - Mean Square Error:  1.0054550984128843\n",
      "LR - Root Mean Square Error:  1.00272383955548\n",
      "R^2: 0.0\n"
     ]
    }
   ],
   "source": [
    "print(\"LR - Mean Absolute Error: \", metrics.mean_absolute_error(y_train, y_pred)) \n",
    "print(\"LR - Mean Square Error: \", metrics.mean_squared_error(y_train, y_pred)) \n",
    "print(\"LR - Root Mean Square Error: \", np.sqrt(metrics.mean_squared_error(y_train, y_pred)))\n",
    "\n",
    "\n",
    "score = r2_score(y_train, y_pred)\n",
    "print(\"R^2:\", score)"
   ]
  },
  {
   "cell_type": "code",
   "execution_count": 60,
   "metadata": {},
   "outputs": [],
   "source": [
    "LaR = pd.DataFrame({'Model_Name':['Lasso Regression'],\n",
    "                   'MAE':[metrics.mean_absolute_error(y_train, y_pred)],\n",
    "                   'MSE': [metrics.mean_squared_error(y_train, y_pred)],\n",
    "                   'RMSE': [metrics.mean_squared_error(y_train, y_pred)],\n",
    "                    'R^2': [r2_score(y_train, y_pred)]})"
   ]
  },
  {
   "cell_type": "code",
   "execution_count": 61,
   "metadata": {},
   "outputs": [
    {
     "data": {
      "text/html": [
       "<div>\n",
       "<style scoped>\n",
       "    .dataframe tbody tr th:only-of-type {\n",
       "        vertical-align: middle;\n",
       "    }\n",
       "\n",
       "    .dataframe tbody tr th {\n",
       "        vertical-align: top;\n",
       "    }\n",
       "\n",
       "    .dataframe thead th {\n",
       "        text-align: right;\n",
       "    }\n",
       "</style>\n",
       "<table border=\"1\" class=\"dataframe\">\n",
       "  <thead>\n",
       "    <tr style=\"text-align: right;\">\n",
       "      <th></th>\n",
       "      <th>Model_Name</th>\n",
       "      <th>MAE</th>\n",
       "      <th>MSE</th>\n",
       "      <th>RMSE</th>\n",
       "      <th>R^2</th>\n",
       "    </tr>\n",
       "  </thead>\n",
       "  <tbody>\n",
       "    <tr>\n",
       "      <td>0</td>\n",
       "      <td>Lasso Regression</td>\n",
       "      <td>0.668344</td>\n",
       "      <td>1.005455</td>\n",
       "      <td>1.005455</td>\n",
       "      <td>0.0</td>\n",
       "    </tr>\n",
       "  </tbody>\n",
       "</table>\n",
       "</div>"
      ],
      "text/plain": [
       "         Model_Name       MAE       MSE      RMSE  R^2\n",
       "0  Lasso Regression  0.668344  1.005455  1.005455  0.0"
      ]
     },
     "execution_count": 61,
     "metadata": {},
     "output_type": "execute_result"
    }
   ],
   "source": [
    "LaR"
   ]
  },
  {
   "cell_type": "markdown",
   "metadata": {},
   "source": [
    "## Scatter Plot between Targets and the Predictions- LaR Model"
   ]
  },
  {
   "cell_type": "code",
   "execution_count": 62,
   "metadata": {},
   "outputs": [
    {
     "data": {
      "image/png": "[encoded data removed]",
      "text/plain": [
       "<Figure size 1440x504 with 1 Axes>"
      ]
     },
     "metadata": {
      "needs_background": "light"
     },
     "output_type": "display_data"
    }
   ],
   "source": [
    "plt.scatter(y_train, y_pred)\n",
    "plt.xlabel('Targets (y_train)')\n",
    "plt.ylabel('Predictions (y_pred)')\n",
    "plt.show()"
   ]
  },
  {
   "cell_type": "markdown",
   "metadata": {},
   "source": [
    "## Comparision of Different linear Models and their Respective Results"
   ]
  },
  {
   "cell_type": "code",
   "execution_count": 63,
   "metadata": {},
   "outputs": [],
   "source": [
    "frames = [LR,KNN,DT,RF,RR,LaR]\n",
    "Model_Results = pd.concat(frames)\n",
    "Model_Results.reset_index(drop=True, inplace=True)"
   ]
  },
  {
   "cell_type": "code",
   "execution_count": 66,
   "metadata": {},
   "outputs": [
    {
     "data": {
      "text/html": [
       "<div>\n",
       "<style scoped>\n",
       "    .dataframe tbody tr th:only-of-type {\n",
       "        vertical-align: middle;\n",
       "    }\n",
       "\n",
       "    .dataframe tbody tr th {\n",
       "        vertical-align: top;\n",
       "    }\n",
       "\n",
       "    .dataframe thead th {\n",
       "        text-align: right;\n",
       "    }\n",
       "</style>\n",
       "<table border=\"1\" class=\"dataframe\">\n",
       "  <thead>\n",
       "    <tr style=\"text-align: right;\">\n",
       "      <th></th>\n",
       "      <th>Model_Name</th>\n",
       "      <th>MAE</th>\n",
       "      <th>MSE</th>\n",
       "      <th>RMSE</th>\n",
       "      <th>R^2</th>\n",
       "    </tr>\n",
       "  </thead>\n",
       "  <tbody>\n",
       "    <tr>\n",
       "      <td>0</td>\n",
       "      <td>Linear Regression</td>\n",
       "      <td>0.67</td>\n",
       "      <td>1.01</td>\n",
       "      <td>1.01</td>\n",
       "      <td>0.00</td>\n",
       "    </tr>\n",
       "    <tr>\n",
       "      <td>1</td>\n",
       "      <td>KNN Regressor</td>\n",
       "      <td>0.70</td>\n",
       "      <td>1.14</td>\n",
       "      <td>1.14</td>\n",
       "      <td>-0.13</td>\n",
       "    </tr>\n",
       "    <tr>\n",
       "      <td>2</td>\n",
       "      <td>Decision Tree Regressor</td>\n",
       "      <td>0.65</td>\n",
       "      <td>0.95</td>\n",
       "      <td>0.95</td>\n",
       "      <td>0.05</td>\n",
       "    </tr>\n",
       "    <tr>\n",
       "      <td>3</td>\n",
       "      <td>Random Forest Regressor</td>\n",
       "      <td>0.65</td>\n",
       "      <td>0.95</td>\n",
       "      <td>0.95</td>\n",
       "      <td>0.05</td>\n",
       "    </tr>\n",
       "    <tr>\n",
       "      <td>4</td>\n",
       "      <td>Ridge Regression</td>\n",
       "      <td>0.67</td>\n",
       "      <td>1.01</td>\n",
       "      <td>1.01</td>\n",
       "      <td>0.00</td>\n",
       "    </tr>\n",
       "    <tr>\n",
       "      <td>5</td>\n",
       "      <td>Lasso Regression</td>\n",
       "      <td>0.67</td>\n",
       "      <td>1.01</td>\n",
       "      <td>1.01</td>\n",
       "      <td>0.00</td>\n",
       "    </tr>\n",
       "  </tbody>\n",
       "</table>\n",
       "</div>"
      ],
      "text/plain": [
       "                Model_Name   MAE   MSE  RMSE   R^2\n",
       "0        Linear Regression  0.67  1.01  1.01  0.00\n",
       "1            KNN Regressor  0.70  1.14  1.14 -0.13\n",
       "2  Decision Tree Regressor  0.65  0.95  0.95  0.05\n",
       "3  Random Forest Regressor  0.65  0.95  0.95  0.05\n",
       "4         Ridge Regression  0.67  1.01  1.01  0.00\n",
       "5         Lasso Regression  0.67  1.01  1.01  0.00"
      ]
     },
     "execution_count": 66,
     "metadata": {},
     "output_type": "execute_result"
    }
   ],
   "source": [
    "Model_Results.round(2)"
   ]
  },
  {
   "cell_type": "markdown",
   "metadata": {},
   "source": [
    "## Visualization of Various Model Results"
   ]
  },
  {
   "cell_type": "code",
   "execution_count": 69,
   "metadata": {},
   "outputs": [
    {
     "name": "stdout",
     "output_type": "stream",
     "text": [
      "                Model_Name   MAE   MSE  RMSE   R^2\n",
      "0        Linear Regression  0.67  1.01  1.01  0.00\n",
      "1            KNN Regressor  0.70  1.14  1.14 -0.13\n",
      "2  Decision Tree Regressor  0.65  0.95  0.95  0.05\n",
      "3  Random Forest Regressor  0.65  0.95  0.95  0.05\n",
      "4         Ridge Regression  0.67  1.01  1.01  0.00\n",
      "5         Lasso Regression  0.67  1.01  1.01  0.00\n"
     ]
    },
    {
     "data": {
      "image/png": "[encoded data removed]",
      "text/plain": [
       "<Figure size 1080x360 with 1 Axes>"
      ]
     },
     "metadata": {
      "needs_background": "light"
     },
     "output_type": "display_data"
    }
   ],
   "source": [
    "print(Model_Results.round(2))\n",
    "mr = Model_Results[['MAE','MSE','RMSE','R^2']].plot(kind='bar', title =\"Model Results Comparison\", figsize=(15, 5), legend=True, fontsize=15)\n",
    "mr.set_xlabel(\"Various Models\", fontsize=16)\n",
    "mr.set_ylabel(\"Value\", fontsize=16)\n",
    "plt.show()"
   ]
  },
  {
   "cell_type": "markdown",
   "metadata": {},
   "source": [
    "### Overall Random Forest and Decision Tree tops the list when compared with other algorithms respectively with accuracy more than 05 Percentage and less Mean square error and Root mean square error. "
   ]
  },
  {
   "cell_type": "markdown",
   "metadata": {},
   "source": [
    "## Implementation of Cluster Method"
   ]
  },
  {
   "cell_type": "markdown",
   "metadata": {},
   "source": [
    "## KMeans Algorithm"
   ]
  },
  {
   "cell_type": "code",
   "execution_count": 91,
   "metadata": {},
   "outputs": [],
   "source": [
    "from sklearn.cluster import KMeans\n",
    "plt.rcParams['figure.figsize']= (20,7)"
   ]
  },
  {
   "cell_type": "code",
   "execution_count": 94,
   "metadata": {},
   "outputs": [
    {
     "data": {
      "text/plain": [
       "KMeans(algorithm='auto', copy_x=True, init='k-means++', max_iter=300,\n",
       "       n_clusters=2, n_init=10, n_jobs=None, precompute_distances='auto',\n",
       "       random_state=None, tol=0.0001, verbose=0)"
      ]
     },
     "execution_count": 94,
     "metadata": {},
     "output_type": "execute_result"
    }
   ],
   "source": [
    "kmeans = KMeans(2)\n",
    "kmeans.fit(ranges)"
   ]
  },
  {
   "cell_type": "code",
   "execution_count": 99,
   "metadata": {},
   "outputs": [],
   "source": [
    "ranges['clusters_pred'] = kmeans.fit_predict(ranges)"
   ]
  },
  {
   "cell_type": "code",
   "execution_count": 100,
   "metadata": {},
   "outputs": [
    {
     "data": {
      "text/html": [
       "<div>\n",
       "<style scoped>\n",
       "    .dataframe tbody tr th:only-of-type {\n",
       "        vertical-align: middle;\n",
       "    }\n",
       "\n",
       "    .dataframe tbody tr th {\n",
       "        vertical-align: top;\n",
       "    }\n",
       "\n",
       "    .dataframe thead th {\n",
       "        text-align: right;\n",
       "    }\n",
       "</style>\n",
       "<table border=\"1\" class=\"dataframe\">\n",
       "  <thead>\n",
       "    <tr style=\"text-align: right;\">\n",
       "      <th></th>\n",
       "      <th>Temperature</th>\n",
       "      <th>Weekly_Sales</th>\n",
       "      <th>clusters_pred</th>\n",
       "    </tr>\n",
       "  </thead>\n",
       "  <tbody>\n",
       "    <tr>\n",
       "      <td>0</td>\n",
       "      <td>5.54</td>\n",
       "      <td>817485.14</td>\n",
       "      <td>0</td>\n",
       "    </tr>\n",
       "    <tr>\n",
       "      <td>1</td>\n",
       "      <td>6.23</td>\n",
       "      <td>1083071.14</td>\n",
       "      <td>0</td>\n",
       "    </tr>\n",
       "  </tbody>\n",
       "</table>\n",
       "</div>"
      ],
      "text/plain": [
       "   Temperature  Weekly_Sales  clusters_pred\n",
       "0         5.54     817485.14              0\n",
       "1         6.23    1083071.14              0"
      ]
     },
     "execution_count": 100,
     "metadata": {},
     "output_type": "execute_result"
    }
   ],
   "source": [
    "ranges.head(2)"
   ]
  },
  {
   "cell_type": "markdown",
   "metadata": {},
   "source": [
    "## Before Clustering"
   ]
  },
  {
   "cell_type": "code",
   "execution_count": 101,
   "metadata": {},
   "outputs": [
    {
     "data": {
      "text/plain": [
       "Text(0.5, 0, 'Temperature')"
      ]
     },
     "execution_count": 101,
     "metadata": {},
     "output_type": "execute_result"
    },
    {
     "data": {
      "image/png": "[encoded data removed]",
      "text/plain": [
       "<Figure size 1440x504 with 1 Axes>"
      ]
     },
     "metadata": {
      "needs_background": "light"
     },
     "output_type": "display_data"
    }
   ],
   "source": [
    "plt.figure()\n",
    "plt.scatter(ranges['Temperature'] , ranges['Weekly_Sales'])\n",
    "plt.ylabel('Weekly_Sales',fontsize=16)\n",
    "plt.xlabel('Temperature', fontsize=16)"
   ]
  },
  {
   "cell_type": "markdown",
   "metadata": {},
   "source": [
    "## After Clustering"
   ]
  },
  {
   "cell_type": "code",
   "execution_count": 102,
   "metadata": {},
   "outputs": [
    {
     "data": {
      "text/plain": [
       "Text(0.5, 0, 'Temperature')"
      ]
     },
     "execution_count": 102,
     "metadata": {},
     "output_type": "execute_result"
    },
    {
     "data": {
      "image/png": "[encoded data removed]",
      "text/plain": [
       "<Figure size 1440x504 with 1 Axes>"
      ]
     },
     "metadata": {
      "needs_background": "light"
     },
     "output_type": "display_data"
    }
   ],
   "source": [
    "plt.scatter(ranges['Temperature'], ranges['Weekly_Sales'], c= ranges['clusters_pred'], cmap = 'rainbow')\n",
    "plt.ylabel('Weekly_Sales',fontsize=16)\n",
    "plt.xlabel('Temperature', fontsize=16)"
   ]
  },
  {
   "cell_type": "markdown",
   "metadata": {},
   "source": [
    "### Explanation : We can see more sales happened in temperature ranges from 40 to 50 Farenheit."
   ]
  },
  {
   "cell_type": "code",
   "execution_count": null,
   "metadata": {},
   "outputs": [],
   "source": []
  }
 ],
 "metadata": {
  "kernelspec": {
   "display_name": "Python 3",
   "language": "python",
   "name": "python3"
  },
  "language_info": {
   "codemirror_mode": {
    "name": "ipython",
    "version": 3
   },
   "file_extension": ".py",
   "mimetype": "text/x-python",
   "name": "python",
   "nbconvert_exporter": "python",
   "pygments_lexer": "ipython3",
   "version": "3.7.4"
  }
 },
 "nbformat": 4,
 "nbformat_minor": 2
}
